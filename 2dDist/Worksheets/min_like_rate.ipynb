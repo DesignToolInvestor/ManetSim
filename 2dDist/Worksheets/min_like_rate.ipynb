{
 "cells": [
  {
   "metadata": {},
   "cell_type": "markdown",
   "source": "# The Convergence Rate of Minimum Likelihood",
   "id": "3e46a87de54ea3e9"
  },
  {
   "metadata": {},
   "cell_type": "code",
   "outputs": [],
   "execution_count": null,
   "source": [
    "from matplotlib import pyplot as plot\n",
    "from random import uniform\n",
    "from scipy.optimize import curve_fit, fsolve\n",
    "from sympy import Array, Product, Symbol, integrate, lambdify, log, prod, solve\n",
    "\n",
    "from LocUtil import Grid1, SetSeed\n",
    "from LocMath import RandLog"
   ],
   "id": "84bc58fd418ca53f"
  },
  {
   "metadata": {},
   "cell_type": "markdown",
   "source": "#### Constants",
   "id": "b1680e2f9d04aaed"
  },
  {
   "metadata": {},
   "cell_type": "code",
   "outputs": [],
   "execution_count": null,
   "source": [
    "nMin,nMax = (10, 1_000)\n",
    "nN = 300\n",
    "seedDig = 5"
   ],
   "id": "64453f4e3636fda2"
  },
  {
   "metadata": {},
   "cell_type": "markdown",
   "source": "#### Define the Distribution",
   "id": "349e06c44c2f5de4"
  },
  {
   "metadata": {},
   "cell_type": "code",
   "outputs": [],
   "execution_count": null,
   "source": [
    "xSym = Symbol('x')\n",
    "\n",
    "aSym = Symbol('a')\n",
    "bSym = Symbol('b')"
   ],
   "id": "9b05cb4e0ff2e30a"
  },
  {
   "metadata": {},
   "cell_type": "code",
   "outputs": [],
   "execution_count": null,
   "source": [
    "pdf = 2*(1 - aSym) * xSym + aSym\n",
    "pdf"
   ],
   "id": "d4abb26f475a6517"
  },
  {
   "metadata": {},
   "cell_type": "code",
   "outputs": [],
   "execution_count": null,
   "source": "",
   "id": "1bdbd19b7b061550"
  },
  {
   "metadata": {},
   "cell_type": "code",
   "outputs": [],
   "execution_count": null,
   "source": [
    "def InvCdfFunc(a):\n",
    "\tif abs(a - 1) < 0.01:\n",
    "\t\tresult = approxAt1.subs(aSym,a)\n",
    "\telse:\n",
    "\t\tresult = invCdf.subs(aSym, a).simplify()\n",
    "\t  \n",
    "\treturn lambdify(ySym, result)"
   ],
   "id": "9aabc77a3da0a400"
  },
  {
   "metadata": {},
   "cell_type": "markdown",
   "source": "#### Define Functions",
   "id": "5fbd5f0873ae51cf"
  },
  {
   "metadata": {},
   "cell_type": "code",
   "outputs": [],
   "execution_count": null,
   "source": "",
   "id": "f44660a2826cd855"
  },
  {
   "metadata": {},
   "cell_type": "code",
   "outputs": [],
   "execution_count": null,
   "source": [
    "def GenSamp(a, nSamp):\n",
    "\tsampCdf = [uniform(0,1) for _ in range(nSamp)]\n",
    "\tinvCdfFunc = InvCdfFunc(a)\n",
    "\tx = [invCdfFunc(c) for c in sampCdf]\n",
    "\t\n",
    "\treturn x"
   ],
   "id": "72a79db179f909bb"
  },
  {
   "metadata": {},
   "cell_type": "code",
   "outputs": [],
   "execution_count": null,
   "source": "derivLogLikeTerm = log(pdf).diff(aSym).simplify()",
   "id": "3f7ce361fc1d0565"
  },
  {
   "metadata": {},
   "cell_type": "code",
   "outputs": [],
   "execution_count": null,
   "source": [
    "def Error(a,nSamp):\n",
    "\tsampSort = sorted(GenSamp(a,nSamp))\n",
    "\tderivLogLike = lambdify(aSym, sum(derivLogLikeTerm.subs(xSym, x) for x in samp))\n",
    "\taEst = fsolve(derivLogLike, 1)\n",
    "\t\n",
    "\treturn aEst - a"
   ],
   "id": "8b80477a099819a0"
  },
  {
   "metadata": {},
   "cell_type": "markdown",
   "source": "### Generate Graph",
   "id": "9bab17fbb685dff8"
  }
 ],
 "metadata": {
  "kernelspec": {
   "display_name": "Python 3",
   "language": "python",
   "name": "python3"
  },
  "language_info": {
   "codemirror_mode": {
    "name": "ipython",
    "version": 2
   },
   "file_extension": ".py",
   "mimetype": "text/x-python",
   "name": "python",
   "nbconvert_exporter": "python",
   "pygments_lexer": "ipython2",
   "version": "2.7.6"
  }
 },
 "nbformat": 4,
 "nbformat_minor": 5
}
