{
 "cells": [
  {
   "metadata": {},
   "cell_type": "markdown",
   "source": "# The Convergence Rate of Minimum Likelihood",
   "id": "3e46a87de54ea3e9"
  },
  {
   "metadata": {
    "ExecuteTime": {
     "end_time": "2024-06-03T20:08:43.388678Z",
     "start_time": "2024-06-03T20:08:43.381677Z"
    }
   },
   "cell_type": "code",
   "source": [
    "from matplotlib import pyplot as plot\n",
    "from random import uniform\n",
    "from pickle import load\n",
    "from scipy.optimize import curve_fit, fsolve\n",
    "from sympy import Array, Product, Symbol, integrate, lambdify, log, prod, solve\n",
    "\n",
    "from LocUtil import Grid1, SetSeed\n",
    "from LocMath import RandLog"
   ],
   "id": "84bc58fd418ca53f",
   "outputs": [],
   "execution_count": 6
  },
  {
   "metadata": {},
   "cell_type": "markdown",
   "source": [
    "## Setup\n",
    "#### Constants"
   ],
   "id": "b1680e2f9d04aaed"
  },
  {
   "metadata": {
    "ExecuteTime": {
     "end_time": "2024-06-03T20:08:44.534814Z",
     "start_time": "2024-06-03T20:08:44.531037Z"
    }
   },
   "cell_type": "code",
   "source": [
    "nMin,nMax = (10, 1_000)\n",
    "nN = 300\n",
    "\n",
    "seedDig = 5\n",
    "\n",
    "fileName = 'dist_a.pickle'"
   ],
   "id": "64453f4e3636fda2",
   "outputs": [],
   "execution_count": 7
  },
  {
   "metadata": {},
   "cell_type": "markdown",
   "source": "#### Symbols",
   "id": "18f100748fea3bfa"
  },
  {
   "metadata": {
    "ExecuteTime": {
     "end_time": "2024-06-03T20:08:45.771757Z",
     "start_time": "2024-06-03T20:08:45.766683Z"
    }
   },
   "cell_type": "code",
   "source": [
    "xSym = Symbol('x')\n",
    "aSym = Symbol('a')"
   ],
   "id": "fb388aa5a6814d2",
   "outputs": [],
   "execution_count": 8
  },
  {
   "metadata": {},
   "cell_type": "markdown",
   "source": "#### Load the Distribution",
   "id": "dc16df861a4ee812"
  },
  {
   "metadata": {
    "ExecuteTime": {
     "end_time": "2024-06-03T20:34:07.408612Z",
     "start_time": "2024-06-03T20:34:07.388519Z"
    }
   },
   "cell_type": "code",
   "source": [
    "with open(fileName, 'rb') as file:\n",
    "\ttemp = load(file)\n",
    "temp"
   ],
   "id": "eaf41b0cb9a679e0",
   "outputs": [
    {
     "ename": "AttributeError",
     "evalue": "Can't get attribute 'PdfFuncGen' on <module '__main__'>",
     "output_type": "error",
     "traceback": [
      "\u001B[1;31m---------------------------------------------------------------------------\u001B[0m",
      "\u001B[1;31mAttributeError\u001B[0m                            Traceback (most recent call last)",
      "Cell \u001B[1;32mIn[15], line 2\u001B[0m\n\u001B[0;32m      1\u001B[0m \u001B[38;5;28;01mwith\u001B[39;00m \u001B[38;5;28mopen\u001B[39m(fileName, \u001B[38;5;124m'\u001B[39m\u001B[38;5;124mrb\u001B[39m\u001B[38;5;124m'\u001B[39m) \u001B[38;5;28;01mas\u001B[39;00m file:\n\u001B[1;32m----> 2\u001B[0m \ttemp \u001B[38;5;241m=\u001B[39m \u001B[43mload\u001B[49m\u001B[43m(\u001B[49m\u001B[43mfile\u001B[49m\u001B[43m)\u001B[49m\n\u001B[0;32m      3\u001B[0m temp\n",
      "\u001B[1;31mAttributeError\u001B[0m: Can't get attribute 'PdfFuncGen' on <module '__main__'>"
     ]
    }
   ],
   "execution_count": 15
  },
  {
   "metadata": {},
   "cell_type": "markdown",
   "source": "#### Define Functions",
   "id": "5fbd5f0873ae51cf"
  },
  {
   "metadata": {
    "ExecuteTime": {
     "end_time": "2024-06-02T15:06:31.999261Z",
     "start_time": "2024-06-02T15:06:31.998262Z"
    }
   },
   "cell_type": "code",
   "source": [
    "def GenSamp(a, nSamp):\n",
    "\tsampCdf = [uniform(0,1) for _ in range(nSamp)]\n",
    "\tinvCdfFunc = dist.InvCdfFunc(a)\n",
    "\tx = [invCdfFunc(c) for c in sampCdf]\n",
    "\t\n",
    "\treturn x"
   ],
   "id": "72a79db179f909bb",
   "outputs": [],
   "execution_count": null
  },
  {
   "metadata": {
    "ExecuteTime": {
     "end_time": "2024-06-02T15:06:32.001261Z",
     "start_time": "2024-06-02T15:06:32.001261Z"
    }
   },
   "cell_type": "code",
   "source": "derivLogLikeTerm = log(dist.pdf).diff(aSym).simplify()",
   "id": "3f7ce361fc1d0565",
   "outputs": [],
   "execution_count": null
  },
  {
   "metadata": {
    "ExecuteTime": {
     "end_time": "2024-06-02T15:06:32.004256Z",
     "start_time": "2024-06-02T15:06:32.003256Z"
    }
   },
   "cell_type": "code",
   "source": [
    "def Error(a,nSamp):\n",
    "\tsamp = GenSamp(a,nSamp)\n",
    "\tderivLogLike = lambdify(aSym, sum(derivLogLikeTerm.subs(xSym, x) for x in samp))\n",
    "\taEst = fsolve(derivLogLike, 1)\n",
    "\t\n",
    "\treturn aEst - a"
   ],
   "id": "8b80477a099819a0",
   "outputs": [],
   "execution_count": null
  },
  {
   "metadata": {},
   "cell_type": "markdown",
   "source": "## Generate Graph",
   "id": "9bab17fbb685dff8"
  },
  {
   "metadata": {
    "ExecuteTime": {
     "end_time": "2024-06-02T15:06:32.005255Z",
     "start_time": "2024-06-02T15:06:32.005255Z"
    }
   },
   "cell_type": "code",
   "source": "a = 1",
   "id": "9c7374d0a6ad42c7",
   "outputs": [],
   "execution_count": null
  },
  {
   "metadata": {
    "ExecuteTime": {
     "end_time": "2024-06-02T15:06:32.009251Z",
     "start_time": "2024-06-02T15:06:32.008251Z"
    }
   },
   "cell_type": "code",
   "source": [
    "nL = [RandLog(nMin,nMax) for _ in range(nN)]\n",
    "seedL = [uniform(0, (10 ** seedDig) - 1) for _ in range(nN)]"
   ],
   "id": "7bc3e0e6747b59b9",
   "outputs": [],
   "execution_count": null
  },
  {
   "metadata": {},
   "cell_type": "code",
   "source": "error = [Error(a, nL[k]) for k in range(nN)]",
   "id": "de4ea9590b73297",
   "outputs": [],
   "execution_count": null
  },
  {
   "metadata": {},
   "cell_type": "code",
   "source": "plot.plot(nL, error, '.', c='maroon')",
   "id": "191c06c224a75534",
   "outputs": [],
   "execution_count": null
  }
 ],
 "metadata": {
  "kernelspec": {
   "display_name": "Python 3",
   "language": "python",
   "name": "python3"
  },
  "language_info": {
   "codemirror_mode": {
    "name": "ipython",
    "version": 2
   },
   "file_extension": ".py",
   "mimetype": "text/x-python",
   "name": "python",
   "nbconvert_exporter": "python",
   "pygments_lexer": "ipython2",
   "version": "2.7.6"
  }
 },
 "nbformat": 4,
 "nbformat_minor": 5
}
