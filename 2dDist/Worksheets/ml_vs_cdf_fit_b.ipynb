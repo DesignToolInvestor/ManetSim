{
 "cells": [
  {
   "metadata": {},
   "cell_type": "markdown",
   "source": "# Maximum Likelihood vs CDF Fit (Spiral B)",
   "id": "1a38169957cac74d"
  },
  {
   "metadata": {
    "ExecuteTime": {
     "end_time": "2024-06-24T20:45:11.109331Z",
     "start_time": "2024-06-24T20:45:11.104542Z"
    }
   },
   "cell_type": "code",
   "source": [
    "import matplotlib.pyplot as plot\n",
    "from math import sqrt\n",
    "from scipy.optimize import curve_fit\n",
    "\n",
    "import DistA\n",
    "import MaxLikeEst as Mle\n",
    "\n",
    "from LocUtil import Grid1, SetSeed\n",
    "from LocMath import RandLog\n",
    "from StopWatch import StopWatch"
   ],
   "id": "a68170e5d0f1684e",
   "outputs": [],
   "execution_count": 303
  },
  {
   "metadata": {},
   "cell_type": "markdown",
   "source": "#### Constants",
   "id": "4d231bca697e1dbc"
  },
  {
   "metadata": {
    "ExecuteTime": {
     "end_time": "2024-06-24T19:55:30.337324Z",
     "start_time": "2024-06-24T19:55:30.332645Z"
    }
   },
   "cell_type": "code",
   "source": [
    "minN = 30\n",
    "maxN = 3_000\n",
    "nN = 100\n",
    "\n",
    "givenSeed = None\n",
    "seedDig = 3\n",
    "\n",
    "nPlot = 101"
   ],
   "id": "256b797e285c8253",
   "outputs": [],
   "execution_count": 247
  },
  {
   "metadata": {},
   "cell_type": "markdown",
   "source": "### Generate a list of 'N' values",
   "id": "fcd4cf6567699b07"
  },
  {
   "metadata": {
    "ExecuteTime": {
     "end_time": "2024-06-24T19:55:31.394699Z",
     "start_time": "2024-06-24T19:55:31.387595Z"
    }
   },
   "cell_type": "code",
   "source": [
    "seed = SetSeed(givenSeed,seedDig)\n",
    "seed"
   ],
   "id": "2a1d4fe58f7b5ff8",
   "outputs": [
    {
     "data": {
      "text/plain": [
       "383"
      ]
     },
     "execution_count": 248,
     "metadata": {},
     "output_type": "execute_result"
    }
   ],
   "execution_count": 248
  },
  {
   "metadata": {
    "ExecuteTime": {
     "end_time": "2024-06-24T19:55:31.843503Z",
     "start_time": "2024-06-24T19:55:31.838152Z"
    }
   },
   "cell_type": "code",
   "source": "aTrue = 0.3",
   "id": "babe0e3142d6948b",
   "outputs": [],
   "execution_count": 249
  },
  {
   "metadata": {
    "ExecuteTime": {
     "end_time": "2024-06-24T19:55:32.324857Z",
     "start_time": "2024-06-24T19:55:32.317899Z"
    }
   },
   "cell_type": "code",
   "source": [
    "nL = tuple(sorted(round(RandLog(minN,maxN)) for _ in range(nN))) \n",
    "nL[:10]"
   ],
   "id": "4dbdcff35a414d6",
   "outputs": [
    {
     "data": {
      "text/plain": [
       "(31, 32, 32, 34, 35, 38, 38, 39, 43, 45)"
      ]
     },
     "execution_count": 250,
     "metadata": {},
     "output_type": "execute_result"
    }
   ],
   "execution_count": 250
  },
  {
   "metadata": {
    "ExecuteTime": {
     "end_time": "2024-06-24T19:55:33.018659Z",
     "start_time": "2024-06-24T19:55:32.660194Z"
    }
   },
   "cell_type": "code",
   "source": [
    "q = tuple((k + 0.5)/nN for k in range(nN))\n",
    "\n",
    "plot.semilogx(tuple(nL),q, '.', color='maroon')\n",
    "\n",
    "plot.xlabel('N')\n",
    "plot.ylabel('Quantile')"
   ],
   "id": "3f7619e70cf140f7",
   "outputs": [
    {
     "data": {
      "text/plain": [
       "Text(0, 0.5, 'Quantile')"
      ]
     },
     "execution_count": 251,
     "metadata": {},
     "output_type": "execute_result"
    },
    {
     "data": {
      "text/plain": [
       "<Figure size 640x480 with 1 Axes>"
      ],
      "image/png": "[encoded data removed]"
     },
     "metadata": {},
     "output_type": "display_data"
    }
   ],
   "execution_count": 251
  },
  {
   "metadata": {},
   "cell_type": "markdown",
   "source": "## Accuracy for Maximum Likelihood Estimation",
   "id": "53afd70f694997c6"
  },
  {
   "metadata": {
    "ExecuteTime": {
     "end_time": "2024-06-24T20:26:03.261428Z",
     "start_time": "2024-06-24T20:26:03.252629Z"
    }
   },
   "cell_type": "code",
   "source": [
    "import importlib\n",
    "importlib.reload(Mle)"
   ],
   "id": "b0e57550ad12d6e5",
   "outputs": [
    {
     "data": {
      "text/plain": [
       "<module 'MaxLikeEst' from 'F:\\\\Users\\\\Kenne.DESKTOP-BT6VROU\\\\Documents\\\\GitHub\\\\ManetSim\\\\2dDist\\\\MaxLikeEst.py'>"
      ]
     },
     "execution_count": 282,
     "metadata": {},
     "output_type": "execute_result"
    }
   ],
   "execution_count": 282
  },
  {
   "metadata": {
    "ExecuteTime": {
     "end_time": "2024-06-24T20:31:10.077796Z",
     "start_time": "2024-06-24T20:26:03.700812Z"
    }
   },
   "cell_type": "code",
   "source": [
    "timer = StopWatch(running=True)\n",
    "\n",
    "aEst = []\n",
    "for n in nL:\n",
    "\tfuckPy = (DistA.GenSamp(aTrue) for _ in range(n))\n",
    "\taEst.append(Mle.MaxLikeDistA(fuckPy))\n",
    "\t\n",
    "timer.Stop()\n",
    "print(timer.Delta())"
   ],
   "id": "4d29f7fcdb157ad8",
   "outputs": [
    {
     "name": "stdout",
     "output_type": "stream",
     "text": [
      "0:05:06.371109\n"
     ]
    }
   ],
   "execution_count": 283
  },
  {
   "metadata": {
    "ExecuteTime": {
     "end_time": "2024-06-24T20:50:35.609243Z",
     "start_time": "2024-06-24T20:50:35.604113Z"
    }
   },
   "cell_type": "code",
   "source": [
    "err = tuple(est - aTrue for est in aEst)\n",
    "errAbs = tuple(abs(e) for e in err)"
   ],
   "id": "a337464ba5198673",
   "outputs": [],
   "execution_count": 307
  },
  {
   "metadata": {
    "ExecuteTime": {
     "end_time": "2024-06-24T20:50:36.136935Z",
     "start_time": "2024-06-24T20:50:36.132790Z"
    }
   },
   "cell_type": "code",
   "source": [
    "def form(nL, k0,k1):\n",
    "\tresult = tuple(k0 / n**k1 for n in nL)\n",
    "\treturn result"
   ],
   "id": "80bd4c501991f727",
   "outputs": [],
   "execution_count": 308
  },
  {
   "metadata": {
    "ExecuteTime": {
     "end_time": "2024-06-24T20:50:59.209003Z",
     "start_time": "2024-06-24T20:50:59.200515Z"
    }
   },
   "cell_type": "code",
   "source": [
    "optParam,_ = curve_fit(form, nL,errAbs)\n",
    "k0,k1 = optParam\n",
    "k0,k1"
   ],
   "id": "a296f8cef1f6aeb",
   "outputs": [
    {
     "data": {
      "text/plain": [
       "(6.334035784761518, 0.8686625288731233)"
      ]
     },
     "execution_count": 311,
     "metadata": {},
     "output_type": "execute_result"
    }
   ],
   "execution_count": 311
  },
  {
   "metadata": {
    "ExecuteTime": {
     "end_time": "2024-06-24T20:53:56.866147Z",
     "start_time": "2024-06-24T20:53:56.024560Z"
    }
   },
   "cell_type": "code",
   "source": [
    "plot.loglog(nL, errAbs, '.', color='maroon', label='samples')\n",
    "\n",
    "nGrid = Grid1(minN,maxN, nPlot)\n",
    "fitGrid = [k0 / n**k1 for n in nGrid]\n",
    "text = f'{k0:.2f} / n^{k1:.3f}'\n",
    "plot.loglog(nGrid, fitGrid, c='blue', label=text)\n",
    "\n",
    "plot.xlabel('N')\n",
    "plot.ylabel('Magnitude of Error')\n",
    "plot.legend()"
   ],
   "id": "7c8cf75f58df8eef",
   "outputs": [
    {
     "data": {
      "text/plain": [
       "<matplotlib.legend.Legend at 0x1a7236e8680>"
      ]
     },
     "execution_count": 316,
     "metadata": {},
     "output_type": "execute_result"
    },
    {
     "data": {
      "text/plain": [
       "<Figure size 640x480 with 1 Axes>"
      ],
      "image/png": "[encoded data removed]"
     },
     "metadata": {},
     "output_type": "display_data"
    }
   ],
   "execution_count": 316
  },
  {
   "metadata": {
    "ExecuteTime": {
     "end_time": "2024-06-24T20:48:13.082364Z",
     "start_time": "2024-06-24T20:48:13.079159Z"
    }
   },
   "cell_type": "code",
   "source": "",
   "id": "16c6079f6fd3b727",
   "outputs": [],
   "execution_count": 305
  },
  {
   "metadata": {},
   "cell_type": "code",
   "outputs": [],
   "execution_count": null,
   "source": "",
   "id": "e1bc5112ee7f7709"
  }
 ],
 "metadata": {
  "kernelspec": {
   "display_name": "Python 3",
   "language": "python",
   "name": "python3"
  },
  "language_info": {
   "codemirror_mode": {
    "name": "ipython",
    "version": 2
   },
   "file_extension": ".py",
   "mimetype": "text/x-python",
   "name": "python",
   "nbconvert_exporter": "python",
   "pygments_lexer": "ipython2",
   "version": "2.7.6"
  }
 },
 "nbformat": 4,
 "nbformat_minor": 5
}
