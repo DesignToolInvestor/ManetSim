{
 "cells": [
  {
   "metadata": {},
   "cell_type": "markdown",
   "source": "# Maximum Likelihood vs CDF-Fit (Spiral B)",
   "id": "1a38169957cac74d"
  },
  {
   "metadata": {
    "ExecuteTime": {
     "end_time": "2024-06-25T20:13:01.491844Z",
     "start_time": "2024-06-25T20:13:00.421459Z"
    }
   },
   "cell_type": "code",
   "source": [
    "from math import exp, log, sqrt\n",
    "import matplotlib.pyplot as plot\n",
    "from scipy.optimize import curve_fit\n",
    "\n",
    "from LocUtil import LogGrid1, Grid1, MinMax, UnZip"
   ],
   "id": "a68170e5d0f1684e",
   "outputs": [],
   "execution_count": 1
  },
  {
   "metadata": {
    "ExecuteTime": {
     "end_time": "2024-06-25T20:13:08.511885Z",
     "start_time": "2024-06-25T20:13:08.507488Z"
    }
   },
   "cell_type": "code",
   "source": [
    "aTrue = 0.3\n",
    "dataFile = '../Data/DistA_0.3.log'\n",
    "\n",
    "nPlot = 101"
   ],
   "id": "3c1251abea5ff47f",
   "outputs": [],
   "execution_count": 2
  },
  {
   "metadata": {},
   "cell_type": "markdown",
   "source": "#### Read Data",
   "id": "4d231bca697e1dbc"
  },
  {
   "metadata": {
    "ExecuteTime": {
     "end_time": "2024-06-25T20:13:11.576730Z",
     "start_time": "2024-06-25T20:13:11.560347Z"
    }
   },
   "cell_type": "code",
   "source": [
    "with open(dataFile, 'r') as file:\n",
    "\tlines = file.readlines()\n",
    "data = [eval(l) for l in lines]"
   ],
   "id": "71db2dec2f7c1f83",
   "outputs": [],
   "execution_count": 3
  },
  {
   "metadata": {
    "ExecuteTime": {
     "end_time": "2024-06-25T20:13:12.871927Z",
     "start_time": "2024-06-25T20:13:12.866870Z"
    }
   },
   "cell_type": "code",
   "source": [
    "sampInfo,mleInfo,cdfInfo = UnZip(data)\n",
    "\n",
    "nL,_,_ = UnZip(sampInfo)\n",
    "mleEst,_ = UnZip(mleInfo)\n",
    "cdfEst,_ = UnZip(cdfInfo)"
   ],
   "id": "b5c845fcdc4962ee",
   "outputs": [],
   "execution_count": 4
  },
  {
   "metadata": {
    "ExecuteTime": {
     "end_time": "2024-06-25T20:13:13.617671Z",
     "start_time": "2024-06-25T20:13:13.613165Z"
    }
   },
   "cell_type": "code",
   "source": "nMin,nMax = MinMax(nL)",
   "id": "9849667ac798fef1",
   "outputs": [],
   "execution_count": 5
  },
  {
   "metadata": {},
   "cell_type": "markdown",
   "source": "## Fit Data on Log-Log Scale",
   "id": "53afd70f694997c6"
  },
  {
   "metadata": {
    "ExecuteTime": {
     "end_time": "2024-06-25T20:13:15.336912Z",
     "start_time": "2024-06-25T20:13:15.332404Z"
    }
   },
   "cell_type": "code",
   "source": "nLog = tuple(log(n) for n in nL)",
   "id": "1682528b36bfc40a",
   "outputs": [],
   "execution_count": 6
  },
  {
   "metadata": {
    "ExecuteTime": {
     "end_time": "2024-06-25T20:13:15.930115Z",
     "start_time": "2024-06-25T20:13:15.925299Z"
    }
   },
   "cell_type": "code",
   "source": [
    "mleErr = tuple(est - aTrue for est in mleEst)\n",
    "mleErrAbs = tuple(abs(e) for e in mleErr)\n",
    "mleLogErr = tuple(log(e) for e in mleErrAbs)"
   ],
   "id": "a337464ba5198673",
   "outputs": [],
   "execution_count": 7
  },
  {
   "metadata": {
    "ExecuteTime": {
     "end_time": "2024-06-25T20:13:16.477191Z",
     "start_time": "2024-06-25T20:13:16.472188Z"
    }
   },
   "cell_type": "code",
   "source": [
    "cdfErr = tuple(est - aTrue for est in cdfEst)\n",
    "cdfErrAbs = tuple(abs(e) for e in cdfErr)\n",
    "cdfLogErr = tuple(log(e) for e in cdfErrAbs)"
   ],
   "id": "d9517e9aaab7168b",
   "outputs": [],
   "execution_count": 8
  },
  {
   "metadata": {
    "ExecuteTime": {
     "end_time": "2024-06-25T20:13:17.004863Z",
     "start_time": "2024-06-25T20:13:17.000794Z"
    }
   },
   "cell_type": "code",
   "source": "linForm = lambda x,a0,a1: a0 + a1*x",
   "id": "72fcc8bab3ccf076",
   "outputs": [],
   "execution_count": 9
  },
  {
   "metadata": {
    "ExecuteTime": {
     "end_time": "2024-06-25T20:13:18.124083Z",
     "start_time": "2024-06-25T20:13:18.113339Z"
    }
   },
   "cell_type": "code",
   "source": [
    "mleParam,_ = curve_fit(linForm, nLog,mleLogErr)\n",
    "mleParam"
   ],
   "id": "a296f8cef1f6aeb",
   "outputs": [
    {
     "data": {
      "text/plain": [
       "array([-0.12339145, -0.49908947])"
      ]
     },
     "execution_count": 10,
     "metadata": {},
     "output_type": "execute_result"
    }
   ],
   "execution_count": 10
  },
  {
   "metadata": {
    "ExecuteTime": {
     "end_time": "2024-06-25T20:13:18.954936Z",
     "start_time": "2024-06-25T20:13:18.942838Z"
    }
   },
   "cell_type": "code",
   "source": [
    "cdfParam,_ = curve_fit(linForm, nLog,cdfLogErr)\n",
    "cdfParam"
   ],
   "id": "b42317afd4e47d7a",
   "outputs": [
    {
     "data": {
      "text/plain": [
       "array([ 0.25351541, -0.5539402 ])"
      ]
     },
     "execution_count": 11,
     "metadata": {},
     "output_type": "execute_result"
    }
   ],
   "execution_count": 11
  },
  {
   "metadata": {},
   "cell_type": "markdown",
   "source": "### Plot the MLE Error",
   "id": "d89ba3fd9d31c770"
  },
  {
   "metadata": {
    "ExecuteTime": {
     "end_time": "2024-06-25T20:13:21.654350Z",
     "start_time": "2024-06-25T20:13:20.437058Z"
    }
   },
   "cell_type": "code",
   "source": [
    "plot.loglog(nL, mleErr, '.', color='maroon', label='samples')\n",
    "\n",
    "nGrid = LogGrid1(nMin,nMax, nPlot)\n",
    "\n",
    "a0,a1 = mleParam\n",
    "fitGrid = [exp(a0) * n**a1 for n in nGrid]\n",
    "text = f'{exp(a0):.2f} / n^{-a1:.3f}'\n",
    "plot.loglog(nGrid, fitGrid, c='blue', label=text)\n",
    "\n",
    "plot.xlabel('N')\n",
    "plot.ylabel('Magnitude of Error')\n",
    "plot.legend()"
   ],
   "id": "7c8cf75f58df8eef",
   "outputs": [
    {
     "data": {
      "text/plain": [
       "<matplotlib.legend.Legend at 0x27074fef770>"
      ]
     },
     "execution_count": 12,
     "metadata": {},
     "output_type": "execute_result"
    },
    {
     "data": {
      "text/plain": [
       "<Figure size 640x480 with 1 Axes>"
      ],
      "image/png": "[encoded data removed]"
     },
     "metadata": {},
     "output_type": "display_data"
    }
   ],
   "execution_count": 12
  },
  {
   "metadata": {},
   "cell_type": "markdown",
   "source": "### Plot the CDF-Fit Error",
   "id": "fe3a7b1f3519e387"
  },
  {
   "metadata": {
    "ExecuteTime": {
     "end_time": "2024-06-25T20:13:26.154961Z",
     "start_time": "2024-06-25T20:13:25.375255Z"
    }
   },
   "cell_type": "code",
   "source": [
    "plot.loglog(nL, cdfErr, '.', color='maroon', label='samples')\n",
    "\n",
    "nGrid = LogGrid1(nMin,nMax, nPlot)\n",
    "\n",
    "a0,a1 = cdfParam\n",
    "fitGrid = [exp(a0) * n**a1 for n in nGrid]\n",
    "text = f'{exp(a0):.2f} / n^{-a1:.3f}'\n",
    "plot.loglog(nGrid, fitGrid, c='blue', label=text)\n",
    "\n",
    "plot.xlabel('N')\n",
    "plot.ylabel('Magnitude of Error')\n",
    "plot.legend()"
   ],
   "id": "c6c05dea60c06ba8",
   "outputs": [
    {
     "data": {
      "text/plain": [
       "<matplotlib.legend.Legend at 0x2707ebf4ce0>"
      ]
     },
     "execution_count": 13,
     "metadata": {},
     "output_type": "execute_result"
    },
    {
     "data": {
      "text/plain": [
       "<Figure size 640x480 with 1 Axes>"
      ],
      "image/png": "[encoded data removed]"
     },
     "metadata": {},
     "output_type": "display_data"
    }
   ],
   "execution_count": 13
  },
  {
   "metadata": {},
   "cell_type": "code",
   "outputs": [],
   "execution_count": null,
   "source": "",
   "id": "81533b137fdff855"
  }
 ],
 "metadata": {
  "kernelspec": {
   "display_name": "Python 3",
   "language": "python",
   "name": "python3"
  },
  "language_info": {
   "codemirror_mode": {
    "name": "ipython",
    "version": 2
   },
   "file_extension": ".py",
   "mimetype": "text/x-python",
   "name": "python",
   "nbconvert_exporter": "python",
   "pygments_lexer": "ipython2",
   "version": "2.7.6"
  }
 },
 "nbformat": 4,
 "nbformat_minor": 5
}
