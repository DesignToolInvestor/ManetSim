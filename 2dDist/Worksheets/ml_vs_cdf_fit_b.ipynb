{
 "cells": [
  {
   "metadata": {},
   "cell_type": "markdown",
   "source": "# Maximum Likelihood vs CDF-Fit (Spiral B)",
   "id": "1a38169957cac74d"
  },
  {
   "metadata": {
    "ExecuteTime": {
     "end_time": "2024-06-27T21:23:49.543688Z",
     "start_time": "2024-06-27T21:23:49.468016Z"
    }
   },
   "cell_type": "code",
   "source": [
    "import matplotlib.pyplot as plot\n",
    "import numpy as np\n",
    "import sympy as sp\n",
    "\n",
    "from sympy import Symbol, lambdify\n",
    "\n",
    "from math import exp, log, sqrt\n",
    "from scipy.optimize import curve_fit, fsolve\n",
    "\n",
    "import DistA as dist\n",
    "\n",
    "from StopWatch import StopWatch\n",
    "from LocUtil import LogGrid1, Grid1, MinMax, UnZip\n",
    "from LocMath import RandLog"
   ],
   "id": "a68170e5d0f1684e",
   "outputs": [],
   "execution_count": 44
  },
  {
   "metadata": {},
   "cell_type": "markdown",
   "source": "#### Constants",
   "id": "51ff3c39d6a77df2"
  },
  {
   "metadata": {
    "ExecuteTime": {
     "end_time": "2024-06-27T20:58:16.783005Z",
     "start_time": "2024-06-27T20:58:16.776642Z"
    }
   },
   "cell_type": "code",
   "source": [
    "aTrue = 1.7\n",
    "\n",
    "nMin = 30\n",
    "nMax = 30_000\n",
    "nN = 300\n",
    "\n",
    "givenSeed = None\n",
    "\n",
    "nPlot = 101"
   ],
   "id": "3c1251abea5ff47f",
   "outputs": [],
   "execution_count": 2
  },
  {
   "metadata": {},
   "cell_type": "markdown",
   "source": "#### Generate List of N's",
   "id": "4d231bca697e1dbc"
  },
  {
   "metadata": {
    "ExecuteTime": {
     "end_time": "2024-06-27T21:23:53.575647Z",
     "start_time": "2024-06-27T21:23:53.569434Z"
    }
   },
   "cell_type": "code",
   "source": "nL = tuple(round(RandLog(nMin,nMax)) for _ in range(nN))",
   "id": "f888112ae1e1b86",
   "outputs": [
    {
     "data": {
      "text/plain": [
       "(153, 1221, 693, 42, 201, 1346, 136, 549, 1402, 1524)"
      ]
     },
     "execution_count": 45,
     "metadata": {},
     "output_type": "execute_result"
    }
   ],
   "execution_count": 45
  },
  {
   "metadata": {},
   "cell_type": "markdown",
   "source": "## Estimation Code",
   "id": "a7459c82e83e626a"
  },
  {
   "metadata": {
    "ExecuteTime": {
     "end_time": "2024-06-27T20:59:42.405414Z",
     "start_time": "2024-06-27T20:59:42.375316Z"
    }
   },
   "cell_type": "code",
   "source": [
    "termSym = sp.log(dist.pdfSym).diff(dist.aSym).simplify()\n",
    "termSym"
   ],
   "id": "e484cb82cb553907",
   "outputs": [
    {
     "data": {
      "text/plain": [
       "(1 - 2*x)/(a - 2*x*(a - 1))"
      ],
      "text/latex": "$\\displaystyle \\frac{1 - 2 x}{a - 2 x \\left(a - 1\\right)}$"
     },
     "execution_count": 9,
     "metadata": {},
     "output_type": "execute_result"
    }
   ],
   "execution_count": 9
  },
  {
   "metadata": {},
   "cell_type": "markdown",
   "source": "#### Hand Coded",
   "id": "2c468a463c5056a6"
  },
  {
   "metadata": {
    "ExecuteTime": {
     "end_time": "2024-06-27T21:05:37.623573Z",
     "start_time": "2024-06-27T21:05:37.619376Z"
    }
   },
   "cell_type": "code",
   "source": [
    "def MaxEst(samp):\n",
    "  def f(a, samp):\n",
    "    assert(type(samp) == np.ndarray)\n",
    "    terms = (1 - 2*samp) / (a + 2*(1 - a) * samp)\n",
    "    result = np.sum(terms)\n",
    "    return result\n",
    "\n",
    "  result = fsolve(f,1, args=samp)\n",
    "  return result[0]"
   ],
   "id": "bbe45286b4bbf308",
   "outputs": [],
   "execution_count": 30
  },
  {
   "metadata": {
    "ExecuteTime": {
     "end_time": "2024-06-27T21:05:42.865932Z",
     "start_time": "2024-06-27T21:05:42.858293Z"
    }
   },
   "cell_type": "code",
   "source": [
    "timer = StopWatch(running=True)\n",
    "est = MaxEst(sampNp)\n",
    "timer.Stop()\n",
    "est, f'{timer.Delta()}'"
   ],
   "id": "a601a71a1f864ed2",
   "outputs": [
    {
     "data": {
      "text/plain": [
       "(1.696763550584114, '0:00:00.001719')"
      ]
     },
     "execution_count": 32,
     "metadata": {},
     "output_type": "execute_result"
    }
   ],
   "execution_count": 32
  },
  {
   "metadata": {},
   "cell_type": "markdown",
   "source": "### MLE Estimator",
   "id": "d4e70685e366f7a2"
  },
  {
   "metadata": {
    "ExecuteTime": {
     "end_time": "2024-06-27T21:24:36.287332Z",
     "start_time": "2024-06-27T21:24:36.280954Z"
    }
   },
   "cell_type": "code",
   "source": [
    "def MleEst(samp):\n",
    "  termSym = sp.log(dist.pdfSym).diff(dist.aSym).simplify()\n",
    "  \n",
    "  fTemp = (\n",
    "    'def f(a, x):\\n'\n",
    "    '  terms = {}\\n'\n",
    "    '  result = np.sum(terms)\\n'\n",
    "    '  return result'\n",
    "  )\n",
    "  fCode = fTemp.format(termSym)\n",
    "  # print(fCode)\n",
    "  \n",
    "  execScope = {}\n",
    "  exec(fCode, globals(), execScope)\n",
    "  f = execScope['f']\n",
    "  \n",
    "  timer = StopWatch(running=True)\n",
    "  ans = fsolve(f,1, args=samp)\n",
    "  timer.Stop()\n",
    "  print(timer.Delta())\n",
    "\n",
    "  return ans"
   ],
   "id": "a28709181a358619",
   "outputs": [],
   "execution_count": 48
  },
  {
   "metadata": {
    "ExecuteTime": {
     "end_time": "2024-06-27T21:10:55.915469Z",
     "start_time": "2024-06-27T21:10:55.885126Z"
    }
   },
   "cell_type": "code",
   "source": [
    "timer = StopWatch(running=True)\n",
    "est = MaxEst(sampNp)\n",
    "timer.Stop()\n",
    "est, f'{timer.Delta()}'"
   ],
   "id": "8d4c805c864e21aa",
   "outputs": [
    {
     "name": "stdout",
     "output_type": "stream",
     "text": [
      "0:00:00.001100\n"
     ]
    },
    {
     "data": {
      "text/plain": [
       "(array([1.69676355]), '0:00:00.023498')"
      ]
     },
     "execution_count": 37,
     "metadata": {},
     "output_type": "execute_result"
    }
   ],
   "execution_count": 37
  },
  {
   "metadata": {},
   "cell_type": "markdown",
   "source": [
    "Note that the *fsolve* takes 1.1 ms, while the exec (and a small amount of other setup) takes 22\n",
    ".3 ms"
   ],
   "id": "93920f387cc15eb"
  },
  {
   "metadata": {},
   "cell_type": "markdown",
   "source": "## Generate Data",
   "id": "620be6ee9f629c9b"
  },
  {
   "metadata": {
    "ExecuteTime": {
     "end_time": "2024-06-27T21:24:47.625989Z",
     "start_time": "2024-06-27T21:24:38.304929Z"
    }
   },
   "cell_type": "code",
   "source": [
    "mleEst = []\n",
    "\n",
    "for n in nL:\n",
    "  samp = np.array(tuple(dist.GenSamp(aTrue) for _ in range(n)))\n",
    "  \n",
    "  mEst = MleEst(samp)\n",
    "  mleEst.append(mEst)"
   ],
   "id": "77d9abef459f091e",
   "outputs": [
    {
     "name": "stdout",
     "output_type": "stream",
     "text": [
      "0:00:00.000548\n",
      "0:00:00.002423\n",
      "0:00:00.000873\n",
      "0:00:00.000669\n",
      "0:00:00.000382\n",
      "0:00:00.000571\n",
      "0:00:00.001411\n",
      "0:00:00.000483\n",
      "0:00:00.000604\n",
      "0:00:00.000600\n",
      "0:00:00.000417\n",
      "0:00:00.001544\n",
      "0:00:00.001977\n",
      "0:00:00.000483\n",
      "0:00:00.000489\n",
      "0:00:00.000427\n",
      "0:00:00.000457\n",
      "0:00:00.001362\n",
      "0:00:00.000854\n",
      "0:00:00.000502\n",
      "0:00:00.000474\n",
      "0:00:00.001376\n",
      "0:00:00.000569\n",
      "0:00:00.000607\n",
      "0:00:00.001506\n",
      "0:00:00.000737\n",
      "0:00:00.000468\n",
      "0:00:00.001872\n",
      "0:00:00.001491\n",
      "0:00:00.000693\n",
      "0:00:00.001627\n",
      "0:00:00.001084\n",
      "0:00:00.001826\n",
      "0:00:00.000663\n",
      "0:00:00.001717\n",
      "0:00:00.000834\n",
      "0:00:00.000644\n",
      "0:00:00.000665\n",
      "0:00:00.000670\n",
      "0:00:00.001006\n",
      "0:00:00.001147\n",
      "0:00:00.000437\n",
      "0:00:00.000523\n",
      "0:00:00.000471\n",
      "0:00:00.000518\n",
      "0:00:00.000471\n",
      "0:00:00.000504\n",
      "0:00:00.000613\n",
      "0:00:00.000758\n",
      "0:00:00.001666\n",
      "0:00:00.001206\n",
      "0:00:00.002578\n",
      "0:00:00.001670\n",
      "0:00:00.000462\n",
      "0:00:00.000422\n",
      "0:00:00.000740\n",
      "0:00:00.001244\n",
      "0:00:00.000869\n",
      "0:00:00.001476\n",
      "0:00:00.000475\n",
      "0:00:00.000797\n",
      "0:00:00.000628\n",
      "0:00:00.000427\n",
      "0:00:00.002737\n",
      "0:00:00.000590\n",
      "0:00:00.000704\n",
      "0:00:00.000573\n",
      "0:00:00.001287\n",
      "0:00:00.002166\n",
      "0:00:00.000526\n",
      "0:00:00.000711\n",
      "0:00:00.000523\n",
      "0:00:00.000498\n",
      "0:00:00.001306\n",
      "0:00:00.000495\n",
      "0:00:00.000627\n",
      "0:00:00.000549\n",
      "0:00:00.000747\n",
      "0:00:00.001018\n",
      "0:00:00.001449\n",
      "0:00:00.000480\n",
      "0:00:00.000493\n",
      "0:00:00.001247\n",
      "0:00:00.000725\n",
      "0:00:00.000725\n",
      "0:00:00.000434\n",
      "0:00:00.002345\n",
      "0:00:00.001651\n",
      "0:00:00.000484\n",
      "0:00:00.000856\n",
      "0:00:00.000565\n",
      "0:00:00.000412\n",
      "0:00:00.001071\n",
      "0:00:00.000469\n",
      "0:00:00.001679\n",
      "0:00:00.000502\n",
      "0:00:00.000449\n",
      "0:00:00.001589\n",
      "0:00:00.001932\n",
      "0:00:00.000458\n",
      "0:00:00.000555\n",
      "0:00:00.000452\n",
      "0:00:00.001206\n",
      "0:00:00.000444\n",
      "0:00:00.003415\n",
      "0:00:00.001537\n",
      "0:00:00.000590\n",
      "0:00:00.000518\n",
      "0:00:00.001181\n",
      "0:00:00.001831\n",
      "0:00:00.000474\n",
      "0:00:00.000563\n",
      "0:00:00.000709\n",
      "0:00:00.002243\n",
      "0:00:00.000473\n",
      "0:00:00.000446\n",
      "0:00:00.001299\n",
      "0:00:00.001698\n",
      "0:00:00.000451\n",
      "0:00:00.000582\n",
      "0:00:00.001058\n",
      "0:00:00.000472\n",
      "0:00:00.001282\n",
      "0:00:00.001206\n",
      "0:00:00.001816\n",
      "0:00:00.000833\n",
      "0:00:00.000821\n",
      "0:00:00.000558\n",
      "0:00:00.000545\n",
      "0:00:00.000609\n",
      "0:00:00.001754\n",
      "0:00:00.000360\n",
      "0:00:00.000532\n",
      "0:00:00.001105\n",
      "0:00:00.000702\n",
      "0:00:00.000775\n",
      "0:00:00.000435\n",
      "0:00:00.000614\n",
      "0:00:00.000407\n",
      "0:00:00.000440\n",
      "0:00:00.001076\n",
      "0:00:00.002473\n",
      "0:00:00.000506\n",
      "0:00:00.000570\n",
      "0:00:00.000486\n",
      "0:00:00.001943\n",
      "0:00:00.000441\n",
      "0:00:00.002039\n",
      "0:00:00.000761\n",
      "0:00:00.001169\n",
      "0:00:00.000468\n",
      "0:00:00.000957\n",
      "0:00:00.000498\n",
      "0:00:00.000722\n",
      "0:00:00.000553\n",
      "0:00:00.000766\n",
      "0:00:00.001597\n",
      "0:00:00.000831\n",
      "0:00:00.000864\n",
      "0:00:00.001786\n",
      "0:00:00.000405\n",
      "0:00:00.000644\n",
      "0:00:00.000684\n",
      "0:00:00.000425\n",
      "0:00:00.000586\n",
      "0:00:00.000543\n",
      "0:00:00.001116\n",
      "0:00:00.000434\n",
      "0:00:00.000555\n",
      "0:00:00.000531\n",
      "0:00:00.000595\n",
      "0:00:00.001856\n",
      "0:00:00.000531\n",
      "0:00:00.000655\n",
      "0:00:00.000654\n",
      "0:00:00.000604\n",
      "0:00:00.000528\n",
      "0:00:00.002029\n",
      "0:00:00.000787\n",
      "0:00:00.000883\n",
      "0:00:00.000565\n",
      "0:00:00.000736\n",
      "0:00:00.000597\n",
      "0:00:00.001111\n",
      "0:00:00.002646\n",
      "0:00:00.001240\n",
      "0:00:00.000727\n",
      "0:00:00.000618\n",
      "0:00:00.000496\n",
      "0:00:00.000789\n",
      "0:00:00.000720\n",
      "0:00:00.000617\n",
      "0:00:00.000809\n",
      "0:00:00.001509\n",
      "0:00:00.001189\n",
      "0:00:00.000681\n",
      "0:00:00.000416\n",
      "0:00:00.000449\n",
      "0:00:00.000590\n",
      "0:00:00.000635\n",
      "0:00:00.000461\n",
      "0:00:00.002235\n",
      "0:00:00.000500\n",
      "0:00:00.001192\n",
      "0:00:00.001374\n",
      "0:00:00.000436\n",
      "0:00:00.000483\n",
      "0:00:00.000535\n",
      "0:00:00.000613\n",
      "0:00:00.000549\n",
      "0:00:00.001242\n",
      "0:00:00.000432\n",
      "0:00:00.000676\n",
      "0:00:00.000436\n",
      "0:00:00.000488\n",
      "0:00:00.000750\n",
      "0:00:00.000445\n",
      "0:00:00.000528\n",
      "0:00:00.000737\n",
      "0:00:00.000702\n",
      "0:00:00.001638\n",
      "0:00:00.000406\n",
      "0:00:00.000448\n",
      "0:00:00.000402\n",
      "0:00:00.001522\n",
      "0:00:00.000523\n",
      "0:00:00.000527\n",
      "0:00:00.000685\n",
      "0:00:00.000909\n",
      "0:00:00.001444\n",
      "0:00:00.000840\n",
      "0:00:00.000570\n",
      "0:00:00.000403\n",
      "0:00:00.000415\n",
      "0:00:00.000779\n",
      "0:00:00.001048\n",
      "0:00:00.000551\n",
      "0:00:00.000400\n",
      "0:00:00.000431\n",
      "0:00:00.001929\n",
      "0:00:00.000520\n",
      "0:00:00.000460\n",
      "0:00:00.000521\n",
      "0:00:00.001227\n",
      "0:00:00.000574\n",
      "0:00:00.000702\n",
      "0:00:00.000408\n",
      "0:00:00.000401\n",
      "0:00:00.001536\n",
      "0:00:00.000590\n",
      "0:00:00.000524\n",
      "0:00:00.001178\n",
      "0:00:00.001275\n",
      "0:00:00.000526\n",
      "0:00:00.000488\n",
      "0:00:00.000514\n",
      "0:00:00.000453\n",
      "0:00:00.000459\n",
      "0:00:00.000666\n",
      "0:00:00.000431\n",
      "0:00:00.001692\n",
      "0:00:00.001820\n",
      "0:00:00.000743\n",
      "0:00:00.000524\n",
      "0:00:00.000722\n",
      "0:00:00.000759\n",
      "0:00:00.000546\n",
      "0:00:00.000534\n",
      "0:00:00.001323\n",
      "0:00:00.000533\n",
      "0:00:00.000575\n",
      "0:00:00.000461\n",
      "0:00:00.000429\n",
      "0:00:00.000437\n",
      "0:00:00.000773\n",
      "0:00:00.000464\n",
      "0:00:00.002801\n",
      "0:00:00.000595\n",
      "0:00:00.000441\n",
      "0:00:00.000580\n",
      "0:00:00.001338\n",
      "0:00:00.000465\n",
      "0:00:00.001050\n",
      "0:00:00.000395\n",
      "0:00:00.000666\n",
      "0:00:00.000501\n",
      "0:00:00.001270\n",
      "0:00:00.001243\n",
      "0:00:00.000784\n",
      "0:00:00.000471\n",
      "0:00:00.000439\n",
      "0:00:00.000379\n",
      "0:00:00.000450\n",
      "0:00:00.000512\n",
      "0:00:00.000420\n",
      "0:00:00.001733\n",
      "0:00:00.000599\n",
      "0:00:00.000548\n",
      "0:00:00.000637\n",
      "0:00:00.000459\n"
     ]
    }
   ],
   "execution_count": 49
  },
  {
   "metadata": {
    "ExecuteTime": {
     "end_time": "2024-06-27T21:25:51.489538Z",
     "start_time": "2024-06-27T21:25:51.484943Z"
    }
   },
   "cell_type": "code",
   "source": "mleErr = [aEst - aTrue for aEst in mleEst]",
   "id": "185732b9c5e6a588",
   "outputs": [],
   "execution_count": 50
  },
  {
   "metadata": {
    "ExecuteTime": {
     "end_time": "2024-06-27T21:26:17.738565Z",
     "start_time": "2024-06-27T21:26:15.377559Z"
    }
   },
   "cell_type": "code",
   "source": [
    "plot.loglog(nL, mleErr, '.', color='maroon', label='samples')\n",
    "\n",
    "# nGrid = LogGrid1(nMin,nMax, nPlot)\n",
    "# \n",
    "# a0,a1 = mleParam\n",
    "# fitGrid = [exp(a0) * n**a1 for n in nGrid]\n",
    "# text = f'{exp(a0):.2f} / n^{-a1:.3f}'\n",
    "# plot.loglog(nGrid, fitGrid, c='blue', label=text)\n",
    "\n",
    "plot.xlabel('N')\n",
    "plot.ylabel('Magnitude of Error')\n",
    "plot.legend()"
   ],
   "id": "157979996928b156",
   "outputs": [
    {
     "data": {
      "text/plain": [
       "<matplotlib.legend.Legend at 0x120f89fe4e0>"
      ]
     },
     "execution_count": 51,
     "metadata": {},
     "output_type": "execute_result"
    },
    {
     "data": {
      "text/plain": [
       "<Figure size 640x480 with 1 Axes>"
      ],
      "image/png": "[encoded data removed]"
     },
     "metadata": {},
     "output_type": "display_data"
    }
   ],
   "execution_count": 51
  },
  {
   "metadata": {},
   "cell_type": "code",
   "outputs": [],
   "execution_count": null,
   "source": "",
   "id": "523032d6f4504aef"
  },
  {
   "metadata": {},
   "cell_type": "markdown",
   "source": "## Fit Allowing Power to Adjust",
   "id": "53afd70f694997c6"
  },
  {
   "metadata": {
    "ExecuteTime": {
     "end_time": "2024-06-26T17:35:05.860678Z",
     "start_time": "2024-06-26T17:35:05.836502Z"
    }
   },
   "cell_type": "code",
   "source": "linForm = lambda x,a0,a1: a0 + a1*x",
   "id": "72fcc8bab3ccf076",
   "outputs": [],
   "execution_count": 9
  },
  {
   "metadata": {
    "ExecuteTime": {
     "end_time": "2024-06-26T17:35:06.044747Z",
     "start_time": "2024-06-26T17:35:05.865675Z"
    }
   },
   "cell_type": "code",
   "source": [
    "mleParam,_ = curve_fit(linForm, nLog,mleLogErr)\n",
    "mleParam"
   ],
   "id": "a296f8cef1f6aeb",
   "outputs": [
    {
     "data": {
      "text/plain": [
       "array([ 0.01199301, -0.52520715])"
      ]
     },
     "execution_count": 10,
     "metadata": {},
     "output_type": "execute_result"
    }
   ],
   "execution_count": 10
  },
  {
   "metadata": {
    "ExecuteTime": {
     "end_time": "2024-06-26T17:35:06.053090Z",
     "start_time": "2024-06-26T17:35:06.045750Z"
    }
   },
   "cell_type": "code",
   "source": [
    "cdfParam,_ = curve_fit(linForm, nLog,cdfLogErr)\n",
    "cdfParam"
   ],
   "id": "b42317afd4e47d7a",
   "outputs": [
    {
     "data": {
      "text/plain": [
       "array([ 0.04429228, -0.5296045 ])"
      ]
     },
     "execution_count": 11,
     "metadata": {},
     "output_type": "execute_result"
    }
   ],
   "execution_count": 11
  },
  {
   "metadata": {},
   "cell_type": "markdown",
   "source": "### Maximum Likelihood",
   "id": "d89ba3fd9d31c770"
  },
  {
   "metadata": {
    "ExecuteTime": {
     "end_time": "2024-06-26T17:35:07.759588Z",
     "start_time": "2024-06-26T17:35:06.055090Z"
    }
   },
   "cell_type": "code",
   "source": [
    "plot.loglog(nL, mleErr, '.', color='maroon', label='samples')\n",
    "\n",
    "nGrid = LogGrid1(nMin,nMax, nPlot)\n",
    "\n",
    "a0,a1 = mleParam\n",
    "fitGrid = [exp(a0) * n**a1 for n in nGrid]\n",
    "text = f'{exp(a0):.2f} / n^{-a1:.3f}'\n",
    "plot.loglog(nGrid, fitGrid, c='blue', label=text)\n",
    "\n",
    "plot.xlabel('N')\n",
    "plot.ylabel('Magnitude of Error')\n",
    "plot.legend()"
   ],
   "id": "7c8cf75f58df8eef",
   "outputs": [
    {
     "data": {
      "text/plain": [
       "<matplotlib.legend.Legend at 0x208721ef770>"
      ]
     },
     "execution_count": 12,
     "metadata": {},
     "output_type": "execute_result"
    },
    {
     "data": {
      "text/plain": [
       "<Figure size 640x480 with 1 Axes>"
      ],
      "image/png": "[encoded data removed]"
     },
     "metadata": {},
     "output_type": "display_data"
    }
   ],
   "execution_count": 12
  },
  {
   "metadata": {},
   "cell_type": "markdown",
   "source": "### CDF-Fit",
   "id": "fe3a7b1f3519e387"
  },
  {
   "metadata": {
    "ExecuteTime": {
     "end_time": "2024-06-26T17:35:08.645776Z",
     "start_time": "2024-06-26T17:35:07.764586Z"
    }
   },
   "cell_type": "code",
   "source": [
    "plot.loglog(nL, cdfErr, '.', color='maroon', label='samples')\n",
    "\n",
    "nGrid = LogGrid1(nMin,nMax, nPlot)\n",
    "\n",
    "a0,a1 = cdfParam\n",
    "fitGrid = [exp(a0) * n**a1 for n in nGrid]\n",
    "text = f'{exp(a0):.2f} / n^{-a1:.3f}'\n",
    "plot.loglog(nGrid, fitGrid, c='blue', label=text)\n",
    "\n",
    "plot.xlabel('N')\n",
    "plot.ylabel('Magnitude of Error')\n",
    "plot.legend()"
   ],
   "id": "c6c05dea60c06ba8",
   "outputs": [
    {
     "data": {
      "text/plain": [
       "<matplotlib.legend.Legend at 0x208723b78c0>"
      ]
     },
     "execution_count": 13,
     "metadata": {},
     "output_type": "execute_result"
    },
    {
     "data": {
      "text/plain": [
       "<Figure size 640x480 with 1 Axes>"
      ],
      "image/png": "[encoded data removed]"
     },
     "metadata": {},
     "output_type": "display_data"
    }
   ],
   "execution_count": 13
  },
  {
   "metadata": {},
   "cell_type": "markdown",
   "source": "## Fit Assuming One Over Square-Root of N",
   "id": "d4f0a6ce3a274fed"
  },
  {
   "metadata": {
    "ExecuteTime": {
     "end_time": "2024-06-26T18:13:14.008778Z",
     "start_time": "2024-06-26T18:13:14.004144Z"
    }
   },
   "cell_type": "code",
   "source": "kolmoForm = lambda n, k: k - n/2",
   "id": "b9f30154cc473689",
   "outputs": [],
   "execution_count": 31
  },
  {
   "metadata": {
    "ExecuteTime": {
     "end_time": "2024-06-26T18:13:14.216995Z",
     "start_time": "2024-06-26T18:13:14.209735Z"
    }
   },
   "cell_type": "code",
   "source": [
    "mleParam, _ = curve_fit(kolmoForm, nLog, mleLogErr)\n",
    "mleParam"
   ],
   "id": "793b621ab910823a",
   "outputs": [
    {
     "data": {
      "text/plain": [
       "array([-0.16365491])"
      ]
     },
     "execution_count": 32,
     "metadata": {},
     "output_type": "execute_result"
    }
   ],
   "execution_count": 32
  },
  {
   "metadata": {
    "ExecuteTime": {
     "end_time": "2024-06-26T18:13:14.420260Z",
     "start_time": "2024-06-26T18:13:14.413431Z"
    }
   },
   "cell_type": "code",
   "source": [
    "cdfParam, _ = curve_fit(kolmoForm, nLog, cdfLogErr)\n",
    "cdfParam"
   ],
   "id": "b9da7146a5e6d47d",
   "outputs": [
    {
     "data": {
      "text/plain": [
       "array([-0.16199716])"
      ]
     },
     "execution_count": 33,
     "metadata": {},
     "output_type": "execute_result"
    }
   ],
   "execution_count": 33
  },
  {
   "metadata": {},
   "cell_type": "markdown",
   "source": "### Maximum Likelihood",
   "id": "c34e1fe3675686f5"
  },
  {
   "metadata": {
    "ExecuteTime": {
     "end_time": "2024-06-26T18:13:17.627346Z",
     "start_time": "2024-06-26T18:13:17.022519Z"
    }
   },
   "cell_type": "code",
   "source": [
    "plot.loglog(nL, mleErr, '.', color='maroon', label='samples')\n",
    "\n",
    "nGrid = LogGrid1(nMin,nMax, nPlot)\n",
    "\n",
    "k = mleParam[0]\n",
    "fitGrid = [exp(k) / sqrt(n) for n in nGrid]\n",
    "text = f'{exp(k):.2f} / sqrt(n)'\n",
    "plot.loglog(nGrid, fitGrid, c='blue', label=text)\n",
    "\n",
    "plot.xlabel('N')\n",
    "plot.ylabel('Magnitude of Error')\n",
    "plot.legend()"
   ],
   "id": "41f6274a177bd2e7",
   "outputs": [
    {
     "data": {
      "text/plain": [
       "<matplotlib.legend.Legend at 0x2087a5c1340>"
      ]
     },
     "execution_count": 34,
     "metadata": {},
     "output_type": "execute_result"
    },
    {
     "data": {
      "text/plain": [
       "<Figure size 640x480 with 1 Axes>"
      ],
      "image/png": "[encoded data removed]"
     },
     "metadata": {},
     "output_type": "display_data"
    }
   ],
   "execution_count": 34
  },
  {
   "metadata": {},
   "cell_type": "markdown",
   "source": "### CDF-Fit",
   "id": "6181864df1c350a8"
  },
  {
   "metadata": {
    "ExecuteTime": {
     "end_time": "2024-06-26T18:13:29.669052Z",
     "start_time": "2024-06-26T18:13:28.183252Z"
    }
   },
   "cell_type": "code",
   "source": [
    "plot.loglog(nL, cdfErr, '.', color='maroon', label='samples')\n",
    "\n",
    "nGrid = LogGrid1(nMin,nMax, nPlot)\n",
    "\n",
    "k = cdfParam[0]\n",
    "fitGrid = [exp(a0) * n**a1 for n in nGrid]\n",
    "text = f'{exp(a0):.2f} / sqrt(n)'\n",
    "plot.loglog(nGrid, fitGrid, c='blue', label=text)\n",
    "\n",
    "plot.xlabel('N')\n",
    "plot.ylabel('Magnitude of Error')\n",
    "plot.legend()"
   ],
   "id": "1cf5533bcc51b334",
   "outputs": [
    {
     "data": {
      "text/plain": [
       "<matplotlib.legend.Legend at 0x2087853b920>"
      ]
     },
     "execution_count": 35,
     "metadata": {},
     "output_type": "execute_result"
    },
    {
     "data": {
      "text/plain": [
       "<Figure size 640x480 with 1 Axes>"
      ],
      "image/png": "[encoded data removed]"
     },
     "metadata": {},
     "output_type": "display_data"
    }
   ],
   "execution_count": 35
  },
  {
   "metadata": {},
   "cell_type": "markdown",
   "source": "## Pair Match",
   "id": "d218a1d316a36721"
  },
  {
   "metadata": {
    "ExecuteTime": {
     "end_time": "2024-06-26T18:27:08.226887Z",
     "start_time": "2024-06-26T18:27:06.073969Z"
    }
   },
   "cell_type": "code",
   "source": [
    "plot.loglog(nL, mleErr, '.', color='red', label='max-like')\n",
    "plot.loglog(nL, cdfErr, '.', color='blue', label='cdf-Fit')\n",
    "\n",
    "plot.xlabel('N')\n",
    "plot.ylabel('Magnitude of Error')\n",
    "plot.legend()"
   ],
   "id": "1daf733c86fa8539",
   "outputs": [
    {
     "data": {
      "text/plain": [
       "<matplotlib.legend.Legend at 0x2087dd17e00>"
      ]
     },
     "execution_count": 39,
     "metadata": {},
     "output_type": "execute_result"
    },
    {
     "data": {
      "text/plain": [
       "<Figure size 640x480 with 1 Axes>"
      ],
      "image/png": "[encoded data removed]"
     },
     "metadata": {},
     "output_type": "display_data"
    }
   ],
   "execution_count": 39
  },
  {
   "metadata": {},
   "cell_type": "markdown",
   "source": "There appears to be near random superiority",
   "id": "75ef77d9278544f5"
  },
  {
   "metadata": {},
   "cell_type": "code",
   "outputs": [],
   "execution_count": null,
   "source": "",
   "id": "ac0908c8532b0ea2"
  },
  {
   "metadata": {},
   "cell_type": "markdown",
   "source": "",
   "id": "b0281a53ecee5dc5"
  }
 ],
 "metadata": {
  "kernelspec": {
   "display_name": "Python 3",
   "language": "python",
   "name": "python3"
  },
  "language_info": {
   "codemirror_mode": {
    "name": "ipython",
    "version": 2
   },
   "file_extension": ".py",
   "mimetype": "text/x-python",
   "name": "python",
   "nbconvert_exporter": "python",
   "pygments_lexer": "ipython2",
   "version": "2.7.6"
  }
 },
 "nbformat": 4,
 "nbformat_minor": 5
}
