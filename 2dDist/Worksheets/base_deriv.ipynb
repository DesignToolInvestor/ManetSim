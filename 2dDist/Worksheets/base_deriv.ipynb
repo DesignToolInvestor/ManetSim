{
 "cells": [
  {
   "cell_type": "code",
   "id": "initial_id",
   "metadata": {
    "collapsed": true,
    "ExecuteTime": {
     "end_time": "2024-05-14T21:29:42.109206Z",
     "start_time": "2024-05-14T21:29:42.103672Z"
    }
   },
   "source": [
    "from sympy import Symbol, Function, Wild, diff, evalf, log, pi, series, simplify, sinc\n",
    "from matplotlib import pyplot as plot\n",
    "\n",
    "from LocUtil import Grid1"
   ],
   "outputs": [],
   "execution_count": 78
  },
  {
   "metadata": {
    "ExecuteTime": {
     "end_time": "2024-05-14T19:02:34.845963Z",
     "start_time": "2024-05-14T19:02:34.841366Z"
    }
   },
   "cell_type": "code",
   "source": "nPlot = 100",
   "id": "d79acf6164a5e68e",
   "outputs": [],
   "execution_count": 7
  },
  {
   "metadata": {
    "ExecuteTime": {
     "end_time": "2024-05-14T19:03:42.486230Z",
     "start_time": "2024-05-14T19:03:42.480938Z"
    }
   },
   "cell_type": "code",
   "source": [
    "x = Symbol('x')\n",
    "z = Symbol('z')\n",
    "\n",
    "k = Symbol('k')\n",
    "h = Symbol('h')\n",
    "\n",
    "s = Function('s')\n",
    "phi = Function('phi')\n",
    "\n",
    "base0 = s((phi(x) - k)/h) / diff(phi(x),x)"
   ],
   "id": "62a621ec05aedd04",
   "outputs": [],
   "execution_count": 13
  },
  {
   "metadata": {
    "ExecuteTime": {
     "end_time": "2024-05-14T19:43:35.025044Z",
     "start_time": "2024-05-14T19:43:35.016570Z"
    }
   },
   "cell_type": "code",
   "source": [
    "temp = diff(base0,x)\n",
    "temp"
   ],
   "id": "9367f14ca072f272",
   "outputs": [
    {
     "data": {
      "text/plain": [
       "-s((-k + phi(x))/h)*Derivative(phi(x), (x, 2))/Derivative(phi(x), x)**2 + Subs(Derivative(s(_xi_1), _xi_1), _xi_1, (-k + phi(x))/h)/h"
      ],
      "text/latex": "$\\displaystyle - \\frac{s{\\left(\\frac{- k + \\phi{\\left(x \\right)}}{h} \\right)} \\frac{d^{2}}{d x^{2}} \\phi{\\left(x \\right)}}{\\left(\\frac{d}{d x} \\phi{\\left(x \\right)}\\right)^{2}} + \\frac{\\left. \\frac{d}{d \\xi_{1}} s{\\left(\\xi_{1} \\right)} \\right|_{\\substack{ \\xi_{1}=\\frac{- k + \\phi{\\left(x \\right)}}{h} }}}{h}$"
     },
     "execution_count": 47,
     "metadata": {},
     "output_type": "execute_result"
    }
   ],
   "execution_count": 47
  },
  {
   "metadata": {
    "ExecuteTime": {
     "end_time": "2024-05-14T19:43:35.530304Z",
     "start_time": "2024-05-14T19:43:35.516010Z"
    }
   },
   "cell_type": "code",
   "source": [
    "phi1 = Function('phi1')\n",
    "m1 = Function('m1')\n",
    "m2 = Function('m2')\n",
    "\n",
    "subs = {diff(phi(x)):m1(x), diff(phi(x),x,x):m2(x)}\n",
    "\n",
    "temp1 = Temp.subs(subs)\n",
    "temp1"
   ],
   "id": "b5ce48ee8a8f2f08",
   "outputs": [
    {
     "data": {
      "text/plain": [
       "-m2(x)*s((-k + phi(x))/h)/m1(x)**2 + Subs(Derivative(s(_xi_1), _xi_1), _xi_1, (-k + phi(x))/h)/h"
      ],
      "text/latex": "$\\displaystyle - \\frac{m_{2}{\\left(x \\right)} s{\\left(\\frac{- k + \\phi{\\left(x \\right)}}{h} \\right)}}{m_{1}^{2}{\\left(x \\right)}} + \\frac{\\left. \\frac{d}{d \\xi_{1}} s{\\left(\\xi_{1} \\right)} \\right|_{\\substack{ \\xi_{1}=\\frac{- k + \\phi{\\left(x \\right)}}{h} }}}{h}$"
     },
     "execution_count": 48,
     "metadata": {},
     "output_type": "execute_result"
    }
   ],
   "execution_count": 48
  },
  {
   "metadata": {
    "ExecuteTime": {
     "end_time": "2024-05-14T19:43:35.760035Z",
     "start_time": "2024-05-14T19:43:35.753134Z"
    }
   },
   "cell_type": "code",
   "source": "print(temp1)",
   "id": "800070cb6ebec1ed",
   "outputs": [
    {
     "name": "stdout",
     "output_type": "stream",
     "text": [
      "-m2(x)*s((-k + phi(x))/h)/m1(x)**2 + Subs(Derivative(s(_xi_1), _xi_1), _xi_1, (-k + phi(x))/h)/h\n"
     ]
    }
   ],
   "execution_count": 49
  },
  {
   "metadata": {
    "ExecuteTime": {
     "end_time": "2024-05-14T19:43:36.136869Z",
     "start_time": "2024-05-14T19:43:36.128452Z"
    }
   },
   "cell_type": "code",
   "source": [
    "p = Wild('p')\n",
    "q = Wild('q')\n",
    "arg = Wild('arg')\n",
    "s1 = Function('s1')\n",
    "\n",
    "tempA = diff(s(x),x)\n",
    "tempA.match(diff(s(arg),arg))\n"
   ],
   "id": "279a08867f9350f1",
   "outputs": [
    {
     "data": {
      "text/plain": [
       "{arg_: x}"
      ]
     },
     "execution_count": 50,
     "metadata": {},
     "output_type": "execute_result"
    }
   ],
   "execution_count": 50
  },
  {
   "metadata": {
    "ExecuteTime": {
     "end_time": "2024-05-14T19:43:36.633429Z",
     "start_time": "2024-05-14T19:43:36.624766Z"
    }
   },
   "cell_type": "code",
   "source": "tempA.replace(diff(s(arg)),s1(arg))",
   "id": "3f7d7e388cc7a730",
   "outputs": [
    {
     "data": {
      "text/plain": [
       "s1(x)"
      ],
      "text/latex": "$\\displaystyle s_{1}{\\left(x \\right)}$"
     },
     "execution_count": 51,
     "metadata": {},
     "output_type": "execute_result"
    }
   ],
   "execution_count": 51
  },
  {
   "metadata": {
    "ExecuteTime": {
     "end_time": "2024-05-14T19:52:09.870188Z",
     "start_time": "2024-05-14T19:52:09.784944Z"
    }
   },
   "cell_type": "code",
   "source": [
    "temp2 = temp1.replace(diff(s(arg)),s1(arg)).simplify()\n",
    "temp2"
   ],
   "id": "4a661f603090b4b",
   "outputs": [
    {
     "data": {
      "text/plain": [
       "-m2(x)*s(-k/h + phi(x)/h)/m1(x)**2 + s1(-k/h + phi(x)/h)/h"
      ],
      "text/latex": "$\\displaystyle - \\frac{m_{2}{\\left(x \\right)} s{\\left(- \\frac{k}{h} + \\frac{\\phi{\\left(x \\right)}}{h} \\right)}}{m_{1}^{2}{\\left(x \\right)}} + \\frac{s_{1}{\\left(- \\frac{k}{h} + \\frac{\\phi{\\left(x \\right)}}{h} \\right)}}{h}$"
     },
     "execution_count": 57,
     "metadata": {},
     "output_type": "execute_result"
    }
   ],
   "execution_count": 57
  },
  {
   "metadata": {
    "ExecuteTime": {
     "end_time": "2024-05-14T19:52:53.538010Z",
     "start_time": "2024-05-14T19:52:53.530735Z"
    }
   },
   "cell_type": "code",
   "source": "temp3 = temp2.subs(phi(x),z)",
   "id": "89c2cfc45672099e",
   "outputs": [],
   "execution_count": 61
  },
  {
   "metadata": {
    "ExecuteTime": {
     "end_time": "2024-05-14T19:52:54.273760Z",
     "start_time": "2024-05-14T19:52:54.173013Z"
    }
   },
   "cell_type": "code",
   "source": "temp3.simplify()",
   "id": "d7a902a184c346e6",
   "outputs": [
    {
     "data": {
      "text/plain": [
       "-m2(x)*s(-k/h + z/h)/m1(x)**2 + s1(-k/h + z/h)/h"
      ],
      "text/latex": "$\\displaystyle - \\frac{m_{2}{\\left(x \\right)} s{\\left(- \\frac{k}{h} + \\frac{z}{h} \\right)}}{m_{1}^{2}{\\left(x \\right)}} + \\frac{s_{1}{\\left(- \\frac{k}{h} + \\frac{z}{h} \\right)}}{h}$"
     },
     "execution_count": 62,
     "metadata": {},
     "output_type": "execute_result"
    }
   ],
   "execution_count": 62
  },
  {
   "metadata": {
    "ExecuteTime": {
     "end_time": "2024-05-14T19:53:32.384865Z",
     "start_time": "2024-05-14T19:53:32.094130Z"
    }
   },
   "cell_type": "code",
   "source": "diff(base0,x,x).simplify()",
   "id": "a2f33ad8835e5e7f",
   "outputs": [
    {
     "data": {
      "text/plain": [
       "-s(-k/h + phi(x)/h)*Derivative(phi(x), (x, 3))/Derivative(phi(x), x)**2 + 2*s(-k/h + phi(x)/h)*Derivative(phi(x), (x, 2))**2/Derivative(phi(x), x)**3 - Derivative(phi(x), (x, 2))*Subs(Derivative(s(_xi_1), _xi_1), _xi_1, -k/h + phi(x)/h)/(h*Derivative(phi(x), x)) + Derivative(phi(x), x)*Subs(Derivative(s(_xi_1), (_xi_1, 2)), _xi_1, -k/h + phi(x)/h)/h**2"
      ],
      "text/latex": "$\\displaystyle - \\frac{s{\\left(- \\frac{k}{h} + \\frac{\\phi{\\left(x \\right)}}{h} \\right)} \\frac{d^{3}}{d x^{3}} \\phi{\\left(x \\right)}}{\\left(\\frac{d}{d x} \\phi{\\left(x \\right)}\\right)^{2}} + \\frac{2 s{\\left(- \\frac{k}{h} + \\frac{\\phi{\\left(x \\right)}}{h} \\right)} \\left(\\frac{d^{2}}{d x^{2}} \\phi{\\left(x \\right)}\\right)^{2}}{\\left(\\frac{d}{d x} \\phi{\\left(x \\right)}\\right)^{3}} - \\frac{\\frac{d^{2}}{d x^{2}} \\phi{\\left(x \\right)} \\left. \\frac{d}{d \\xi_{1}} s{\\left(\\xi_{1} \\right)} \\right|_{\\substack{ \\xi_{1}=- \\frac{k}{h} + \\frac{\\phi{\\left(x \\right)}}{h} }}}{h \\frac{d}{d x} \\phi{\\left(x \\right)}} + \\frac{\\frac{d}{d x} \\phi{\\left(x \\right)} \\left. \\frac{d^{2}}{d \\xi_{1}^{2}} s{\\left(\\xi_{1} \\right)} \\right|_{\\substack{ \\xi_{1}=- \\frac{k}{h} + \\frac{\\phi{\\left(x \\right)}}{h} }}}{h^{2}}$"
     },
     "execution_count": 64,
     "metadata": {},
     "output_type": "execute_result"
    }
   ],
   "execution_count": 64
  },
  {
   "metadata": {
    "ExecuteTime": {
     "end_time": "2024-05-14T21:29:58.132573Z",
     "start_time": "2024-05-14T21:29:58.109442Z"
    }
   },
   "cell_type": "code",
   "source": [
    "temp = diff(sinc(pi*x),x)\n",
    "temp"
   ],
   "id": "a3534331c64761df",
   "outputs": [
    {
     "data": {
      "text/plain": [
       "pi*(cos(pi*x)/(pi*x) - sin(pi*x)/(pi**2*x**2))"
      ],
      "text/latex": "$\\displaystyle \\pi \\left(\\frac{\\cos{\\left(\\pi x \\right)}}{\\pi x} - \\frac{\\sin{\\left(\\pi x \\right)}}{\\pi^{2} x^{2}}\\right)$"
     },
     "execution_count": 79,
     "metadata": {},
     "output_type": "execute_result"
    }
   ],
   "execution_count": 79
  },
  {
   "metadata": {
    "ExecuteTime": {
     "end_time": "2024-05-14T23:32:30.441754Z",
     "start_time": "2024-05-14T23:32:30.150799Z"
    }
   },
   "cell_type": "code",
   "source": [
    "xL = Grid1(-10,10, 100)\n",
    "yL = [temp.evalf(subs={x:xV}) for xV in xL]\n",
    "\n",
    "plot.plot(xL,yL)"
   ],
   "id": "ff8be413e2a9566f",
   "outputs": [
    {
     "data": {
      "text/plain": [
       "[<matplotlib.lines.Line2D at 0x1ee086bcf50>]"
      ]
     },
     "execution_count": 88,
     "metadata": {},
     "output_type": "execute_result"
    },
    {
     "data": {
      "text/plain": [
       "<Figure size 640x480 with 1 Axes>"
      ],
      "image/png": "[encoded data removed]"
     },
     "metadata": {},
     "output_type": "display_data"
    }
   ],
   "execution_count": 88
  },
  {
   "metadata": {
    "ExecuteTime": {
     "end_time": "2024-05-14T21:52:05.672364Z",
     "start_time": "2024-05-14T21:52:05.655342Z"
    }
   },
   "cell_type": "code",
   "source": "temp.factor()",
   "id": "e31e7fc3a495995",
   "outputs": [
    {
     "data": {
      "text/plain": [
       "(pi*x*cos(pi*x) - sin(pi*x))/(pi*x**2)"
      ],
      "text/latex": "$\\displaystyle \\frac{\\pi x \\cos{\\left(\\pi x \\right)} - \\sin{\\left(\\pi x \\right)}}{\\pi x^{2}}$"
     },
     "execution_count": 85,
     "metadata": {},
     "output_type": "execute_result"
    }
   ],
   "execution_count": 85
  },
  {
   "metadata": {
    "ExecuteTime": {
     "end_time": "2024-05-14T23:40:48.919534Z",
     "start_time": "2024-05-14T23:40:48.708367Z"
    }
   },
   "cell_type": "code",
   "source": "temp.series(x, x0=0, n=8)",
   "id": "7e438660939ad83f",
   "outputs": [
    {
     "data": {
      "text/plain": [
       "-pi**2*x/3 + pi**4*x**3/30 - pi**6*x**5/840 + pi**8*x**7/45360 + O(x**8)"
      ],
      "text/latex": "$\\displaystyle - \\frac{\\pi^{2} x}{3} + \\frac{\\pi^{4} x^{3}}{30} - \\frac{\\pi^{6} x^{5}}{840} + \\frac{\\pi^{8} x^{7}}{45360} + O\\left(x^{8}\\right)$"
     },
     "execution_count": 89,
     "metadata": {},
     "output_type": "execute_result"
    }
   ],
   "execution_count": 89
  },
  {
   "metadata": {
    "ExecuteTime": {
     "end_time": "2024-05-14T23:44:33.665678Z",
     "start_time": "2024-05-14T23:44:33.581265Z"
    }
   },
   "cell_type": "code",
   "source": [
    "temp = diff(phi(x),x,x,x) / (diff(phi(x),x))**2\n",
    "temp1 = temp.subs(phi(x),log(x/(1-x)))\n",
    "temp2 = simplify(temp1)\n",
    "temp2"
   ],
   "id": "cb11443d59139c47",
   "outputs": [
    {
     "data": {
      "text/plain": [
       "2*x*(x/(x - 1) - 1)*(-1/(x - 1)**2 - 1/(x*(x - 1)) - 1/x**2)/((x - 1)**2*(x/(x - 1)**2 - 1/(x - 1))**2)"
      ],
      "text/latex": "$\\displaystyle \\frac{2 x \\left(\\frac{x}{x - 1} - 1\\right) \\left(- \\frac{1}{\\left(x - 1\\right)^{2}} - \\frac{1}{x \\left(x - 1\\right)} - \\frac{1}{x^{2}}\\right)}{\\left(x - 1\\right)^{2} \\left(\\frac{x}{\\left(x - 1\\right)^{2}} - \\frac{1}{x - 1}\\right)^{2}}$"
     },
     "execution_count": 95,
     "metadata": {},
     "output_type": "execute_result"
    }
   ],
   "execution_count": 95
  },
  {
   "metadata": {
    "ExecuteTime": {
     "end_time": "2024-05-14T23:45:10.315571Z",
     "start_time": "2024-05-14T23:45:10.276089Z"
    }
   },
   "cell_type": "code",
   "source": "temp2.simplify().factor()",
   "id": "1ba248a6920b1603",
   "outputs": [
    {
     "data": {
      "text/plain": [
       "-2*(3*x**2 - 3*x + 1)/(x*(x - 1))"
      ],
      "text/latex": "$\\displaystyle - \\frac{2 \\cdot \\left(3 x^{2} - 3 x + 1\\right)}{x \\left(x - 1\\right)}$"
     },
     "execution_count": 97,
     "metadata": {},
     "output_type": "execute_result"
    }
   ],
   "execution_count": 97
  },
  {
   "metadata": {},
   "cell_type": "code",
   "outputs": [],
   "execution_count": null,
   "source": "",
   "id": "76fe27614d844ae4"
  }
 ],
 "metadata": {
  "kernelspec": {
   "display_name": "Python 3",
   "language": "python",
   "name": "python3"
  },
  "language_info": {
   "codemirror_mode": {
    "name": "ipython",
    "version": 2
   },
   "file_extension": ".py",
   "mimetype": "text/x-python",
   "name": "python",
   "nbconvert_exporter": "python",
   "pygments_lexer": "ipython2",
   "version": "2.7.6"
  }
 },
 "nbformat": 4,
 "nbformat_minor": 5
}
