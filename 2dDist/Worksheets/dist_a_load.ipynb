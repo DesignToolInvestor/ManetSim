{
 "cells": [
  {
   "metadata": {},
   "cell_type": "markdown",
   "source": "# Use of dist_a",
   "id": "f7dbe0f6e87fa5cb"
  },
  {
   "metadata": {
    "ExecuteTime": {
     "end_time": "2024-06-19T22:27:21.670681Z",
     "start_time": "2024-06-19T22:27:21.015949Z"
    }
   },
   "cell_type": "code",
   "source": "import DistA",
   "id": "1c8cf4f67ed1c6d7",
   "outputs": [],
   "execution_count": 1
  },
  {
   "metadata": {
    "ExecuteTime": {
     "end_time": "2024-06-19T22:27:39.749511Z",
     "start_time": "2024-06-19T22:27:39.739774Z"
    }
   },
   "cell_type": "code",
   "source": "DistA.xSym",
   "id": "6905cceb2580c99e",
   "outputs": [
    {
     "data": {
      "text/plain": [
       "x"
      ],
      "text/latex": "$\\displaystyle x$"
     },
     "execution_count": 2,
     "metadata": {},
     "output_type": "execute_result"
    }
   ],
   "execution_count": 2
  },
  {
   "metadata": {
    "ExecuteTime": {
     "end_time": "2024-06-19T11:56:42.638753Z",
     "start_time": "2024-06-19T11:56:42.631476Z"
    }
   },
   "cell_type": "code",
   "source": [
    "nSamp = 100\n",
    "nPlot = 101\n",
    "\n",
    "givenSeed = None\n",
    "seedDig = 3"
   ],
   "id": "b5f69a98fe711613",
   "outputs": [],
   "execution_count": 86
  },
  {
   "metadata": {},
   "cell_type": "code",
   "outputs": [],
   "execution_count": null,
   "source": "",
   "id": "d3be305b7060f5ee"
  }
 ],
 "metadata": {
  "kernelspec": {
   "display_name": "Python 3",
   "language": "python",
   "name": "python3"
  },
  "language_info": {
   "codemirror_mode": {
    "name": "ipython",
    "version": 2
   },
   "file_extension": ".py",
   "mimetype": "text/x-python",
   "name": "python",
   "nbconvert_exporter": "python",
   "pygments_lexer": "ipython2",
   "version": "2.7.6"
  }
 },
 "nbformat": 4,
 "nbformat_minor": 5
}
