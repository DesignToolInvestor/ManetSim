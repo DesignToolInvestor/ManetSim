{
 "cells": [
  {
   "metadata": {},
   "cell_type": "markdown",
   "source": "# Use of dist_a",
   "id": "f7dbe0f6e87fa5cb"
  },
  {
   "metadata": {
    "ExecuteTime": {
     "end_time": "2024-06-18T22:23:31.344030Z",
     "start_time": "2024-06-18T22:23:30.018101Z"
    }
   },
   "cell_type": "code",
   "source": [
    "from dill import load\n",
    "from matplotlib import pyplot as plot\n",
    "from random import uniform\n",
    "from sympy import lambdify\n",
    "\n",
    "from LocUtil import Grid1, SetSeed"
   ],
   "id": "1c8cf4f67ed1c6d7",
   "outputs": [],
   "execution_count": 1
  },
  {
   "metadata": {
    "ExecuteTime": {
     "end_time": "2024-06-18T22:49:53.384021Z",
     "start_time": "2024-06-18T22:49:53.379066Z"
    }
   },
   "cell_type": "code",
   "source": [
    "fileName = 'dist_a.dill'\n",
    "\n",
    "nSamp = 100\n",
    "nPlot = 101\n",
    "\n",
    "givenSeed = None\n",
    "seedDig = 3"
   ],
   "id": "b5f69a98fe711613",
   "outputs": [],
   "execution_count": 7
  },
  {
   "metadata": {
    "ExecuteTime": {
     "end_time": "2024-06-18T22:49:54.135532Z",
     "start_time": "2024-06-18T22:49:53.897527Z"
    }
   },
   "cell_type": "code",
   "source": [
    "with open(fileName, 'rb') as file:\n",
    "\tdist = load(file)"
   ],
   "id": "2a1124805a7ba197",
   "outputs": [],
   "execution_count": 8
  },
  {
   "metadata": {
    "ExecuteTime": {
     "end_time": "2024-06-18T22:52:08.458702Z",
     "start_time": "2024-06-18T22:52:08.449726Z"
    }
   },
   "cell_type": "code",
   "source": "dist.__dict__",
   "id": "2307e29e7345c1fa",
   "outputs": [
    {
     "data": {
      "text/plain": [
       "mappingproxy({'__module__': '__main__',\n",
       "              'xSym': x,\n",
       "              'aSym': a,\n",
       "              'pdfSym': a + x*(2 - 2*a),\n",
       "              'cdfSym': a*x + x**2*(1 - a),\n",
       "              'idfInvSym': (a - sqrt(a**2 - 4*a*q + 4*q))/(2*(a - 1)),\n",
       "              'pdfNum': <function _lambdifygenerated(x, a)>,\n",
       "              '__doc__': None,\n",
       "              '__dict__': <attribute '__dict__' of 'DistA' objects>,\n",
       "              '__weakref__': <attribute '__weakref__' of 'DistA' objects>})"
      ]
     },
     "execution_count": 13,
     "metadata": {},
     "output_type": "execute_result"
    }
   ],
   "execution_count": 13
  },
  {
   "metadata": {
    "ExecuteTime": {
     "end_time": "2024-06-18T22:54:02.924423Z",
     "start_time": "2024-06-18T22:54:02.919376Z"
    }
   },
   "cell_type": "code",
   "source": "dist.pdfNum(0.3,0)",
   "id": "b0677ad269035d28",
   "outputs": [
    {
     "data": {
      "text/plain": [
       "0.6"
      ]
     },
     "execution_count": 16,
     "metadata": {},
     "output_type": "execute_result"
    }
   ],
   "execution_count": 16
  },
  {
   "metadata": {
    "ExecuteTime": {
     "end_time": "2024-06-18T00:03:40.260072Z",
     "start_time": "2024-06-18T00:03:40.249707Z"
    }
   },
   "cell_type": "code",
   "source": [
    "seed = SetSeed(givenSeed, seedDig)\n",
    "seed"
   ],
   "id": "30a806081c17da4",
   "outputs": [
    {
     "data": {
      "text/plain": [
       "658"
      ]
     },
     "execution_count": 21,
     "metadata": {},
     "output_type": "execute_result"
    }
   ],
   "execution_count": 21
  },
  {
   "metadata": {
    "ExecuteTime": {
     "end_time": "2024-06-18T00:03:40.846460Z",
     "start_time": "2024-06-18T00:03:40.841146Z"
    }
   },
   "cell_type": "code",
   "source": [
    "a = uniform(0,2)\n",
    "a"
   ],
   "id": "cc0b1cd6cb8c8a94",
   "outputs": [
    {
     "data": {
      "text/plain": [
       "0.30575289254401783"
      ]
     },
     "execution_count": 22,
     "metadata": {},
     "output_type": "execute_result"
    }
   ],
   "execution_count": 22
  },
  {
   "metadata": {
    "ExecuteTime": {
     "end_time": "2024-06-18T00:03:41.624967Z",
     "start_time": "2024-06-18T00:03:41.574787Z"
    }
   },
   "cell_type": "code",
   "source": [
    "sampSort = sorted(dist.GenSamp(a,nSamp))\n",
    "quant = [(k + 0.5) / nSamp for k in range(nSamp)]\n",
    "\n",
    "plot.plot(sampSort,quant, '.', c=\"Maroon\")\n",
    "\n",
    "xGrid = Grid1(0,1, nPlot)\n",
    "qGrid = [dist.cdf.subs(dist.aSym,a).subs(dist.xSym,x) for x in xGrid]\n",
    "plot.plot(xGrid,qGrid, c='Blue')\n",
    "\n",
    "plot.xlabel('X')\n",
    "plot.ylabel('CDF')\n",
    "plot.title(f'a = {a:.2f}')"
   ],
   "id": "1523aeca8e83f00",
   "outputs": [
    {
     "ename": "AttributeError",
     "evalue": "'dict' object has no attribute 'GenSamp'",
     "output_type": "error",
     "traceback": [
      "\u001B[1;31m---------------------------------------------------------------------------\u001B[0m",
      "\u001B[1;31mAttributeError\u001B[0m                            Traceback (most recent call last)",
      "Cell \u001B[1;32mIn[23], line 1\u001B[0m\n\u001B[1;32m----> 1\u001B[0m sampSort \u001B[38;5;241m=\u001B[39m \u001B[38;5;28msorted\u001B[39m(\u001B[43mdist\u001B[49m\u001B[38;5;241;43m.\u001B[39;49m\u001B[43mGenSamp\u001B[49m(a,nSamp))\n\u001B[0;32m      2\u001B[0m quant \u001B[38;5;241m=\u001B[39m [(k \u001B[38;5;241m+\u001B[39m \u001B[38;5;241m0.5\u001B[39m) \u001B[38;5;241m/\u001B[39m nSamp \u001B[38;5;28;01mfor\u001B[39;00m k \u001B[38;5;129;01min\u001B[39;00m \u001B[38;5;28mrange\u001B[39m(nSamp)]\n\u001B[0;32m      4\u001B[0m plot\u001B[38;5;241m.\u001B[39mplot(sampSort,quant, \u001B[38;5;124m'\u001B[39m\u001B[38;5;124m.\u001B[39m\u001B[38;5;124m'\u001B[39m, c\u001B[38;5;241m=\u001B[39m\u001B[38;5;124m\"\u001B[39m\u001B[38;5;124mMaroon\u001B[39m\u001B[38;5;124m\"\u001B[39m)\n",
      "\u001B[1;31mAttributeError\u001B[0m: 'dict' object has no attribute 'GenSamp'"
     ]
    }
   ],
   "execution_count": 23
  },
  {
   "metadata": {},
   "cell_type": "code",
   "outputs": [],
   "execution_count": null,
   "source": "",
   "id": "d3be305b7060f5ee"
  }
 ],
 "metadata": {
  "kernelspec": {
   "display_name": "Python 3",
   "language": "python",
   "name": "python3"
  },
  "language_info": {
   "codemirror_mode": {
    "name": "ipython",
    "version": 2
   },
   "file_extension": ".py",
   "mimetype": "text/x-python",
   "name": "python",
   "nbconvert_exporter": "python",
   "pygments_lexer": "ipython2",
   "version": "2.7.6"
  }
 },
 "nbformat": 4,
 "nbformat_minor": 5
}
