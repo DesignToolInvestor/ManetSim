{
 "cells": [
  {
   "cell_type": "code",
   "id": "initial_id",
   "metadata": {
    "collapsed": true,
    "ExecuteTime": {
     "end_time": "2024-05-15T14:30:10.549662Z",
     "start_time": "2024-05-15T14:30:09.299552Z"
    }
   },
   "source": [
    "from matplotlib import pyplot as plot\n",
    "from sympy import Function, Integer, Symbol, pi, sin\n",
    "\n",
    "from LocUtil import LogGrid1, Grid1\n",
    "\n",
    "from Sinc import SincD"
   ],
   "outputs": [],
   "execution_count": 1
  },
  {
   "metadata": {
    "ExecuteTime": {
     "end_time": "2024-05-15T14:30:12.292444Z",
     "start_time": "2024-05-15T14:30:12.288335Z"
    }
   },
   "cell_type": "code",
   "source": [
    "x = Symbol('x')\n",
    "s = SincD(0, x)"
   ],
   "id": "d04824944b0da74c",
   "outputs": [],
   "execution_count": 2
  },
  {
   "metadata": {
    "ExecuteTime": {
     "end_time": "2024-05-15T14:30:13.543144Z",
     "start_time": "2024-05-15T14:30:13.529178Z"
    }
   },
   "cell_type": "code",
   "source": "s.diff(x)",
   "id": "1d77404796f5b6e2",
   "outputs": [
    {
     "data": {
      "text/plain": [
       "SincD(1, x)"
      ],
      "text/latex": "$\\displaystyle \\operatorname{SincD}{\\left(1,x \\right)}$"
     },
     "execution_count": 3,
     "metadata": {},
     "output_type": "execute_result"
    }
   ],
   "execution_count": 3
  },
  {
   "metadata": {
    "ExecuteTime": {
     "end_time": "2024-05-15T14:30:53.507658Z",
     "start_time": "2024-05-15T14:30:53.422329Z"
    }
   },
   "cell_type": "code",
   "source": "SincD(0,x**2).diff(x)",
   "id": "e5aaadd17048c097",
   "outputs": [
    {
     "data": {
      "text/plain": [
       "2*x*SincD(1, x**2)"
      ],
      "text/latex": "$\\displaystyle 2 x \\operatorname{SincD}{\\left(1,x^{2} \\right)}$"
     },
     "execution_count": 4,
     "metadata": {},
     "output_type": "execute_result"
    }
   ],
   "execution_count": 4
  },
  {
   "metadata": {
    "ExecuteTime": {
     "end_time": "2024-05-15T14:32:06.240335Z",
     "start_time": "2024-05-15T14:32:05.398985Z"
    }
   },
   "cell_type": "code",
   "source": "SincD(0,x**2).diff(x,x).simplify()",
   "id": "ac9fad9df49361cc",
   "outputs": [
    {
     "data": {
      "text/plain": [
       "4*x**2*SincD(2, x**2) + 2*SincD(1, x**2)"
      ],
      "text/latex": "$\\displaystyle 4 x^{2} \\operatorname{SincD}{\\left(2,x^{2} \\right)} + 2 \\operatorname{SincD}{\\left(1,x^{2} \\right)}$"
     },
     "execution_count": 6,
     "metadata": {},
     "output_type": "execute_result"
    }
   ],
   "execution_count": 6
  }
 ],
 "metadata": {
  "kernelspec": {
   "display_name": "Python 3",
   "language": "python",
   "name": "python3"
  },
  "language_info": {
   "codemirror_mode": {
    "name": "ipython",
    "version": 2
   },
   "file_extension": ".py",
   "mimetype": "text/x-python",
   "name": "python",
   "nbconvert_exporter": "python",
   "pygments_lexer": "ipython2",
   "version": "2.7.6"
  }
 },
 "nbformat": 4,
 "nbformat_minor": 5
}
