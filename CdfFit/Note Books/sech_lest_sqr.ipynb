{
 "cells": [
  {
   "metadata": {},
   "cell_type": "markdown",
   "source": "# Sech - Lest Squares",
   "id": "9901eb2746776aee"
  },
  {
   "metadata": {
    "ExecuteTime": {
     "end_time": "2024-08-30T00:15:17.975980Z",
     "start_time": "2024-08-30T00:15:17.970861Z"
    }
   },
   "cell_type": "code",
   "source": [
    "from math import exp, log, sqrt\n",
    "from matplotlib import pyplot as plot\n",
    "from scipy.linalg import lstsq\n",
    "from scipy.optimize import fsolve\n",
    "from scipy.stats import linregress\n",
    "from sympy import Symbol, cosh, integrate, lambdify, oo, pi\n",
    "\n",
    "import DistExampB as db\n",
    "\n",
    "from Map import LogRatio\n",
    "from LocUtil import Grid1, MinMax, IndexOf, Sub, UnZip"
   ],
   "id": "782dff9df42480ec",
   "outputs": [],
   "execution_count": 2
  },
  {
   "metadata": {},
   "cell_type": "markdown",
   "source": "## Set Up",
   "id": "3b33babd5330703c"
  },
  {
   "metadata": {},
   "cell_type": "markdown",
   "source": "#### constants",
   "id": "ec8ff8a071f45bc8"
  },
  {
   "metadata": {
    "ExecuteTime": {
     "end_time": "2024-08-30T00:15:18.361018Z",
     "start_time": "2024-08-30T00:15:18.356968Z"
    }
   },
   "cell_type": "code",
   "source": "nPlot = 201",
   "id": "74736af3ba325cc7",
   "outputs": [],
   "execution_count": 3
  },
  {
   "metadata": {},
   "cell_type": "markdown",
   "source": "#### problem",
   "id": "b8079a015d5bfe0f"
  },
  {
   "metadata": {
    "ExecuteTime": {
     "end_time": "2024-08-30T00:15:18.745507Z",
     "start_time": "2024-08-30T00:15:18.408973Z"
    }
   },
   "cell_type": "code",
   "source": "dist = db.ExampB()",
   "id": "c78242f4ef327bf5",
   "outputs": [],
   "execution_count": 4
  },
  {
   "metadata": {},
   "cell_type": "markdown",
   "source": "#### maping",
   "id": "6ef22c1970c544a"
  },
  {
   "metadata": {
    "ExecuteTime": {
     "end_time": "2024-08-30T00:15:18.920627Z",
     "start_time": "2024-08-30T00:15:18.748509Z"
    }
   },
   "cell_type": "code",
   "source": [
    "xSym = Symbol('x')\n",
    "zSym = Symbol('z')\n",
    "map_ = LogRatio(xSym, zSym, xRange=(0, 2))\n",
    "map_.forSym"
   ],
   "id": "919d7075d793674b",
   "outputs": [
    {
     "data": {
      "text/plain": [
       "log(x/(2 - x))"
      ],
      "text/latex": "$\\displaystyle \\log{\\left(\\frac{x}{2 - x} \\right)}$"
     },
     "execution_count": 5,
     "metadata": {},
     "output_type": "execute_result"
    }
   ],
   "execution_count": 5
  },
  {
   "metadata": {
    "ExecuteTime": {
     "end_time": "2024-08-30T00:15:18.932923Z",
     "start_time": "2024-08-30T00:15:18.926625Z"
    }
   },
   "cell_type": "code",
   "source": [
    "X2Z = map_.Forward\n",
    "Z2X = map_.Inverse"
   ],
   "id": "d3a5f5e72093ab27",
   "outputs": [],
   "execution_count": 6
  },
  {
   "metadata": {},
   "cell_type": "markdown",
   "source": "#### bases",
   "id": "fb7959ad9c371af0"
  },
  {
   "metadata": {
    "ExecuteTime": {
     "end_time": "2024-08-30T00:15:18.965292Z",
     "start_time": "2024-08-30T00:15:18.937923Z"
    }
   },
   "cell_type": "code",
   "source": [
    "hSym = Symbol('h', positive=True)\n",
    "zkSym = Symbol('zk', real=True)"
   ],
   "id": "da3374e055866573",
   "outputs": [],
   "execution_count": 7
  },
  {
   "metadata": {
    "ExecuteTime": {
     "end_time": "2024-08-30T00:15:19.008524Z",
     "start_time": "2024-08-30T00:15:18.968292Z"
    }
   },
   "cell_type": "code",
   "source": [
    "baseZ = 1/pi * 1 / cosh((zSym - zkSym) / hSym)\n",
    "baseZ"
   ],
   "id": "df774c3db2e47c",
   "outputs": [
    {
     "data": {
      "text/plain": [
       "1/(pi*cosh((z - zk)/h))"
      ],
      "text/latex": "$\\displaystyle \\frac{1}{\\pi \\cosh{\\left(\\frac{z - zk}{h} \\right)}}$"
     },
     "execution_count": 8,
     "metadata": {},
     "output_type": "execute_result"
    }
   ],
   "execution_count": 8
  },
  {
   "metadata": {
    "ExecuteTime": {
     "end_time": "2024-08-30T00:15:20.883736Z",
     "start_time": "2024-08-30T00:15:19.010526Z"
    }
   },
   "cell_type": "code",
   "source": "integrate(baseZ, (zSym,-oo,oo))",
   "id": "9c3bc38466c0370e",
   "outputs": [
    {
     "data": {
      "text/plain": [
       "Integral(1/cosh(z/h - zk/h), (z, -oo, oo))/pi"
      ],
      "text/latex": "$\\displaystyle \\frac{\\int\\limits_{-\\infty}^{\\infty} \\frac{1}{\\cosh{\\left(\\frac{z}{h} - \\frac{zk}{h} \\right)}}\\, dz}{\\pi}$"
     },
     "execution_count": 9,
     "metadata": {},
     "output_type": "execute_result"
    }
   ],
   "execution_count": 9
  },
  {
   "metadata": {
    "ExecuteTime": {
     "end_time": "2024-08-30T00:15:20.892684Z",
     "start_time": "2024-08-30T00:15:20.885736Z"
    }
   },
   "cell_type": "code",
   "source": "BaseZ = lambdify((zSym,zkSym,hSym), baseZ)",
   "id": "8129c54486dd13de",
   "outputs": [],
   "execution_count": 10
  },
  {
   "metadata": {
    "ExecuteTime": {
     "end_time": "2024-08-30T00:15:21.517294Z",
     "start_time": "2024-08-30T00:15:20.894686Z"
    }
   },
   "cell_type": "code",
   "source": [
    "zGrid = Grid1(-7,7, nPlot)\n",
    "baseGrid = tuple(BaseZ(z,1,1) for z in zGrid)\n",
    "\n",
    "plot.plot(zGrid,baseGrid)\n",
    "\n",
    "plot.xlabel('h')"
   ],
   "id": "9a485ab08fcd95ef",
   "outputs": [
    {
     "data": {
      "text/plain": [
       "Text(0.5, 0, 'h')"
      ]
     },
     "execution_count": 11,
     "metadata": {},
     "output_type": "execute_result"
    },
    {
     "data": {
      "text/plain": [
       "<Figure size 640x480 with 1 Axes>"
      ],
      "image/png": "[encoded data removed]"
     },
     "metadata": {},
     "output_type": "display_data"
    }
   ],
   "execution_count": 11
  },
  {
   "metadata": {},
   "cell_type": "markdown",
   "source": "## Fit to PDF",
   "id": "2ee505a63fd087a8"
  },
  {
   "metadata": {
    "ExecuteTime": {
     "end_time": "2024-08-30T00:15:21.524645Z",
     "start_time": "2024-08-30T00:15:21.519295Z"
    }
   },
   "cell_type": "code",
   "source": "PdfZ = lambda z: dist.Pdf(map_.Inverse(z))",
   "id": "b042d3edd9eef476",
   "outputs": [],
   "execution_count": 12
  },
  {
   "metadata": {
    "ExecuteTime": {
     "end_time": "2024-08-30T00:15:21.568174Z",
     "start_time": "2024-08-30T00:15:21.529642Z"
    }
   },
   "cell_type": "code",
   "source": [
    "truncStep = 1e-3\n",
    "domainWidth = 2"
   ],
   "id": "e71f495c457fb9f5",
   "outputs": [],
   "execution_count": 13
  },
  {
   "metadata": {
    "ExecuteTime": {
     "end_time": "2024-08-30T00:15:21.614563Z",
     "start_time": "2024-08-30T00:15:21.570175Z"
    }
   },
   "cell_type": "code",
   "source": [
    "zMin = fsolve(lambda z: PdfZ(z) - domainWidth * truncStep, -3)[0]\n",
    "zMax = fsolve(lambda z: PdfZ(z) - domainWidth * truncStep, 6)[0]\n",
    "zMin,zMax"
   ],
   "id": "347dd77f57eb5544",
   "outputs": [
    {
     "data": {
      "text/plain": [
       "(-3.6670802419239874, 8.005698096694639)"
      ]
     },
     "execution_count": 14,
     "metadata": {},
     "output_type": "execute_result"
    }
   ],
   "execution_count": 14
  },
  {
   "metadata": {
    "ExecuteTime": {
     "end_time": "2024-08-30T00:15:22.531422Z",
     "start_time": "2024-08-30T00:15:21.617564Z"
    }
   },
   "cell_type": "code",
   "source": [
    "fig,ax = plot.subplots()\n",
    "\n",
    "zGrid = Grid1(zMin,zMax, nPlot)\n",
    "pdf = tuple(PdfZ(z) for z in zGrid)\n",
    "\n",
    "plot.semilogy(zGrid,pdf, c='blue')\n",
    "\n",
    "ax.set_ylim(1e-3,2)"
   ],
   "id": "2372d0ae31129638",
   "outputs": [
    {
     "data": {
      "text/plain": [
       "(0.001, 2)"
      ]
     },
     "execution_count": 15,
     "metadata": {},
     "output_type": "execute_result"
    },
    {
     "data": {
      "text/plain": [
       "<Figure size 640x480 with 1 Axes>"
      ],
      "image/png": "[encoded data removed]"
     },
     "metadata": {},
     "output_type": "display_data"
    }
   ],
   "execution_count": 15
  },
  {
   "metadata": {
    "ExecuteTime": {
     "end_time": "2024-08-30T00:15:22.543465Z",
     "start_time": "2024-08-30T00:15:22.536420Z"
    }
   },
   "cell_type": "code",
   "source": [
    "def Fit(zRange, nBase):\n",
    "\tassert(1 < nBase)\n",
    "\tzMin,zMax = zRange\n",
    "\t\n",
    "\tsechZ = Grid1(*zRange, nBase)\n",
    "\th = (zMax - zMin) / (nBase - 1)\n",
    "\t\n",
    "\tmat = []\n",
    "\tfor matchZ in sechZ:\n",
    "\t\tmat.append([BaseZ(matchZ,baseZ,h) for baseZ in sechZ])\n",
    "\trhs = [PdfZ(z) for z in sechZ]\n",
    "\t\n",
    "\tfit = lstsq(mat, rhs)\n",
    "\tweight,res,rank,singVal = fit\n",
    "\n",
    "\tcondNum = singVal[0] / singVal[nBase - 1]\n",
    "\t\n",
    "\treturn ((sechZ,weight),  condNum)"
   ],
   "id": "e9363a5042b33b40",
   "outputs": [],
   "execution_count": 16
  },
  {
   "metadata": {
    "ExecuteTime": {
     "end_time": "2024-08-30T00:15:22.570710Z",
     "start_time": "2024-08-30T00:15:22.546466Z"
    }
   },
   "cell_type": "code",
   "source": "nSech = 21",
   "id": "453e2c92670049b7",
   "outputs": [],
   "execution_count": 17
  },
  {
   "metadata": {
    "ExecuteTime": {
     "end_time": "2024-08-30T00:15:22.763121Z",
     "start_time": "2024-08-30T00:15:22.573709Z"
    }
   },
   "cell_type": "code",
   "source": [
    "sechApprox,condNum = Fit((zMin,zMax), nSech)\n",
    "condNum"
   ],
   "id": "a90cba3fdc186ccd",
   "outputs": [
    {
     "data": {
      "text/plain": [
       "33.10287387750965"
      ]
     },
     "execution_count": 18,
     "metadata": {},
     "output_type": "execute_result"
    }
   ],
   "execution_count": 18
  },
  {
   "metadata": {
    "ExecuteTime": {
     "end_time": "2024-08-30T00:15:22.965153Z",
     "start_time": "2024-08-30T00:15:22.765122Z"
    }
   },
   "cell_type": "code",
   "source": [
    "plot.plot(*sechApprox, '.', c='red')\n",
    "\n",
    "plot.plot(zGrid, pdf, c='blue')"
   ],
   "id": "a5aca20039c21dc8",
   "outputs": [
    {
     "data": {
      "text/plain": [
       "[<matplotlib.lines.Line2D at 0x19704953770>]"
      ]
     },
     "execution_count": 19,
     "metadata": {},
     "output_type": "execute_result"
    },
    {
     "data": {
      "text/plain": [
       "<Figure size 640x480 with 1 Axes>"
      ],
      "image/png": "[encoded data removed]"
     },
     "metadata": {},
     "output_type": "display_data"
    }
   ],
   "execution_count": 19
  },
  {
   "metadata": {
    "ExecuteTime": {
     "end_time": "2024-08-30T00:15:22.975691Z",
     "start_time": "2024-08-30T00:15:22.968154Z"
    }
   },
   "cell_type": "code",
   "source": [
    "extZRange = tuple(z*s for (z,s) in zip((zMin,zMax), (2,2)))\n",
    "extZRange"
   ],
   "id": "ac749755c96c9086",
   "outputs": [
    {
     "data": {
      "text/plain": [
       "(-7.334160483847975, 16.011396193389277)"
      ]
     },
     "execution_count": 20,
     "metadata": {},
     "output_type": "execute_result"
    }
   ],
   "execution_count": 20
  },
  {
   "metadata": {
    "ExecuteTime": {
     "end_time": "2024-08-30T00:15:23.008618Z",
     "start_time": "2024-08-30T00:15:22.979693Z"
    }
   },
   "cell_type": "code",
   "source": [
    "def Interp0(sechZ,sechV,h, z):\n",
    "\tresult = sum(sv * BaseZ(z,sz,h) for (sz,sv) in zip(sechZ, sechV))\n",
    "\n",
    "\treturn result"
   ],
   "id": "accd76642fe709f0",
   "outputs": [],
   "execution_count": 21
  },
  {
   "metadata": {
    "ExecuteTime": {
     "end_time": "2024-08-30T00:15:23.052825Z",
     "start_time": "2024-08-30T00:15:23.012618Z"
    }
   },
   "cell_type": "code",
   "source": [
    "def Interp1(sechApprox, zGrid):\n",
    "\tsechZ,sechV = sechApprox\n",
    "\t\n",
    "\tnSech = len(sechZ)\n",
    "\tzMin,zMax = (sechZ[0], sechZ[nSech - 1])\n",
    "\th = (zMax - zMin) / (nSech - 1)\n",
    "\t\n",
    "\tresult = tuple(Interp0(sechZ,sechV,h, z) for z in zGrid)\n",
    "\treturn result"
   ],
   "id": "30e471807c9ab996",
   "outputs": [],
   "execution_count": 22
  },
  {
   "metadata": {
    "ExecuteTime": {
     "end_time": "2024-08-30T00:15:23.566235Z",
     "start_time": "2024-08-30T00:15:23.054825Z"
    }
   },
   "cell_type": "code",
   "source": [
    "fig,ax = plot.subplots(figsize=(11, 6.5))\n",
    "\n",
    "zGrid = Grid1(*extZRange, 501)\n",
    "pdf = tuple(PdfZ(z) for z in zGrid)\n",
    "plot.semilogy(zGrid,pdf, c='blue')\n",
    "\n",
    "est = Interp1(sechApprox, zGrid)\n",
    "plot.semilogy(zGrid,est, c='green')\n",
    "\n",
    "sechZ,weight = sechApprox\n",
    "sechV = tuple(PdfZ(z) for z in sechZ)\n",
    "plot.semilogy(sechZ,sechV, 'o', c='green')\n",
    "\t\n",
    "ax.set_ylim(1e-4,2)"
   ],
   "id": "8d6b48f6e91f11e0",
   "outputs": [
    {
     "data": {
      "text/plain": [
       "(0.0001, 2)"
      ]
     },
     "execution_count": 23,
     "metadata": {},
     "output_type": "execute_result"
    },
    {
     "data": {
      "text/plain": [
       "<Figure size 1100x650 with 1 Axes>"
      ],
      "image/png": "[encoded data removed]"
     },
     "metadata": {},
     "output_type": "display_data"
    }
   ],
   "execution_count": 23
  },
  {
   "metadata": {
    "ExecuteTime": {
     "end_time": "2024-08-30T00:15:23.758432Z",
     "start_time": "2024-08-30T00:15:23.568237Z"
    }
   },
   "cell_type": "code",
   "source": [
    "zGrid = Grid1(*extZRange, nPlot)\n",
    "est = Interp1(sechApprox, zGrid)\n",
    "pdf = tuple(dist.Pdf(map_.Inverse(z)) for z in zGrid)\n",
    "diff = tuple(p - e for (p,e) in zip(pdf,est))\n",
    "\n",
    "plot.plot(zGrid, diff, c='red')\n",
    "\n",
    "# plot.plot(zGrid, pdf, c='blue')\n",
    "# plot.plot(zGrid, est, c='green')"
   ],
   "id": "45547efc104fec84",
   "outputs": [
    {
     "data": {
      "text/plain": [
       "[<matplotlib.lines.Line2D at 0x19706df9ca0>]"
      ]
     },
     "execution_count": 24,
     "metadata": {},
     "output_type": "execute_result"
    },
    {
     "data": {
      "text/plain": [
       "<Figure size 640x480 with 1 Axes>"
      ],
      "image/png": "[encoded data removed]"
     },
     "metadata": {},
     "output_type": "display_data"
    }
   ],
   "execution_count": 24
  },
  {
   "metadata": {
    "ExecuteTime": {
     "end_time": "2024-08-30T00:15:23.768528Z",
     "start_time": "2024-08-30T00:15:23.760434Z"
    }
   },
   "cell_type": "code",
   "source": [
    "def ErrorZ(sechApprox, F):\n",
    "\tsechZ,weight = sechApprox\n",
    "\t\n",
    "\tnSech = len(sechZ)\n",
    "\tzMin,zMax = sechZ[0],sechZ[nSech - 1]\n",
    "\th = (zMax - zMin) / (nSech - 1)\n",
    "\t\t\n",
    "\tDiff = lambda z: Interp0(sechZ,weight,h, z) - F(z)\n",
    "\t\n",
    "\textZRange = tuple(z * s for (z,s) in zip((zMin,zMax), (2,2)))\n",
    "\tnSinc = 4 * nSech\n",
    "\t\n",
    "\tsincZ = Grid1(*extZRange, nSinc)\n",
    "\tdiff = tuple(Diff(z) for z in sincZ)\n",
    "\t\n",
    "\tresult = sqrt(h * sum(d*d for d in diff))\n",
    "\treturn result"
   ],
   "id": "f7eff866b225dc30",
   "outputs": [],
   "execution_count": 25
  },
  {
   "metadata": {
    "ExecuteTime": {
     "end_time": "2024-08-30T00:15:23.788234Z",
     "start_time": "2024-08-30T00:15:23.770530Z"
    }
   },
   "cell_type": "code",
   "source": "PdfZ = lambda z: dist.Pdf(map_.Inverse(z))",
   "id": "39420cc3b8d2dccd",
   "outputs": [],
   "execution_count": 26
  },
  {
   "metadata": {
    "ExecuteTime": {
     "end_time": "2024-08-30T00:15:23.807098Z",
     "start_time": "2024-08-30T00:15:23.790234Z"
    }
   },
   "cell_type": "code",
   "source": "ErrorZ(sechApprox, PdfZ)",
   "id": "88adcaa64f8aa858",
   "outputs": [
    {
     "data": {
      "text/plain": [
       "0.020768008499360207"
      ]
     },
     "execution_count": 27,
     "metadata": {},
     "output_type": "execute_result"
    }
   ],
   "execution_count": 27
  },
  {
   "metadata": {
    "ExecuteTime": {
     "end_time": "2024-08-30T00:15:23.861850Z",
     "start_time": "2024-08-30T00:15:23.809099Z"
    }
   },
   "cell_type": "code",
   "source": [
    "def ErrN(F, nSech, zRange):\n",
    "\tsechEst,condNum = Fit(zRange,nSech)\n",
    "\n",
    "\terrEst = ErrorZ(sechEst, F)\n",
    "\t\n",
    "\treturn (errEst, condNum)"
   ],
   "id": "34769a4d738da508",
   "outputs": [],
   "execution_count": 28
  },
  {
   "metadata": {
    "ExecuteTime": {
     "end_time": "2024-08-30T00:15:23.874571Z",
     "start_time": "2024-08-30T00:15:23.863855Z"
    }
   },
   "cell_type": "code",
   "source": "nRange = tuple(range(3,70))",
   "id": "71e0b689334b6c4",
   "outputs": [],
   "execution_count": 29
  },
  {
   "metadata": {
    "ExecuteTime": {
     "end_time": "2024-08-30T00:15:25.391626Z",
     "start_time": "2024-08-30T00:15:23.876572Z"
    }
   },
   "cell_type": "code",
   "source": "errN = tuple((n,ErrN(PdfZ,n,(zMin,zMax))) for n in nRange)",
   "id": "7d6866d9944501a0",
   "outputs": [],
   "execution_count": 30
  },
  {
   "metadata": {
    "ExecuteTime": {
     "end_time": "2024-08-30T00:15:25.402159Z",
     "start_time": "2024-08-30T00:15:25.397427Z"
    }
   },
   "cell_type": "code",
   "source": [
    "nL,info = UnZip(errN)\n",
    "err,cond = UnZip(info)"
   ],
   "id": "c94c22a239848fbc",
   "outputs": [],
   "execution_count": 31
  },
  {
   "metadata": {
    "ExecuteTime": {
     "end_time": "2024-08-30T00:15:25.417819Z",
     "start_time": "2024-08-30T00:15:25.404165Z"
    }
   },
   "cell_type": "code",
   "source": "fitRange = (5,21)",
   "id": "6c388860a5a3295a",
   "outputs": [],
   "execution_count": 32
  },
  {
   "metadata": {
    "ExecuteTime": {
     "end_time": "2024-08-30T00:15:25.434797Z",
     "start_time": "2024-08-30T00:15:25.419822Z"
    }
   },
   "cell_type": "code",
   "source": [
    "fitIndex = IndexOf(nL, lambda n: (fitRange[0] <= n) and (n <= fitRange[1]))\n",
    "fitIndex"
   ],
   "id": "f96b8a96dd65a425",
   "outputs": [
    {
     "data": {
      "text/plain": [
       "[2, 3, 4, 5, 6, 7, 8, 9, 10, 11, 12, 13, 14, 15, 16, 17, 18]"
      ]
     },
     "execution_count": 33,
     "metadata": {},
     "output_type": "execute_result"
    }
   ],
   "execution_count": 33
  },
  {
   "metadata": {
    "ExecuteTime": {
     "end_time": "2024-08-30T00:15:25.460927Z",
     "start_time": "2024-08-30T00:15:25.436798Z"
    }
   },
   "cell_type": "code",
   "source": [
    "fitIndex = IndexOf(nL, lambda n: (5 <= n) and (n <= 21))\n",
    "nSub = Sub(nL, fitIndex)\n",
    "lnErr = tuple(log(e) for e in Sub(err, fitIndex))\n",
    "\n",
    "slope,inter,_,_,_ = linregress(nSub,lnErr)\n",
    "Fit = lambda n: exp(inter) * exp(slope * n)\n",
    "InvFit = lambda err: (log(err) - inter) / slope\n",
    "\n",
    "slope,exp(inter)"
   ],
   "id": "55eeb8dc991d87ab",
   "outputs": [
    {
     "data": {
      "text/plain": [
       "(-0.2974164572019396, 11.308274751601045)"
      ]
     },
     "execution_count": 34,
     "metadata": {},
     "output_type": "execute_result"
    }
   ],
   "execution_count": 34
  },
  {
   "metadata": {
    "ExecuteTime": {
     "end_time": "2024-08-30T00:15:25.984449Z",
     "start_time": "2024-08-30T00:15:25.462928Z"
    }
   },
   "cell_type": "code",
   "source": [
    "fig,ax = plot.subplots()\n",
    "\n",
    "plot.semilogy(nL,err, '.', c='red')\n",
    "\n",
    "nLim = MinMax(nRange)\n",
    "plot.semilogy(nLim, tuple(2*truncStep for _ in range(2)), ':',c='blue', zorder=-1)\n",
    "plot.semilogy(nLim, tuple(truncStep for _ in range(2)), '--',c='blue', zorder=-1)\n",
    "\n",
    "nGrid = (fitRange[0], InvFit(truncStep))\n",
    "fitGrid = tuple(map(Fit, nGrid))\n",
    "\n",
    "plot.semilogy(nGrid,fitGrid, '--', c='green', zorder=-2)\n",
    "\n",
    "plot.xlabel('n')\n",
    "plot.ylabel('RMS Error')"
   ],
   "id": "ab5f82c75126ed7c",
   "outputs": [
    {
     "data": {
      "text/plain": [
       "Text(0, 0.5, 'RMS Error')"
      ]
     },
     "execution_count": 35,
     "metadata": {},
     "output_type": "execute_result"
    },
    {
     "data": {
      "text/plain": [
       "<Figure size 640x480 with 1 Axes>"
      ],
      "image/png": "[encoded data removed]"
     },
     "metadata": {},
     "output_type": "display_data"
    }
   ],
   "execution_count": 35
  },
  {
   "metadata": {
    "ExecuteTime": {
     "end_time": "2024-08-30T00:15:25.990093Z",
     "start_time": "2024-08-30T00:15:25.986449Z"
    }
   },
   "cell_type": "code",
   "source": "",
   "id": "89da170f2a48959c",
   "outputs": [],
   "execution_count": 35
  }
 ],
 "metadata": {
  "kernelspec": {
   "display_name": "Python 3",
   "language": "python",
   "name": "python3"
  },
  "language_info": {
   "codemirror_mode": {
    "name": "ipython",
    "version": 2
   },
   "file_extension": ".py",
   "mimetype": "text/x-python",
   "name": "python",
   "nbconvert_exporter": "python",
   "pygments_lexer": "ipython2",
   "version": "2.7.6"
  }
 },
 "nbformat": 4,
 "nbformat_minor": 5
}
