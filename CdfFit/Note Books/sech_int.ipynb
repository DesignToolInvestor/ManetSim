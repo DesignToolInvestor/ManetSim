{
 "cells": [
  {
   "metadata": {},
   "cell_type": "markdown",
   "source": "# Sech - Contour Integrals Parallel to the Real Line",
   "id": "db19229346cc9d8d"
  },
  {
   "metadata": {
    "ExecuteTime": {
     "end_time": "2024-08-31T00:28:42.742055Z",
     "start_time": "2024-08-31T00:28:42.736742Z"
    }
   },
   "cell_type": "code",
   "source": [
    "import sympy as sp\n",
    "\n",
    "from math import exp, log, sqrt\n",
    "from matplotlib import pyplot as plot\n",
    "from scipy.linalg import lstsq\n",
    "from scipy.optimize import fsolve\n",
    "from scipy.stats import linregress\n",
    "from sympy import Symbol, cosh, I, integrate, lambdify, oo, pi\n",
    "\n",
    "import DistExampB as db\n",
    "\n",
    "from Map import LogRatio\n",
    "from LocUtil import Grid1, MinMax, IndexOf, Sub, UnZip"
   ],
   "id": "e25ba77891e370b4",
   "outputs": [],
   "execution_count": 19
  },
  {
   "metadata": {
    "ExecuteTime": {
     "end_time": "2024-08-31T00:23:11.011499Z",
     "start_time": "2024-08-31T00:23:11.007470Z"
    }
   },
   "cell_type": "code",
   "source": "nPlot = 201",
   "id": "d11f04df6ce3161e",
   "outputs": [],
   "execution_count": 2
  },
  {
   "metadata": {
    "ExecuteTime": {
     "end_time": "2024-08-31T00:23:11.726286Z",
     "start_time": "2024-08-31T00:23:11.595260Z"
    }
   },
   "cell_type": "code",
   "source": "dist = db.ExampB()",
   "id": "a8058414bb933c18",
   "outputs": [],
   "execution_count": 3
  },
  {
   "metadata": {
    "ExecuteTime": {
     "end_time": "2024-08-31T00:29:20.525637Z",
     "start_time": "2024-08-31T00:29:20.521065Z"
    }
   },
   "cell_type": "code",
   "source": [
    "xSym = Symbol('x')\n",
    "ySym = Symbol('y')\n",
    "\n",
    "zSym = Symbol('z', complex=True)"
   ],
   "id": "bec41a9a872e32de",
   "outputs": [],
   "execution_count": 20
  },
  {
   "metadata": {},
   "cell_type": "code",
   "outputs": [],
   "execution_count": null,
   "source": "",
   "id": "24fcf76aae4eb88c"
  },
  {
   "metadata": {
    "ExecuteTime": {
     "end_time": "2024-08-31T00:23:14.716960Z",
     "start_time": "2024-08-31T00:23:14.713235Z"
    }
   },
   "cell_type": "code",
   "source": [
    "hSym = Symbol('h', positive=True)\n",
    "zkSym = Symbol('zk', real=True)"
   ],
   "id": "22bb96319a3ac84c",
   "outputs": [],
   "execution_count": 6
  },
  {
   "metadata": {
    "ExecuteTime": {
     "end_time": "2024-08-31T00:23:22.402315Z",
     "start_time": "2024-08-31T00:23:22.394777Z"
    }
   },
   "cell_type": "code",
   "source": [
    "F = 1/pi * 1 / cosh((zSym - zkSym) / hSym)\n",
    "F"
   ],
   "id": "398c06d4ab772c47",
   "outputs": [
    {
     "data": {
      "text/plain": [
       "1/(pi*cosh((z - zk)/h))"
      ],
      "text/latex": "$\\displaystyle \\frac{1}{\\pi \\cosh{\\left(\\frac{z - zk}{h} \\right)}}$"
     },
     "execution_count": 8,
     "metadata": {},
     "output_type": "execute_result"
    }
   ],
   "execution_count": 8
  },
  {
   "metadata": {
    "ExecuteTime": {
     "end_time": "2024-08-31T00:24:40.618003Z",
     "start_time": "2024-08-31T00:24:40.300185Z"
    }
   },
   "cell_type": "code",
   "source": "integrate(F.subs(zkSym,0), (zSym,-oo,oo))",
   "id": "51597d6365ec711",
   "outputs": [
    {
     "data": {
      "text/plain": [
       "h"
      ],
      "text/latex": "$\\displaystyle h$"
     },
     "execution_count": 12,
     "metadata": {},
     "output_type": "execute_result"
    }
   ],
   "execution_count": 12
  },
  {
   "metadata": {
    "ExecuteTime": {
     "end_time": "2024-08-31T00:25:01.516767Z",
     "start_time": "2024-08-31T00:25:01.509064Z"
    }
   },
   "cell_type": "code",
   "source": [
    "temp = F.subs(zkSym,0)\n",
    "temp"
   ],
   "id": "3d9d220f70e8d39a",
   "outputs": [
    {
     "data": {
      "text/plain": [
       "1/(pi*cosh(z/h))"
      ],
      "text/latex": "$\\displaystyle \\frac{1}{\\pi \\cosh{\\left(\\frac{z}{h} \\right)}}$"
     },
     "execution_count": 13,
     "metadata": {},
     "output_type": "execute_result"
    }
   ],
   "execution_count": 13
  },
  {
   "metadata": {
    "ExecuteTime": {
     "end_time": "2024-08-31T00:33:17.884846Z",
     "start_time": "2024-08-31T00:33:17.878141Z"
    }
   },
   "cell_type": "code",
   "source": [
    "temp1 = temp.subs(zSym, xSym + I*ySym)\n",
    "temp1"
   ],
   "id": "b62b45cda1b9a7d5",
   "outputs": [
    {
     "data": {
      "text/plain": [
       "1/(pi*cosh((x + I*y)/h))"
      ],
      "text/latex": "$\\displaystyle \\frac{1}{\\pi \\cosh{\\left(\\frac{x + i y}{h} \\right)}}$"
     },
     "execution_count": 22,
     "metadata": {},
     "output_type": "execute_result"
    }
   ],
   "execution_count": 22
  },
  {
   "metadata": {
    "ExecuteTime": {
     "end_time": "2024-08-31T00:34:25.091065Z",
     "start_time": "2024-08-31T00:34:24.901458Z"
    }
   },
   "cell_type": "code",
   "source": "integrate(temp1.subs(ySym, hSym), (zSym,-oo,oo))",
   "id": "63e95c06d577827",
   "outputs": [
    {
     "data": {
      "text/plain": [
       "oo*sign(1/cosh((I*h + x)/h))"
      ],
      "text/latex": "$\\displaystyle \\infty \\operatorname{sign}{\\left(\\frac{1}{\\cosh{\\left(\\frac{i h + x}{h} \\right)}} \\right)}$"
     },
     "execution_count": 25,
     "metadata": {},
     "output_type": "execute_result"
    }
   ],
   "execution_count": 25
  },
  {
   "metadata": {
    "ExecuteTime": {
     "end_time": "2024-08-31T00:28:18.535653Z",
     "start_time": "2024-08-31T00:28:18.529689Z"
    }
   },
   "cell_type": "code",
   "source": "sp.I",
   "id": "8ea41029dbbe755e",
   "outputs": [
    {
     "data": {
      "text/plain": [
       "I"
      ],
      "text/latex": "$\\displaystyle i$"
     },
     "execution_count": 17,
     "metadata": {},
     "output_type": "execute_result"
    }
   ],
   "execution_count": 17
  },
  {
   "metadata": {},
   "cell_type": "code",
   "outputs": [],
   "execution_count": null,
   "source": "",
   "id": "6603ffdded7ef47f"
  }
 ],
 "metadata": {
  "kernelspec": {
   "display_name": "Python 3",
   "language": "python",
   "name": "python3"
  },
  "language_info": {
   "codemirror_mode": {
    "name": "ipython",
    "version": 2
   },
   "file_extension": ".py",
   "mimetype": "text/x-python",
   "name": "python",
   "nbconvert_exporter": "python",
   "pygments_lexer": "ipython2",
   "version": "2.7.6"
  }
 },
 "nbformat": 4,
 "nbformat_minor": 5
}
