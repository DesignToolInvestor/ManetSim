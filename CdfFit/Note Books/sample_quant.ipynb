{
 "cells": [
  {
   "metadata": {},
   "cell_type": "markdown",
   "source": [
    "# The sample quantiles\n",
    "\n",
    "This workbook looks at the quantile of a finite set of IID samples.  Specifically, it computes \n",
    "the ensemble quantiles for sets of U(0,1) of size n. "
   ],
   "id": "8123d379c7be5862"
  },
  {
   "metadata": {
    "ExecuteTime": {
     "end_time": "2024-08-05T20:09:20.065513Z",
     "start_time": "2024-08-05T20:09:16.749846Z"
    }
   },
   "cell_type": "code",
   "source": [
    "import sympy as sp\n",
    "from matplotlib import pyplot as plot\n",
    "\n",
    "import LocUtil as LU"
   ],
   "id": "e49504df910cb197",
   "outputs": [],
   "execution_count": 133
  },
  {
   "metadata": {
    "ExecuteTime": {
     "end_time": "2024-08-05T20:03:07.804782Z",
     "start_time": "2024-08-05T20:03:07.800110Z"
    }
   },
   "cell_type": "code",
   "source": [
    "xSym = sp.Symbol('x')\n",
    "ySym = sp.Symbol('y')\n",
    "nSym = sp.Symbol('n', positive=True, integer=True)\n",
    "\n",
    "xMaxSym = sp.Symbol('X_x')\n",
    "xMinSym = sp.Symbol('X_n')"
   ],
   "id": "263fa09023199380",
   "outputs": [],
   "execution_count": 123
  },
  {
   "metadata": {
    "ExecuteTime": {
     "end_time": "2024-08-05T20:10:06.980693Z",
     "start_time": "2024-08-05T20:10:06.972839Z"
    }
   },
   "cell_type": "code",
   "source": [
    "nSamp = 99\n",
    "nPlot = 101"
   ],
   "id": "f0024749c2ba291c",
   "outputs": [],
   "execution_count": 137
  },
  {
   "metadata": {},
   "cell_type": "markdown",
   "source": [
    "## Extreme Values\n",
    "\n",
    "### X_max"
   ],
   "id": "699ecdaf991feca8"
  },
  {
   "metadata": {},
   "cell_type": "markdown",
   "source": "PXLTY (Probability of X Less Than Y)",
   "id": "47f94cda1bad7f3f"
  },
  {
   "metadata": {
    "ExecuteTime": {
     "end_time": "2024-08-05T16:39:50.999110Z",
     "start_time": "2024-08-05T16:39:50.994705Z"
    }
   },
   "cell_type": "code",
   "source": "pxlty = ySym",
   "id": "3d6f7d0c9f453a60",
   "outputs": [],
   "execution_count": 53
  },
  {
   "metadata": {
    "ExecuteTime": {
     "end_time": "2024-08-05T16:39:51.940087Z",
     "start_time": "2024-08-05T16:39:51.934234Z"
    }
   },
   "cell_type": "code",
   "source": [
    "pMaxLtY = pxlty ** nSym\n",
    "pMaxLtY"
   ],
   "id": "1c1b105b057348cf",
   "outputs": [
    {
     "data": {
      "text/plain": [
       "y**n"
      ],
      "text/latex": "$\\displaystyle y^{n}$"
     },
     "execution_count": 54,
     "metadata": {},
     "output_type": "execute_result"
    }
   ],
   "execution_count": 54
  },
  {
   "metadata": {
    "ExecuteTime": {
     "end_time": "2024-08-05T16:39:52.755270Z",
     "start_time": "2024-08-05T16:39:52.748965Z"
    }
   },
   "cell_type": "code",
   "source": [
    "cXMax = pMaxLtY.subs(ySym, xMaxSym)\n",
    "cXMax"
   ],
   "id": "1726af0b44af8566",
   "outputs": [
    {
     "data": {
      "text/plain": [
       "X_x**n"
      ],
      "text/latex": "$\\displaystyle X_{x}^{n}$"
     },
     "execution_count": 55,
     "metadata": {},
     "output_type": "execute_result"
    }
   ],
   "execution_count": 55
  },
  {
   "metadata": {
    "ExecuteTime": {
     "end_time": "2024-08-05T16:39:53.558834Z",
     "start_time": "2024-08-05T16:39:53.528629Z"
    }
   },
   "cell_type": "code",
   "source": [
    "pXMax = cXMax.diff(xMaxSym).simplify()\n",
    "pXMax"
   ],
   "id": "7223180872ef3b5a",
   "outputs": [
    {
     "data": {
      "text/plain": [
       "X_x**(n - 1)*n"
      ],
      "text/latex": "$\\displaystyle X_{x}^{n - 1} n$"
     },
     "execution_count": 56,
     "metadata": {},
     "output_type": "execute_result"
    }
   ],
   "execution_count": 56
  },
  {
   "metadata": {
    "ExecuteTime": {
     "end_time": "2024-08-05T16:39:59.519787Z",
     "start_time": "2024-08-05T16:39:59.359783Z"
    }
   },
   "cell_type": "code",
   "source": "sp.integrate(pXMax * xMaxSym, xMaxSym).simplify()",
   "id": "e87a5b03dd5bfc9e",
   "outputs": [
    {
     "data": {
      "text/plain": [
       "X_x**(n + 1)*n/(n + 1)"
      ],
      "text/latex": "$\\displaystyle \\frac{X_{x}^{n + 1} n}{n + 1}$"
     },
     "execution_count": 57,
     "metadata": {},
     "output_type": "execute_result"
    }
   ],
   "execution_count": 57
  },
  {
   "metadata": {
    "ExecuteTime": {
     "end_time": "2024-08-05T16:40:02.514867Z",
     "start_time": "2024-08-05T16:40:02.499651Z"
    }
   },
   "cell_type": "code",
   "source": [
    "temp = nSym/(nSym + 1) * xMaxSym ** (nSym + 1)\n",
    "eXMax = (temp.subs(xMaxSym,1) - temp.subs(xMaxSym,0)).simplify()\n",
    "eXMax"
   ],
   "id": "20cd36bf9feda5ac",
   "outputs": [
    {
     "data": {
      "text/plain": [
       "n/(n + 1)"
      ],
      "text/latex": "$\\displaystyle \\frac{n}{n + 1}$"
     },
     "execution_count": 58,
     "metadata": {},
     "output_type": "execute_result"
    }
   ],
   "execution_count": 58
  },
  {
   "metadata": {
    "ExecuteTime": {
     "end_time": "2024-08-05T17:02:34.236283Z",
     "start_time": "2024-08-05T17:02:34.178323Z"
    }
   },
   "cell_type": "code",
   "source": "sp.series(eXMax, x0=sp.oo)",
   "id": "b322fc8d0b178b5f",
   "outputs": [
    {
     "data": {
      "text/plain": [
       "-1/n**5 + n**(-4) - 1/n**3 + n**(-2) - 1/n + 1 + O(n**(-6), (n, oo))"
      ],
      "text/latex": "$\\displaystyle - \\frac{1}{n^{5}} + \\frac{1}{n^{4}} - \\frac{1}{n^{3}} + \\frac{1}{n^{2}} - \\frac{1}{n} + 1 + O\\left(\\frac{1}{n^{6}}; n\\rightarrow \\infty\\right)$"
     },
     "execution_count": 63,
     "metadata": {},
     "output_type": "execute_result"
    }
   ],
   "execution_count": 63
  },
  {
   "metadata": {},
   "cell_type": "markdown",
   "source": "### X_min",
   "id": "1d74e29cba74d2f8"
  },
  {
   "metadata": {},
   "cell_type": "markdown",
   "source": [
    "## Arbitrary Quantiles\n",
    "\n",
    "Define m to be the number of samples less than y.  This implies that n - m samples are greater \n",
    "than y.\n",
    "\n",
    "The pneumonic Mn will be sued to mean m of n samples are less than y."
   ],
   "id": "ade142a056dac677"
  },
  {
   "metadata": {
    "ExecuteTime": {
     "end_time": "2024-08-05T19:57:13.080657Z",
     "start_time": "2024-08-05T19:57:13.074593Z"
    }
   },
   "cell_type": "code",
   "source": "mSym = sp.Symbol('m', positive=True, integer=True)",
   "id": "a81e814246e2f7ed",
   "outputs": [],
   "execution_count": 111
  },
  {
   "metadata": {
    "ExecuteTime": {
     "end_time": "2024-08-05T23:10:45.385737Z",
     "start_time": "2024-08-05T23:10:45.376885Z"
    }
   },
   "cell_type": "code",
   "source": [
    "pMnLtY = ySym ** mSym * (1 - ySym) ** (nSym - mSym)\n",
    "pMnLtY"
   ],
   "id": "398ffcc2286e2c3e",
   "outputs": [
    {
     "data": {
      "text/plain": [
       "y**m*(1 - y)**(-m + n)"
      ],
      "text/latex": "$\\displaystyle y^{m} \\left(1 - y\\right)^{- m + n}$"
     },
     "execution_count": 171,
     "metadata": {},
     "output_type": "execute_result"
    }
   ],
   "execution_count": 171
  },
  {
   "metadata": {
    "ExecuteTime": {
     "end_time": "2024-08-05T23:11:42.620374Z",
     "start_time": "2024-08-05T23:11:42.416255Z"
    }
   },
   "cell_type": "code",
   "source": [
    "xGrid = LU.Grid1(0,1, nPlot)\n",
    "cMaxL = tuple(pMnLtY.subs({mSym: nSym, nSym: nSamp, ySym: x}).evalf() for x in xGrid)\n",
    "\n",
    "plot.plot(xGrid, cMaxL, c='blue')\n",
    "\n",
    "plot.xlabel('y')\n",
    "plot.ylabel('Prob. of Max < Y')"
   ],
   "id": "3d555684b8aba0cb",
   "outputs": [
    {
     "data": {
      "text/plain": [
       "Text(0, 0.5, 'Prob. of Max < Y')"
      ]
     },
     "execution_count": 173,
     "metadata": {},
     "output_type": "execute_result"
    },
    {
     "data": {
      "text/plain": [
       "<Figure size 640x480 with 1 Axes>"
      ],
      "image/png": "[encoded data removed]"
     },
     "metadata": {},
     "output_type": "display_data"
    }
   ],
   "execution_count": 173
  },
  {
   "metadata": {},
   "cell_type": "markdown",
   "source": "#### Quasi manually simplification",
   "id": "5da16b6cd5dad3f0"
  },
  {
   "metadata": {
    "ExecuteTime": {
     "end_time": "2024-08-05T23:29:35.269653Z",
     "start_time": "2024-08-05T23:29:35.259990Z"
    }
   },
   "cell_type": "code",
   "source": [
    "temp0 = pMnLtY.diff(ySym)\n",
    "temp0"
   ],
   "id": "d6bf8c74c5c34519",
   "outputs": [
    {
     "data": {
      "text/plain": [
       "m*y**m*(1 - y)**(-m + n)/y + y**m*(1 - y)**(-m + n)*(m - n)/(1 - y)"
      ],
      "text/latex": "$\\displaystyle \\frac{m y^{m} \\left(1 - y\\right)^{- m + n}}{y} + \\frac{y^{m} \\left(1 - y\\right)^{- m + n} \\left(m - n\\right)}{1 - y}$"
     },
     "execution_count": 196,
     "metadata": {},
     "output_type": "execute_result"
    }
   ],
   "execution_count": 196
  },
  {
   "metadata": {
    "ExecuteTime": {
     "end_time": "2024-08-05T23:32:23.321292Z",
     "start_time": "2024-08-05T23:32:23.314294Z"
    }
   },
   "cell_type": "code",
   "source": [
    "terms = temp0.args\n",
    "terms"
   ],
   "id": "41ec294b9eb57109",
   "outputs": [
    {
     "data": {
      "text/plain": [
       "(m*y**m*(1 - y)**(-m + n)/y, y**m*(1 - y)**(-m + n)*(m - n)/(1 - y))"
      ]
     },
     "execution_count": 202,
     "metadata": {},
     "output_type": "execute_result"
    }
   ],
   "execution_count": 202
  },
  {
   "metadata": {
    "ExecuteTime": {
     "end_time": "2024-08-05T23:37:38.574823Z",
     "start_time": "2024-08-05T23:37:38.542886Z"
    }
   },
   "cell_type": "code",
   "source": [
    "term0 = terms[0].simplify()\n",
    "term0"
   ],
   "id": "91ac86ea955717e8",
   "outputs": [
    {
     "data": {
      "text/plain": [
       "m*y**(m - 1)*(1 - y)**(-m + n)"
      ],
      "text/latex": "$\\displaystyle m y^{m - 1} \\left(1 - y\\right)^{- m + n}$"
     },
     "execution_count": 214,
     "metadata": {},
     "output_type": "execute_result"
    }
   ],
   "execution_count": 214
  },
  {
   "metadata": {
    "ExecuteTime": {
     "end_time": "2024-08-05T23:37:38.853643Z",
     "start_time": "2024-08-05T23:37:38.763257Z"
    }
   },
   "cell_type": "code",
   "source": [
    "term1 = terms[1].simplify().subs(ySym, 1 - xSym).simplify().subs(xSym, 1 - ySym)\n",
    "term1"
   ],
   "id": "35b11631248cec35",
   "outputs": [
    {
     "data": {
      "text/plain": [
       "y**m*(1 - y)**(-m + n - 1)*(m - n)"
      ],
      "text/latex": "$\\displaystyle y^{m} \\left(1 - y\\right)^{- m + n - 1} \\left(m - n\\right)$"
     },
     "execution_count": 215,
     "metadata": {},
     "output_type": "execute_result"
    }
   ],
   "execution_count": 215
  },
  {
   "metadata": {
    "ExecuteTime": {
     "end_time": "2024-08-05T23:43:16.090622Z",
     "start_time": "2024-08-05T23:43:16.081342Z"
    }
   },
   "cell_type": "code",
   "source": [
    "pMn = term0 + term1\n",
    "pMn"
   ],
   "id": "f7ba9c6c4b3b8795",
   "outputs": [
    {
     "data": {
      "text/plain": [
       "m*y**(m - 1)*(1 - y)**(-m + n) + y**m*(1 - y)**(-m + n - 1)*(m - n)"
      ],
      "text/latex": "$\\displaystyle m y^{m - 1} \\left(1 - y\\right)^{- m + n} + y^{m} \\left(1 - y\\right)^{- m + n - 1} \\left(m - n\\right)$"
     },
     "execution_count": 223,
     "metadata": {},
     "output_type": "execute_result"
    }
   ],
   "execution_count": 223
  },
  {
   "metadata": {},
   "cell_type": "markdown",
   "source": "#### The expected value",
   "id": "ceb71803ec34d280"
  },
  {
   "metadata": {
    "ExecuteTime": {
     "end_time": "2024-08-06T00:30:20.177096Z",
     "start_time": "2024-08-06T00:30:20.162801Z"
    }
   },
   "cell_type": "code",
   "source": [
    "kSym = sp.Symbol('k', positive=True, integer=True)\n",
    "temp0 = pMn.subs(nSym, kSym + mSym)\n",
    "temp0"
   ],
   "id": "12dc880229eae844",
   "outputs": [
    {
     "data": {
      "text/plain": [
       "-k*y**m*(1 - y)**(k - 1) + m*y**(m - 1)*(1 - y)**k"
      ],
      "text/latex": "$\\displaystyle - k y^{m} \\left(1 - y\\right)^{k - 1} + m y^{m - 1} \\left(1 - y\\right)^{k}$"
     },
     "execution_count": 264,
     "metadata": {},
     "output_type": "execute_result"
    }
   ],
   "execution_count": 264
  },
  {
   "metadata": {
    "ExecuteTime": {
     "end_time": "2024-08-06T00:32:29.737169Z",
     "start_time": "2024-08-06T00:30:22.310373Z"
    }
   },
   "cell_type": "code",
   "source": [
    "temp1 = sp.integrate(temp0 * ySym, ySym)\n",
    "temp1"
   ],
   "id": "74f1b47d4b8b9a5",
   "outputs": [
    {
     "data": {
      "text/plain": [
       "-k*y**2*y**m*gamma(m + 2)*hyper((1 - k, m + 2), (m + 3,), y*exp_polar(2*I*pi))/gamma(m + 3) + m*y*y**m*gamma(m + 1)*hyper((-k, m + 1), (m + 2,), y*exp_polar(2*I*pi))/gamma(m + 2)"
      ],
      "text/latex": "$\\displaystyle - \\frac{k y^{2} y^{m} \\Gamma\\left(m + 2\\right) {{}_{2}F_{1}\\left(\\begin{matrix} 1 - k, m + 2 \\\\ m + 3 \\end{matrix}\\middle| {y e^{2 i \\pi}} \\right)}}{\\Gamma\\left(m + 3\\right)} + \\frac{m y y^{m} \\Gamma\\left(m + 1\\right) {{}_{2}F_{1}\\left(\\begin{matrix} - k, m + 1 \\\\ m + 2 \\end{matrix}\\middle| {y e^{2 i \\pi}} \\right)}}{\\Gamma\\left(m + 2\\right)}$"
     },
     "execution_count": 265,
     "metadata": {},
     "output_type": "execute_result"
    }
   ],
   "execution_count": 265
  },
  {
   "metadata": {
    "ExecuteTime": {
     "end_time": "2024-08-06T00:33:15.847884Z",
     "start_time": "2024-08-06T00:33:15.830824Z"
    }
   },
   "cell_type": "code",
   "source": [
    "temp2 = temp1.subs(kSym, nSym - mSym)\n",
    "temp2"
   ],
   "id": "c11442da06fdb5d0",
   "outputs": [
    {
     "data": {
      "text/plain": [
       "m*y*y**m*gamma(m + 1)*hyper((m - n, m + 1), (m + 2,), y*exp_polar(2*I*pi))/gamma(m + 2) - y**2*y**m*(-m + n)*gamma(m + 2)*hyper((m - n + 1, m + 2), (m + 3,), y*exp_polar(2*I*pi))/gamma(m + 3)"
      ],
      "text/latex": "$\\displaystyle \\frac{m y y^{m} \\Gamma\\left(m + 1\\right) {{}_{2}F_{1}\\left(\\begin{matrix} m - n, m + 1 \\\\ m + 2 \\end{matrix}\\middle| {y e^{2 i \\pi}} \\right)}}{\\Gamma\\left(m + 2\\right)} - \\frac{y^{2} y^{m} \\left(- m + n\\right) \\Gamma\\left(m + 2\\right) {{}_{2}F_{1}\\left(\\begin{matrix} m - n + 1, m + 2 \\\\ m + 3 \\end{matrix}\\middle| {y e^{2 i \\pi}} \\right)}}{\\Gamma\\left(m + 3\\right)}$"
     },
     "execution_count": 269,
     "metadata": {},
     "output_type": "execute_result"
    }
   ],
   "execution_count": 269
  },
  {
   "metadata": {
    "ExecuteTime": {
     "end_time": "2024-08-06T00:34:07.775479Z",
     "start_time": "2024-08-06T00:34:07.468090Z"
    }
   },
   "cell_type": "code",
   "source": [
    "expQ = (temp2.subs(ySym, 1) - temp2.subs(ySym, 0)).simplify()\n",
    "expQ"
   ],
   "id": "81fcfa2997a43459",
   "outputs": [
    {
     "data": {
      "text/plain": [
       "-factorial(m)*factorial(-m + n)/factorial(n + 1)"
      ],
      "text/latex": "$\\displaystyle - \\frac{m! \\left(- m + n\\right)!}{\\left(n + 1\\right)!}$"
     },
     "execution_count": 271,
     "metadata": {},
     "output_type": "execute_result"
    }
   ],
   "execution_count": 271
  },
  {
   "metadata": {
    "ExecuteTime": {
     "end_time": "2024-08-06T00:34:58.318125Z",
     "start_time": "2024-08-06T00:34:58.292475Z"
    }
   },
   "cell_type": "code",
   "source": "expQ.subs(mSym, 0).simplify()",
   "id": "2b6a420435483cce",
   "outputs": [
    {
     "data": {
      "text/plain": [
       "-1/(n + 1)"
      ],
      "text/latex": "$\\displaystyle - \\frac{1}{n + 1}$"
     },
     "execution_count": 272,
     "metadata": {},
     "output_type": "execute_result"
    }
   ],
   "execution_count": 272
  },
  {
   "metadata": {
    "ExecuteTime": {
     "end_time": "2024-08-06T00:36:44.747788Z",
     "start_time": "2024-08-06T00:36:44.708607Z"
    }
   },
   "cell_type": "code",
   "source": "expQ.subs(mSym, 1).simplify()",
   "id": "8fefdbaf551b4c62",
   "outputs": [
    {
     "data": {
      "text/plain": [
       "-1/(n*(n + 1))"
      ],
      "text/latex": "$\\displaystyle - \\frac{1}{n \\left(n + 1\\right)}$"
     },
     "execution_count": 274,
     "metadata": {},
     "output_type": "execute_result"
    }
   ],
   "execution_count": 274
  },
  {
   "metadata": {
    "ExecuteTime": {
     "end_time": "2024-08-06T00:37:23.296223Z",
     "start_time": "2024-08-06T00:37:23.288319Z"
    }
   },
   "cell_type": "code",
   "source": "expQ.subs(mSym, 2).factor()",
   "id": "af4097f22875acec",
   "outputs": [
    {
     "data": {
      "text/plain": [
       "-2*factorial(n - 2)/factorial(n + 1)"
      ],
      "text/latex": "$\\displaystyle - \\frac{2 \\left(n - 2\\right)!}{\\left(n + 1\\right)!}$"
     },
     "execution_count": 276,
     "metadata": {},
     "output_type": "execute_result"
    }
   ],
   "execution_count": 276
  },
  {
   "metadata": {
    "ExecuteTime": {
     "end_time": "2024-08-06T00:37:48.036145Z",
     "start_time": "2024-08-06T00:37:48.027541Z"
    }
   },
   "cell_type": "code",
   "source": "expQ.subs(mSym, 3).factor()",
   "id": "fc1ba2a253b404e2",
   "outputs": [
    {
     "data": {
      "text/plain": [
       "-6*factorial(n - 3)/factorial(n + 1)"
      ],
      "text/latex": "$\\displaystyle - \\frac{6 \\left(n - 3\\right)!}{\\left(n + 1\\right)!}$"
     },
     "execution_count": 277,
     "metadata": {},
     "output_type": "execute_result"
    }
   ],
   "execution_count": 277
  },
  {
   "metadata": {
    "ExecuteTime": {
     "end_time": "2024-08-06T00:34:58.523754Z",
     "start_time": "2024-08-06T00:34:58.500042Z"
    }
   },
   "cell_type": "code",
   "source": "expQ.subs(mSym, nSym).simplify()",
   "id": "aca4e74133ef84f1",
   "outputs": [
    {
     "data": {
      "text/plain": [
       "-1/(n + 1)"
      ],
      "text/latex": "$\\displaystyle - \\frac{1}{n + 1}$"
     },
     "execution_count": 273,
     "metadata": {},
     "output_type": "execute_result"
    }
   ],
   "execution_count": 273
  },
  {
   "metadata": {},
   "cell_type": "code",
   "outputs": [],
   "execution_count": null,
   "source": "",
   "id": "863247cc2623e256"
  },
  {
   "metadata": {},
   "cell_type": "code",
   "outputs": [],
   "execution_count": null,
   "source": "",
   "id": "3ea2ba2557b184a5"
  },
  {
   "metadata": {},
   "cell_type": "markdown",
   "source": "#### Debug",
   "id": "d714e3f0f4a139bf"
  },
  {
   "metadata": {
    "ExecuteTime": {
     "end_time": "2024-08-05T20:04:05.550317Z",
     "start_time": "2024-08-05T20:04:05.544118Z"
    }
   },
   "cell_type": "code",
   "source": [
    "pxlty = ySym\n",
    "pxlty"
   ],
   "id": "4d2f23f62829f171",
   "outputs": [
    {
     "data": {
      "text/plain": [
       "y"
      ],
      "text/latex": "$\\displaystyle y$"
     },
     "execution_count": 124,
     "metadata": {},
     "output_type": "execute_result"
    }
   ],
   "execution_count": 124
  },
  {
   "metadata": {
    "ExecuteTime": {
     "end_time": "2024-08-05T22:52:32.062435Z",
     "start_time": "2024-08-05T22:52:32.055764Z"
    }
   },
   "cell_type": "code",
   "source": [
    "pMaxLtY = pxlty ** nSym\n",
    "pMaxLtY"
   ],
   "id": "dd7225c598b5a361",
   "outputs": [
    {
     "data": {
      "text/plain": [
       "y**n"
      ],
      "text/latex": "$\\displaystyle y^{n}$"
     },
     "execution_count": 144,
     "metadata": {},
     "output_type": "execute_result"
    }
   ],
   "execution_count": 144
  },
  {
   "metadata": {
    "ExecuteTime": {
     "end_time": "2024-08-05T22:52:32.980814Z",
     "start_time": "2024-08-05T22:52:32.976512Z"
    }
   },
   "cell_type": "code",
   "source": "cMax = pMaxLtY",
   "id": "266205116b77105b",
   "outputs": [],
   "execution_count": 145
  },
  {
   "metadata": {
    "ExecuteTime": {
     "end_time": "2024-08-05T22:53:52.773092Z",
     "start_time": "2024-08-05T22:53:52.550904Z"
    }
   },
   "cell_type": "code",
   "source": [
    "xGrid = LU.Grid1(0,1, nPlot)\n",
    "cMaxL = tuple(cMax.subs(ySym, x).subs(nSym, nSamp).evalf() for x in xGrid)\n",
    "\n",
    "plot.plot(xGrid, cMaxL, c='blue')\n",
    "\n",
    "plot.xlabel('y')\n",
    "plot.ylabel('Prob. of Max < Y')"
   ],
   "id": "3b77aaf627e8b3ce",
   "outputs": [
    {
     "data": {
      "text/plain": [
       "Text(0, 0.5, 'Prob. of Max < Y')"
      ]
     },
     "execution_count": 151,
     "metadata": {},
     "output_type": "execute_result"
    },
    {
     "data": {
      "text/plain": [
       "<Figure size 640x480 with 1 Axes>"
      ],
      "image/png": "[encoded data removed]"
     },
     "metadata": {},
     "output_type": "display_data"
    }
   ],
   "execution_count": 151
  },
  {
   "metadata": {
    "ExecuteTime": {
     "end_time": "2024-08-05T22:54:23.124781Z",
     "start_time": "2024-08-05T22:54:23.117231Z"
    }
   },
   "cell_type": "code",
   "source": [
    "pMax = cMax.diff(ySym)\n",
    "pMax"
   ],
   "id": "c4bfbe6e6185da5a",
   "outputs": [
    {
     "data": {
      "text/plain": [
       "n*y**n/y"
      ],
      "text/latex": "$\\displaystyle \\frac{n y^{n}}{y}$"
     },
     "execution_count": 153,
     "metadata": {},
     "output_type": "execute_result"
    }
   ],
   "execution_count": 153
  },
  {
   "metadata": {
    "ExecuteTime": {
     "end_time": "2024-08-05T22:55:17.164544Z",
     "start_time": "2024-08-05T22:55:17.150761Z"
    }
   },
   "cell_type": "code",
   "source": [
    "temp = expVal = sp.integrate(pMax * ySym, ySym)\n",
    "temp"
   ],
   "id": "a5719fa6f247e305",
   "outputs": [
    {
     "data": {
      "text/plain": [
       "n*y**(n + 1)/(n + 1)"
      ],
      "text/latex": "$\\displaystyle \\frac{n y^{n + 1}}{n + 1}$"
     },
     "execution_count": 155,
     "metadata": {},
     "output_type": "execute_result"
    }
   ],
   "execution_count": 155
  },
  {
   "metadata": {
    "ExecuteTime": {
     "end_time": "2024-08-05T22:56:08.193574Z",
     "start_time": "2024-08-05T22:56:08.172281Z"
    }
   },
   "cell_type": "code",
   "source": [
    "expMax = (temp.subs(ySym, 1) - temp.subs(ySym, 0)).simplify()\n",
    "expMax"
   ],
   "id": "b9c4bee89a16235e",
   "outputs": [
    {
     "data": {
      "text/plain": [
       "n/(n + 1)"
      ],
      "text/latex": "$\\displaystyle \\frac{n}{n + 1}$"
     },
     "execution_count": 156,
     "metadata": {},
     "output_type": "execute_result"
    }
   ],
   "execution_count": 156
  },
  {
   "metadata": {
    "ExecuteTime": {
     "end_time": "2024-08-05T22:57:01.110628Z",
     "start_time": "2024-08-05T22:57:01.023248Z"
    }
   },
   "cell_type": "code",
   "source": "sp.series(expMax, x0=sp.oo)",
   "id": "3fc4ec60c27fe15f",
   "outputs": [
    {
     "data": {
      "text/plain": [
       "-1/n**5 + n**(-4) - 1/n**3 + n**(-2) - 1/n + 1 + O(n**(-6), (n, oo))"
      ],
      "text/latex": "$\\displaystyle - \\frac{1}{n^{5}} + \\frac{1}{n^{4}} - \\frac{1}{n^{3}} + \\frac{1}{n^{2}} - \\frac{1}{n} + 1 + O\\left(\\frac{1}{n^{6}}; n\\rightarrow \\infty\\right)$"
     },
     "execution_count": 157,
     "metadata": {},
     "output_type": "execute_result"
    }
   ],
   "execution_count": 157
  },
  {
   "metadata": {},
   "cell_type": "code",
   "outputs": [],
   "execution_count": null,
   "source": "",
   "id": "88f07db28c31c18"
  }
 ],
 "metadata": {
  "kernelspec": {
   "display_name": "Python 3",
   "language": "python",
   "name": "python3"
  },
  "language_info": {
   "codemirror_mode": {
    "name": "ipython",
    "version": 2
   },
   "file_extension": ".py",
   "mimetype": "text/x-python",
   "name": "python",
   "nbconvert_exporter": "python",
   "pygments_lexer": "ipython2",
   "version": "2.7.6"
  }
 },
 "nbformat": 4,
 "nbformat_minor": 5
}
