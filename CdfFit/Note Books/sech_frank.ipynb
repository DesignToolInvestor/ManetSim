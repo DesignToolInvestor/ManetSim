{
 "cells": [
  {
   "metadata": {},
   "cell_type": "markdown",
   "source": "# Sech - Frank's Method",
   "id": "9901eb2746776aee"
  },
  {
   "metadata": {
    "ExecuteTime": {
     "end_time": "2024-09-06T12:57:37.291865Z",
     "start_time": "2024-09-06T12:57:37.283813Z"
    }
   },
   "cell_type": "code",
   "source": [
    "import sympy as sp\n",
    "\n",
    "from math import exp, log, sqrt\n",
    "from matplotlib import pyplot as plot\n",
    "from scipy.optimize import fsolve\n",
    "from scipy.stats import linregress\n",
    "from sympy import Symbol, lambdify\n",
    "\n",
    "import DistExampB as db\n",
    "\n",
    "from Map import LogRatio\n",
    "from LocUtil import Grid1, LogGrid1, MinMax, IndexOf, Sub, UnZip"
   ],
   "id": "782dff9df42480ec",
   "outputs": [],
   "execution_count": 3
  },
  {
   "metadata": {},
   "cell_type": "markdown",
   "source": "## Set Up",
   "id": "3b33babd5330703c"
  },
  {
   "metadata": {},
   "cell_type": "markdown",
   "source": "#### constants",
   "id": "ec8ff8a071f45bc8"
  },
  {
   "metadata": {
    "ExecuteTime": {
     "end_time": "2024-09-06T12:57:38.431660Z",
     "start_time": "2024-09-06T12:57:38.425278Z"
    }
   },
   "cell_type": "code",
   "source": "nPlot = 201",
   "id": "74736af3ba325cc7",
   "outputs": [],
   "execution_count": 4
  },
  {
   "metadata": {},
   "cell_type": "markdown",
   "source": "#### problem",
   "id": "b8079a015d5bfe0f"
  },
  {
   "metadata": {
    "ExecuteTime": {
     "end_time": "2024-09-06T12:57:38.902454Z",
     "start_time": "2024-09-06T12:57:38.835177Z"
    }
   },
   "cell_type": "code",
   "source": "dist = db.ExampB()",
   "id": "c78242f4ef327bf5",
   "outputs": [],
   "execution_count": 5
  },
  {
   "metadata": {},
   "cell_type": "markdown",
   "source": "#### maping",
   "id": "6ef22c1970c544a"
  },
  {
   "metadata": {
    "ExecuteTime": {
     "end_time": "2024-09-06T12:57:39.366005Z",
     "start_time": "2024-09-06T12:57:39.252237Z"
    }
   },
   "cell_type": "code",
   "source": [
    "xSym = Symbol('x')\n",
    "zSym = Symbol('z')\n",
    "map_ = LogRatio(xSym, zSym, xRange=(0, 2))\n",
    "map_.forSym"
   ],
   "id": "919d7075d793674b",
   "outputs": [
    {
     "data": {
      "text/plain": [
       "log(x/(2 - x))"
      ],
      "text/latex": "$\\displaystyle \\log{\\left(\\frac{x}{2 - x} \\right)}$"
     },
     "execution_count": 6,
     "metadata": {},
     "output_type": "execute_result"
    }
   ],
   "execution_count": 6
  },
  {
   "metadata": {
    "ExecuteTime": {
     "end_time": "2024-09-06T12:57:39.571718Z",
     "start_time": "2024-09-06T12:57:39.565802Z"
    }
   },
   "cell_type": "code",
   "source": [
    "X2Z = map_.Forward\n",
    "Z2X = map_.Inverse"
   ],
   "id": "d3a5f5e72093ab27",
   "outputs": [],
   "execution_count": 7
  },
  {
   "metadata": {},
   "cell_type": "markdown",
   "source": "#### bases",
   "id": "fb7959ad9c371af0"
  },
  {
   "metadata": {
    "ExecuteTime": {
     "end_time": "2024-09-06T12:57:39.809668Z",
     "start_time": "2024-09-06T12:57:39.802478Z"
    }
   },
   "cell_type": "code",
   "source": [
    "hSym = Symbol('h', positive=True)\n",
    "zkSym = Symbol('zk', real=True)"
   ],
   "id": "da3374e055866573",
   "outputs": [],
   "execution_count": 8
  },
  {
   "metadata": {
    "ExecuteTime": {
     "end_time": "2024-09-06T12:57:40.068640Z",
     "start_time": "2024-09-06T12:57:40.042154Z"
    }
   },
   "cell_type": "code",
   "source": [
    "baseZ = sp.sqrt(hSym/sp.pi) * 1 / sp.cosh((zSym - zkSym) / sp.sqrt(hSym))\n",
    "baseZ"
   ],
   "id": "df774c3db2e47c",
   "outputs": [
    {
     "data": {
      "text/plain": [
       "sqrt(h)/(sqrt(pi)*cosh((z - zk)/sqrt(h)))"
      ],
      "text/latex": "$\\displaystyle \\frac{\\sqrt{h}}{\\sqrt{\\pi} \\cosh{\\left(\\frac{z - zk}{\\sqrt{h}} \\right)}}$"
     },
     "execution_count": 9,
     "metadata": {},
     "output_type": "execute_result"
    }
   ],
   "execution_count": 9
  },
  {
   "metadata": {
    "ExecuteTime": {
     "end_time": "2024-09-06T12:57:40.276280Z",
     "start_time": "2024-09-06T12:57:40.269436Z"
    }
   },
   "cell_type": "code",
   "source": "BaseZ = lambdify((zSym,zkSym,hSym), baseZ)",
   "id": "8129c54486dd13de",
   "outputs": [],
   "execution_count": 10
  },
  {
   "metadata": {},
   "cell_type": "markdown",
   "source": "## Constrained Fit to PDF",
   "id": "2ee505a63fd087a8"
  },
  {
   "metadata": {
    "ExecuteTime": {
     "end_time": "2024-09-06T12:57:40.633035Z",
     "start_time": "2024-09-06T12:57:40.627937Z"
    }
   },
   "cell_type": "code",
   "source": "PdfZ = lambda z: dist.Pdf(map_.Inverse(z))",
   "id": "b042d3edd9eef476",
   "outputs": [],
   "execution_count": 11
  },
  {
   "metadata": {
    "ExecuteTime": {
     "end_time": "2024-09-06T12:57:41.366170Z",
     "start_time": "2024-09-06T12:57:41.359298Z"
    }
   },
   "cell_type": "code",
   "source": "timeTrunc = 1e-2",
   "id": "1e0c1a34493ee6a4",
   "outputs": [],
   "execution_count": 12
  },
  {
   "metadata": {
    "ExecuteTime": {
     "end_time": "2024-09-06T12:57:41.883993Z",
     "start_time": "2024-09-06T12:57:41.875216Z"
    }
   },
   "cell_type": "code",
   "source": [
    "zn = fsolve(lambda z: PdfZ(z) - timeTrunc, -3)[0]\n",
    "zx = fsolve(lambda z: PdfZ(z) - timeTrunc, 6)[0]\n",
    "zRange = (zn,zx)\n",
    "zRange"
   ],
   "id": "347dd77f57eb5544",
   "outputs": [
    {
     "data": {
      "text/plain": [
       "(-3.1026021373001056, 6.393525850353921)"
      ]
     },
     "execution_count": 13,
     "metadata": {},
     "output_type": "execute_result"
    }
   ],
   "execution_count": 13
  },
  {
   "metadata": {
    "ExecuteTime": {
     "end_time": "2024-09-06T13:01:51.152177Z",
     "start_time": "2024-09-06T13:01:51.138147Z"
    }
   },
   "cell_type": "code",
   "source": [
    "def FrankInterp(F, zRange, nSech, zGrid):\n",
    "\t# parse arguments\n",
    "\tassert(1 < nSech)\n",
    "\tzMin,zMax = zRange\n",
    "\t\n",
    "\t# compute sech points and h\n",
    "\th = (zMax - zMin) / (nSech - 1)\n",
    "\t\n",
    "\tsechZ = Grid1(*zRange, nSech)\n",
    "\tsechV = tuple(F(z) for z in sechZ)\n",
    "\n",
    "\t# interpolate\n",
    "\tresult = []\n",
    "\tfor zg in zGrid:\n",
    "\t\ttemp = sum(sv * BaseZ(zg,sz,h) for (sz,sv) in zip(sechZ,sechV))\n",
    "\t\tresult.append(temp)\n",
    "\n",
    "\treturn result"
   ],
   "id": "e9363a5042b33b40",
   "outputs": [],
   "execution_count": 20
  },
  {
   "metadata": {
    "ExecuteTime": {
     "end_time": "2024-09-06T13:01:51.947760Z",
     "start_time": "2024-09-06T13:01:51.940831Z"
    }
   },
   "cell_type": "code",
   "source": "distZ = lambda z: dist.Pdf(map_.Inverse(z))",
   "id": "58d0b010d7bbcdd1",
   "outputs": [],
   "execution_count": 21
  },
  {
   "metadata": {
    "ExecuteTime": {
     "end_time": "2024-09-06T13:01:52.380932Z",
     "start_time": "2024-09-06T13:01:52.180497Z"
    }
   },
   "cell_type": "code",
   "source": [
    "zGrid = Grid1(*zRange, nPlot)\n",
    "pdf = tuple(distZ(z) for z in zGrid)\n",
    "\n",
    "plot.plot(zGrid,pdf, c='blue')\n",
    "\n",
    "plot.xlabel('z')\n",
    "plot.ylabel('Probability Density')"
   ],
   "id": "4c96bd969a64e09c",
   "outputs": [
    {
     "data": {
      "text/plain": [
       "Text(0, 0.5, 'Probability Density')"
      ]
     },
     "execution_count": 22,
     "metadata": {},
     "output_type": "execute_result"
    },
    {
     "data": {
      "text/plain": [
       "<Figure size 640x480 with 1 Axes>"
      ],
      "image/png": "[encoded data removed]"
     },
     "metadata": {},
     "output_type": "display_data"
    }
   ],
   "execution_count": 22
  },
  {
   "metadata": {
    "ExecuteTime": {
     "end_time": "2024-09-06T13:01:52.557659Z",
     "start_time": "2024-09-06T13:01:52.551759Z"
    }
   },
   "cell_type": "code",
   "source": "",
   "id": "49f164872ade31c8",
   "outputs": [],
   "execution_count": 22
  },
  {
   "metadata": {
    "ExecuteTime": {
     "end_time": "2024-09-06T13:03:47.044872Z",
     "start_time": "2024-09-06T13:03:46.332462Z"
    }
   },
   "cell_type": "code",
   "source": [
    "nSech = 320\n",
    "\n",
    "zGrid = Grid1(*zRange, nPlot)\n",
    "est = FrankInterp(distZ,zRange,nSech, zGrid)\n",
    "\n",
    "plot.plot(zGrid,est, c='red')\n",
    "\n",
    "plot.plot(zGrid, pdf, c='blue')"
   ],
   "id": "a5aca20039c21dc8",
   "outputs": [
    {
     "data": {
      "text/plain": [
       "[<matplotlib.lines.Line2D at 0x1edc8ef52b0>]"
      ]
     },
     "execution_count": 29,
     "metadata": {},
     "output_type": "execute_result"
    },
    {
     "data": {
      "text/plain": [
       "<Figure size 640x480 with 1 Axes>"
      ],
      "image/png": "[encoded data removed]"
     },
     "metadata": {},
     "output_type": "display_data"
    }
   ],
   "execution_count": 29
  },
  {
   "metadata": {
    "ExecuteTime": {
     "end_time": "2024-08-30T23:38:59.962773Z",
     "start_time": "2024-08-30T23:38:59.957749Z"
    }
   },
   "cell_type": "code",
   "source": "",
   "id": "37bcec0f424692c5",
   "outputs": [],
   "execution_count": 37
  }
 ],
 "metadata": {
  "kernelspec": {
   "display_name": "Python 3",
   "language": "python",
   "name": "python3"
  },
  "language_info": {
   "codemirror_mode": {
    "name": "ipython",
    "version": 2
   },
   "file_extension": ".py",
   "mimetype": "text/x-python",
   "name": "python",
   "nbconvert_exporter": "python",
   "pygments_lexer": "ipython2",
   "version": "2.7.6"
  }
 },
 "nbformat": 4,
 "nbformat_minor": 5
}
