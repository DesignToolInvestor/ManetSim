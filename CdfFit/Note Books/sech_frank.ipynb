{
 "cells": [
  {
   "metadata": {},
   "cell_type": "markdown",
   "source": "# Sech - Frank's Method",
   "id": "9901eb2746776aee"
  },
  {
   "metadata": {
    "ExecuteTime": {
     "end_time": "2024-09-06T20:08:59.262393Z",
     "start_time": "2024-09-06T20:08:57.479865Z"
    }
   },
   "cell_type": "code",
   "source": [
    "import sympy as sp\n",
    "import math as m\n",
    "\n",
    "from matplotlib import pyplot as plot\n",
    "from scipy.optimize import fsolve\n",
    "from sympy import Symbol, lambdify\n",
    "\n",
    "import DistExampB as db\n",
    "\n",
    "from Map import LogRatio\n",
    "from LocUtil import Grid1, LogGridInt, UnZip"
   ],
   "id": "782dff9df42480ec",
   "outputs": [],
   "execution_count": 1
  },
  {
   "metadata": {},
   "cell_type": "markdown",
   "source": "## Set Up",
   "id": "3b33babd5330703c"
  },
  {
   "metadata": {},
   "cell_type": "markdown",
   "source": "#### constants",
   "id": "ec8ff8a071f45bc8"
  },
  {
   "metadata": {
    "ExecuteTime": {
     "end_time": "2024-09-06T20:08:59.271249Z",
     "start_time": "2024-09-06T20:08:59.265393Z"
    }
   },
   "cell_type": "code",
   "source": "nPlot = 201",
   "id": "74736af3ba325cc7",
   "outputs": [],
   "execution_count": 2
  },
  {
   "metadata": {},
   "cell_type": "markdown",
   "source": "#### problem",
   "id": "b8079a015d5bfe0f"
  },
  {
   "metadata": {
    "ExecuteTime": {
     "end_time": "2024-09-06T20:08:59.347708Z",
     "start_time": "2024-09-06T20:08:59.273250Z"
    }
   },
   "cell_type": "code",
   "source": "dist = db.ExampB()",
   "id": "c78242f4ef327bf5",
   "outputs": [],
   "execution_count": 3
  },
  {
   "metadata": {},
   "cell_type": "markdown",
   "source": "#### maping",
   "id": "6ef22c1970c544a"
  },
  {
   "metadata": {
    "ExecuteTime": {
     "end_time": "2024-09-06T20:08:59.417444Z",
     "start_time": "2024-09-06T20:08:59.348712Z"
    }
   },
   "cell_type": "code",
   "source": [
    "xSym = Symbol('x')\n",
    "zSym = Symbol('z')\n",
    "map_ = LogRatio(xSym, zSym, xRange=(0, 2))\n",
    "map_.forSym"
   ],
   "id": "919d7075d793674b",
   "outputs": [
    {
     "data": {
      "text/plain": [
       "log(x/(2 - x))"
      ],
      "text/latex": "$\\displaystyle \\log{\\left(\\frac{x}{2 - x} \\right)}$"
     },
     "execution_count": 4,
     "metadata": {},
     "output_type": "execute_result"
    }
   ],
   "execution_count": 4
  },
  {
   "metadata": {
    "ExecuteTime": {
     "end_time": "2024-09-06T20:08:59.426728Z",
     "start_time": "2024-09-06T20:08:59.420443Z"
    }
   },
   "cell_type": "code",
   "source": [
    "X2Z = map_.Forward\n",
    "Z2X = map_.Inverse"
   ],
   "id": "d3a5f5e72093ab27",
   "outputs": [],
   "execution_count": 5
  },
  {
   "metadata": {},
   "cell_type": "markdown",
   "source": "#### bases",
   "id": "fb7959ad9c371af0"
  },
  {
   "metadata": {
    "ExecuteTime": {
     "end_time": "2024-09-06T20:08:59.460716Z",
     "start_time": "2024-09-06T20:08:59.428729Z"
    }
   },
   "cell_type": "code",
   "source": [
    "hSym = Symbol('h', positive=True)\n",
    "wSym = Symbol('w', positive=True)\n",
    "\n",
    "zkSym = Symbol('zk', real=True)"
   ],
   "id": "da3374e055866573",
   "outputs": [],
   "execution_count": 6
  },
  {
   "metadata": {
    "ExecuteTime": {
     "end_time": "2024-09-06T20:08:59.507651Z",
     "start_time": "2024-09-06T20:08:59.462717Z"
    }
   },
   "cell_type": "code",
   "source": [
    "baseZ = wSym / sp.pi  / sp.cosh((zSym - zkSym) / wSym)\n",
    "baseZ"
   ],
   "id": "df774c3db2e47c",
   "outputs": [
    {
     "data": {
      "text/plain": [
       "w/(pi*cosh((z - zk)/w))"
      ],
      "text/latex": "$\\displaystyle \\frac{w}{\\pi \\cosh{\\left(\\frac{z - zk}{w} \\right)}}$"
     },
     "execution_count": 7,
     "metadata": {},
     "output_type": "execute_result"
    }
   ],
   "execution_count": 7
  },
  {
   "metadata": {},
   "cell_type": "markdown",
   "source": [
    "Note.  This base is only good for beta = 1/2.  For other values of beta the scaling needs to be \n",
    "\tw ** ((1 - beta)/beta) / pi."
   ],
   "id": "33a34ad453f4daef"
  },
  {
   "metadata": {
    "ExecuteTime": {
     "end_time": "2024-09-06T20:08:59.534649Z",
     "start_time": "2024-09-06T20:08:59.508654Z"
    }
   },
   "cell_type": "code",
   "source": "BaseZ = lambdify((zSym,zkSym,wSym), baseZ)",
   "id": "8129c54486dd13de",
   "outputs": [],
   "execution_count": 8
  },
  {
   "metadata": {},
   "cell_type": "markdown",
   "source": "## Constrained Fit to PDF",
   "id": "2ee505a63fd087a8"
  },
  {
   "metadata": {
    "ExecuteTime": {
     "end_time": "2024-09-06T20:08:59.569219Z",
     "start_time": "2024-09-06T20:08:59.536654Z"
    }
   },
   "cell_type": "code",
   "source": "PdfZ = lambda z: dist.Pdf(map_.Inverse(z))",
   "id": "b042d3edd9eef476",
   "outputs": [],
   "execution_count": 9
  },
  {
   "metadata": {
    "ExecuteTime": {
     "end_time": "2024-09-06T20:08:59.599196Z",
     "start_time": "2024-09-06T20:08:59.571220Z"
    }
   },
   "cell_type": "code",
   "source": "timeTrunc = 1e-4",
   "id": "1e0c1a34493ee6a4",
   "outputs": [],
   "execution_count": 10
  },
  {
   "metadata": {
    "ExecuteTime": {
     "end_time": "2024-09-06T20:08:59.664647Z",
     "start_time": "2024-09-06T20:08:59.601197Z"
    }
   },
   "cell_type": "code",
   "source": [
    "zn = fsolve(lambda z: PdfZ(z) - timeTrunc, -5)[0]\n",
    "zx = fsolve(lambda z: PdfZ(z) - timeTrunc, 11)[0]\n",
    "zRange = (zn,zx)\n",
    "zRange"
   ],
   "id": "347dd77f57eb5544",
   "outputs": [
    {
     "data": {
      "text/plain": [
       "(-4.688412546913663, 11.002066500871658)"
      ]
     },
     "execution_count": 11,
     "metadata": {},
     "output_type": "execute_result"
    }
   ],
   "execution_count": 11
  },
  {
   "metadata": {
    "ExecuteTime": {
     "end_time": "2024-09-06T20:08:59.711301Z",
     "start_time": "2024-09-06T20:08:59.667648Z"
    }
   },
   "cell_type": "code",
   "source": [
    "def FrankApprox(F, zRange, nSech):\n",
    "\t# parse arguments\n",
    "\tassert(1 < nSech)\n",
    "\tzMin,zMax = zRange\n",
    "\t\n",
    "\t# compute sech points and h\n",
    "\th = (zMax - zMin) / (nSech - 1)\n",
    "\tsechZ = Grid1(*zRange, nSech)\n",
    "\tsechV = tuple(F(z) for z in sechZ)\n",
    "\t\n",
    "\treturn (sechZ,sechV, m.sqrt(h))"
   ],
   "id": "c02a108fac418ce4",
   "outputs": [],
   "execution_count": 12
  },
  {
   "metadata": {
    "ExecuteTime": {
     "end_time": "2024-09-06T20:08:59.739367Z",
     "start_time": "2024-09-06T20:08:59.713303Z"
    }
   },
   "cell_type": "code",
   "source": [
    "def Interp0(sechZ,sechV,width, z):\n",
    "\tresult = sum(sv * BaseZ(z,sz,width) for (sz,sv) in zip(sechZ,sechV))\n",
    "\treturn result"
   ],
   "id": "354a60cb9fba8e23",
   "outputs": [],
   "execution_count": 13
  },
  {
   "metadata": {
    "ExecuteTime": {
     "end_time": "2024-09-06T20:08:59.769937Z",
     "start_time": "2024-09-06T20:08:59.744365Z"
    }
   },
   "cell_type": "code",
   "source": [
    "def Interp1(sechApprox, zGrid):\n",
    "\tresult = tuple(Interp0(*sechApprox, z) for z in zGrid)\n",
    "\treturn result"
   ],
   "id": "e9363a5042b33b40",
   "outputs": [],
   "execution_count": 14
  },
  {
   "metadata": {
    "ExecuteTime": {
     "end_time": "2024-09-06T20:08:59.796995Z",
     "start_time": "2024-09-06T20:08:59.771938Z"
    }
   },
   "cell_type": "code",
   "source": "distZ = lambda z: dist.Pdf(map_.Inverse(z))",
   "id": "58d0b010d7bbcdd1",
   "outputs": [],
   "execution_count": 15
  },
  {
   "metadata": {
    "ExecuteTime": {
     "end_time": "2024-09-06T20:08:59.834092Z",
     "start_time": "2024-09-06T20:08:59.798995Z"
    }
   },
   "cell_type": "code",
   "source": "approx100 = FrankApprox(distZ, zRange, 100)",
   "id": "eabf8238678c67f",
   "outputs": [],
   "execution_count": 16
  },
  {
   "metadata": {
    "ExecuteTime": {
     "end_time": "2024-09-06T20:09:00.158170Z",
     "start_time": "2024-09-06T20:08:59.836093Z"
    }
   },
   "cell_type": "code",
   "source": [
    "zGrid = Grid1(*zRange, nPlot)\n",
    "est = Interp1(approx100, zGrid)\n",
    "\n",
    "pdf = tuple(distZ(z) for z in zGrid)\n",
    "plot.plot(zGrid,est, c='red')\n",
    "\n",
    "plot.plot(zGrid, pdf, c='blue')"
   ],
   "id": "a5aca20039c21dc8",
   "outputs": [
    {
     "data": {
      "text/plain": [
       "[<matplotlib.lines.Line2D at 0x1b7a8c9b9b0>]"
      ]
     },
     "execution_count": 17,
     "metadata": {},
     "output_type": "execute_result"
    },
    {
     "data": {
      "text/plain": [
       "<Figure size 640x480 with 1 Axes>"
      ],
      "image/png": "[encoded data removed]"
     },
     "metadata": {},
     "output_type": "display_data"
    }
   ],
   "execution_count": 17
  },
  {
   "metadata": {
    "ExecuteTime": {
     "end_time": "2024-09-06T20:09:00.171066Z",
     "start_time": "2024-09-06T20:09:00.160171Z"
    }
   },
   "cell_type": "code",
   "source": "approx1k = FrankApprox(distZ, zRange, 1_000)",
   "id": "216ead6d9513acf6",
   "outputs": [],
   "execution_count": 18
  },
  {
   "metadata": {
    "ExecuteTime": {
     "end_time": "2024-09-06T20:09:00.836407Z",
     "start_time": "2024-09-06T20:09:00.173067Z"
    }
   },
   "cell_type": "code",
   "source": [
    "zGrid = Grid1(*zRange, nPlot)\n",
    "est = Interp1(approx1k, zGrid)\n",
    "\n",
    "plot.plot(zGrid,est, c='red')\n",
    "\n",
    "plot.plot(zGrid, pdf, c='blue')"
   ],
   "id": "37bcec0f424692c5",
   "outputs": [
    {
     "data": {
      "text/plain": [
       "[<matplotlib.lines.Line2D at 0x1b7abec24b0>]"
      ]
     },
     "execution_count": 19,
     "metadata": {},
     "output_type": "execute_result"
    },
    {
     "data": {
      "text/plain": [
       "<Figure size 640x480 with 1 Axes>"
      ],
      "image/png": "[encoded data removed]"
     },
     "metadata": {},
     "output_type": "display_data"
    }
   ],
   "execution_count": 19
  },
  {
   "metadata": {},
   "cell_type": "markdown",
   "source": "This is painfully slow convergence.",
   "id": "bc38c7d902276357"
  },
  {
   "metadata": {},
   "cell_type": "markdown",
   "source": "## Check the order of convergence",
   "id": "578540978aef8059"
  },
  {
   "metadata": {
    "ExecuteTime": {
     "end_time": "2024-09-06T20:09:15.510643Z",
     "start_time": "2024-09-06T20:09:15.502790Z"
    }
   },
   "cell_type": "code",
   "source": [
    "def ErrorZ(sechApprox, F):\n",
    "\t# parse arguments\n",
    "\tsechZ,sechV, width = sechApprox\n",
    "\t\n",
    "\tnSech = len(sechZ)\n",
    "\tzMin,zMax = sechZ[0], sechZ[nSech - 1]\n",
    "\t\n",
    "\t# define differences\t\n",
    "\tDiff = lambda z: Interp0(sechZ,sechV,width, z) - F(z)\n",
    "\t\n",
    "\textZMin, extZMax = 2*zMin, 2*zMax\n",
    "\tnSinc = 4 * nSech\n",
    "\th = (extZMax - extZMin) / (nSinc - 1)\n",
    "\t\n",
    "\tsincZ = Grid1(extZMin,extZMax, nSinc)\n",
    "\tsincDiff = tuple(Diff(z) for z in sincZ)\n",
    "\t\n",
    "\tresult = m.sqrt(h * sum(d*d for d in sincDiff))\n",
    "\treturn result"
   ],
   "id": "cf301b0a92afbcb8",
   "outputs": [],
   "execution_count": 22
  },
  {
   "metadata": {
    "ExecuteTime": {
     "end_time": "2024-09-06T20:09:27.686093Z",
     "start_time": "2024-09-06T20:09:17.111008Z"
    }
   },
   "cell_type": "code",
   "source": "ErrorZ(approx1k, distZ)",
   "id": "2b96de181b31a304",
   "outputs": [
    {
     "data": {
      "text/plain": [
       "0.07298331331023465"
      ]
     },
     "execution_count": 23,
     "metadata": {},
     "output_type": "execute_result"
    }
   ],
   "execution_count": 23
  },
  {
   "metadata": {
    "ExecuteTime": {
     "end_time": "2024-09-06T20:09:27.695923Z",
     "start_time": "2024-09-06T20:09:27.688093Z"
    }
   },
   "cell_type": "code",
   "source": "nL = LogGridInt(10,500, 50)",
   "id": "d35c38c7afb9f5fc",
   "outputs": [],
   "execution_count": 24
  },
  {
   "metadata": {
    "ExecuteTime": {
     "end_time": "2024-09-06T20:09:42.446051Z",
     "start_time": "2024-09-06T20:09:27.697924Z"
    }
   },
   "cell_type": "code",
   "source": [
    "info = []\n",
    "for n in nL:\n",
    "\tapprox = FrankApprox(distZ, zRange, n)\n",
    "\trms = ErrorZ(approx, distZ)\n",
    "\t\n",
    "\tinfo.append((n,rms))"
   ],
   "id": "4a277d176ac75da5",
   "outputs": [],
   "execution_count": 25
  },
  {
   "metadata": {
    "ExecuteTime": {
     "end_time": "2024-09-06T20:19:08.531756Z",
     "start_time": "2024-09-06T20:19:07.616862Z"
    }
   },
   "cell_type": "code",
   "source": [
    "fig,ax = plot.subplots()\n",
    "\n",
    "_,rms = UnZip(info)\n",
    "plot.loglog(nL,rms, '.', c='red')\n",
    "\n",
    "ref = tuple(2.9 / m.sqrt(n) for n in nL)\n",
    "plot.loglog(nL,ref, '--', c='green')\n",
    "\n",
    "ref = tuple(68 / n for n in nL)\n",
    "plot.loglog(nL,ref, '--', c='yellow')\n",
    "\n",
    "ax.set_ylim(1e-1,1)"
   ],
   "id": "be8e92e566630a33",
   "outputs": [
    {
     "data": {
      "text/plain": [
       "(0.1, 1)"
      ]
     },
     "execution_count": 42,
     "metadata": {},
     "output_type": "execute_result"
    },
    {
     "data": {
      "text/plain": [
       "<Figure size 640x480 with 1 Axes>"
      ],
      "image/png": "[encoded data removed]"
     },
     "metadata": {},
     "output_type": "display_data"
    }
   ],
   "execution_count": 42
  },
  {
   "metadata": {
    "ExecuteTime": {
     "end_time": "2024-09-06T20:09:10.819696Z",
     "start_time": "2024-09-06T20:09:10.818696Z"
    }
   },
   "cell_type": "code",
   "source": "",
   "id": "fa411564c5f577a0",
   "outputs": [],
   "execution_count": null
  }
 ],
 "metadata": {
  "kernelspec": {
   "display_name": "Python 3",
   "language": "python",
   "name": "python3"
  },
  "language_info": {
   "codemirror_mode": {
    "name": "ipython",
    "version": 2
   },
   "file_extension": ".py",
   "mimetype": "text/x-python",
   "name": "python",
   "nbconvert_exporter": "python",
   "pygments_lexer": "ipython2",
   "version": "2.7.6"
  }
 },
 "nbformat": 4,
 "nbformat_minor": 5
}
