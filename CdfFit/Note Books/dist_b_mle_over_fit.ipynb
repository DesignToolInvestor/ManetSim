{
 "cells": [
  {
   "metadata": {},
   "cell_type": "markdown",
   "source": "# Distribution B - Maximum Likelihood - Convergance Rate",
   "id": "66cfc1c09c925daf"
  },
  {
   "metadata": {
    "ExecuteTime": {
     "end_time": "2024-08-17T21:19:41.488630Z",
     "start_time": "2024-08-17T21:19:38.263504Z"
    }
   },
   "cell_type": "code",
   "source": [
    "import DistExampB as db\n",
    "from matplotlib import pyplot as plot\n",
    "import sympy as sp\n",
    "\n",
    "import MleDist\n",
    "\n",
    "from math import log, sqrt\n",
    "\n",
    "from LocUtil import Grid1, SetSeed, UnZip\n",
    "from LocMath import Interp1\n",
    "from Map import LogRatio\n",
    "from Sinc import SincApprox"
   ],
   "id": "bbf45d33961fd2fd",
   "outputs": [],
   "execution_count": 1
  },
  {
   "metadata": {},
   "cell_type": "markdown",
   "source": "## Code",
   "id": "4628d495dda0c133"
  },
  {
   "metadata": {
    "ExecuteTime": {
     "end_time": "2024-08-17T21:20:49.694093Z",
     "start_time": "2024-08-17T21:20:49.690034Z"
    }
   },
   "cell_type": "code",
   "source": [
    "def LogLike(pdfApprox, map_, sampX):\n",
    "\tsampZ = tuple(map_.Forward(x) for x in sampX)\n",
    "\tpdfEst = pdfApprox.InterpZ1(sampZ)\n",
    "\t\n",
    "\tresult = sum(log(p) for p in pdfEst)\n",
    "\treturn result"
   ],
   "id": "5a2cbc81dcfc0781",
   "outputs": [],
   "execution_count": 13
  },
  {
   "metadata": {},
   "cell_type": "markdown",
   "source": "## Main",
   "id": "fc22175d715c310c"
  },
  {
   "metadata": {},
   "cell_type": "markdown",
   "source": "### Setup",
   "id": "67fb1b86ab50fb0f"
  },
  {
   "metadata": {
    "ExecuteTime": {
     "end_time": "2024-08-17T21:19:41.517437Z",
     "start_time": "2024-08-17T21:19:41.499476Z"
    }
   },
   "cell_type": "code",
   "source": [
    "import importlib\n",
    "importlib.reload(MleDist)"
   ],
   "id": "99740a88e426299f",
   "outputs": [
    {
     "data": {
      "text/plain": [
       "<module 'MleDist' from 'F:\\\\Users\\\\Kenne.DESKTOP-BT6VROU\\\\Documents\\\\GitHub\\\\ManetSim\\\\CdfFit\\\\MleDist.py'>"
      ]
     },
     "execution_count": 3,
     "metadata": {},
     "output_type": "execute_result"
    }
   ],
   "execution_count": 3
  },
  {
   "metadata": {
    "ExecuteTime": {
     "end_time": "2024-08-17T21:19:41.579360Z",
     "start_time": "2024-08-17T21:19:41.519439Z"
    }
   },
   "cell_type": "code",
   "source": "dist = db.ExampB()",
   "id": "ef8f87b9c7bb353d",
   "outputs": [],
   "execution_count": 4
  },
  {
   "metadata": {
    "ExecuteTime": {
     "end_time": "2024-08-17T21:19:41.649842Z",
     "start_time": "2024-08-17T21:19:41.581360Z"
    }
   },
   "cell_type": "code",
   "source": [
    "xSym = sp.Symbol('x')\n",
    "zSym = sp.Symbol('z')\n",
    "\n",
    "map_ = LogRatio(xSym,zSym, xRange=(0,2))\n",
    "map_.forSym"
   ],
   "id": "4d803d1e4057035e",
   "outputs": [
    {
     "data": {
      "text/plain": [
       "log(x/(2 - x))"
      ],
      "text/latex": "$\\displaystyle \\log{\\left(\\frac{x}{2 - x} \\right)}$"
     },
     "execution_count": 5,
     "metadata": {},
     "output_type": "execute_result"
    }
   ],
   "execution_count": 5
  },
  {
   "metadata": {},
   "cell_type": "markdown",
   "source": "### Solve",
   "id": "f9cff1cdb93d267a"
  },
  {
   "metadata": {
    "ExecuteTime": {
     "end_time": "2024-08-17T21:19:41.658384Z",
     "start_time": "2024-08-17T21:19:41.652842Z"
    }
   },
   "cell_type": "code",
   "source": "nSamp = 100",
   "id": "aa154370d0d5213e",
   "outputs": [],
   "execution_count": 6
  },
  {
   "metadata": {
    "ExecuteTime": {
     "end_time": "2024-08-17T21:19:41.676885Z",
     "start_time": "2024-08-17T21:19:41.660385Z"
    }
   },
   "cell_type": "code",
   "source": [
    "seed = SetSeed()\n",
    "print(f'seed = {seed}')"
   ],
   "id": "773cf24fe1916d8d",
   "outputs": [
    {
     "name": "stdout",
     "output_type": "stream",
     "text": [
      "seed = 31532\n"
     ]
    }
   ],
   "execution_count": 7
  },
  {
   "metadata": {
    "ExecuteTime": {
     "end_time": "2024-08-17T21:19:41.695260Z",
     "start_time": "2024-08-17T21:19:41.678886Z"
    }
   },
   "cell_type": "code",
   "source": "sampX = tuple(dist.Sample() for _ in range(nSamp))",
   "id": "b435f44a705b060a",
   "outputs": [],
   "execution_count": 8
  },
  {
   "metadata": {
    "ExecuteTime": {
     "end_time": "2024-08-17T21:19:42.217225Z",
     "start_time": "2024-08-17T21:19:42.211821Z"
    }
   },
   "cell_type": "code",
   "source": "nSincRange = (10,)",
   "id": "f95b5014b1263e2",
   "outputs": [],
   "execution_count": 9
  },
  {
   "metadata": {
    "ExecuteTime": {
     "end_time": "2024-08-17T21:19:42.562943Z",
     "start_time": "2024-08-17T21:19:42.545724Z"
    }
   },
   "cell_type": "code",
   "source": [
    "import importlib\n",
    "importlib.reload(MleDist)\n",
    "import Sinc\n",
    "importlib.reload(Sinc)"
   ],
   "id": "46d7ff1ba62a057f",
   "outputs": [
    {
     "data": {
      "text/plain": [
       "<module 'Sinc' from 'F:\\\\Users\\\\Kenne.DESKTOP-BT6VROU\\\\Documents\\\\GitHub\\\\ManetSim\\\\CdfFit\\\\Sinc.py'>"
      ]
     },
     "execution_count": 10,
     "metadata": {},
     "output_type": "execute_result"
    }
   ],
   "execution_count": 10
  },
  {
   "metadata": {
    "ExecuteTime": {
     "end_time": "2024-08-17T21:20:57.545392Z",
     "start_time": "2024-08-17T21:20:53.665529Z"
    }
   },
   "cell_type": "code",
   "source": [
    "info = []\n",
    "\n",
    "for nSinc in nSincRange:\n",
    "\t# compute MLE\n",
    "\tpdfApprox = MleDist.Sinc(sampX, map_, nSinc)\n",
    "\t\n",
    "\t# get errors of est\n",
    "\trmsErr = MleDist.RmsDiff(pdfApprox, dist.Pdf, eps=1e-6)\n",
    "\tlogLike = LogLike(pdfApprox, map_, sampX)\n",
    "\t\n",
    "\t# add annotation\t\n",
    "\t# text = (\n",
    "\t# \tf'N = {nSinc}\\n'\n",
    "\t# \tf'True Error = {rmsErr:.3f}\\n'\n",
    "\t# \tf'Apparent Err. = {int(logLike):,d}'\n",
    "\t# )\n",
    "\t# DoPlot(sincPoint, map_, dist, sampX)\n",
    "\t\n",
    "\t# accumulate results\n",
    "\tinfo.append([nSinc, seed, rmsErr, logLike])"
   ],
   "id": "79a2112e13ae900",
   "outputs": [],
   "execution_count": 14
  },
  {
   "metadata": {
    "ExecuteTime": {
     "end_time": "2024-08-17T21:21:02.005637Z",
     "start_time": "2024-08-17T21:21:01.999750Z"
    }
   },
   "cell_type": "code",
   "source": "info",
   "id": "163d702a919d57c0",
   "outputs": [
    {
     "data": {
      "text/plain": [
       "[[10,\n",
       "  31532,\n",
       "  (0.0030697522359952995, (-2.3462693098660976, 4.442213965122588, 11264)),\n",
       "  -32.12191346489554]]"
      ]
     },
     "execution_count": 15,
     "metadata": {},
     "output_type": "execute_result"
    }
   ],
   "execution_count": 15
  },
  {
   "metadata": {},
   "cell_type": "markdown",
   "source": "### Graph",
   "id": "57c1934adbbac13f"
  },
  {
   "metadata": {
    "ExecuteTime": {
     "end_time": "2024-08-14T00:46:08.409698Z",
     "start_time": "2024-08-14T00:46:08.066053Z"
    }
   },
   "cell_type": "code",
   "source": [
    "fix,ax0 = plot.subplots()\n",
    "\n",
    "n,_,errTrue,errApp = UnZip(info)\n",
    "\n",
    "ax0.plot(n,errTrue, c='blue')\n",
    "ax0.set_ylabel('RMS Error', c='blue')\n",
    "ax0.tick_params(axis='y', labelcolor='blue')\n",
    "\n",
    "ax1 = ax0.twinx()\n",
    "ax1.plot(n,errApp, c='green')\n",
    "ax1.set_ylabel('Log Likelihood', c='green')\n",
    "ax1.tick_params(axis='y', labelcolor='green')\n",
    "\n",
    "plot.xlabel('n')"
   ],
   "id": "edb67eaa7afc872f",
   "outputs": [
    {
     "data": {
      "text/plain": [
       "Text(0.5, 0, 'n')"
      ]
     },
     "execution_count": 108,
     "metadata": {},
     "output_type": "execute_result"
    },
    {
     "data": {
      "text/plain": [
       "<Figure size 640x480 with 2 Axes>"
      ],
      "image/png": "[encoded data removed]"
     },
     "metadata": {},
     "output_type": "display_data"
    }
   ],
   "execution_count": 108
  },
  {
   "metadata": {
    "ExecuteTime": {
     "end_time": "2024-08-14T00:41:16.434615Z",
     "start_time": "2024-08-14T00:41:16.432614Z"
    }
   },
   "cell_type": "code",
   "source": "",
   "id": "c4f14dcd1b9be33e",
   "outputs": [],
   "execution_count": null
  }
 ],
 "metadata": {
  "kernelspec": {
   "display_name": "Python 3",
   "language": "python",
   "name": "python3"
  },
  "language_info": {
   "codemirror_mode": {
    "name": "ipython",
    "version": 2
   },
   "file_extension": ".py",
   "mimetype": "text/x-python",
   "name": "python",
   "nbconvert_exporter": "python",
   "pygments_lexer": "ipython2",
   "version": "2.7.6"
  }
 },
 "nbformat": 4,
 "nbformat_minor": 5
}
