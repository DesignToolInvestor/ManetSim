{
 "cells": [
  {
   "metadata": {},
   "cell_type": "markdown",
   "source": "# Distribution B - Maximum Likelihood",
   "id": "a7c0373e6d259027"
  },
  {
   "metadata": {
    "ExecuteTime": {
     "end_time": "2024-08-11T21:29:46.557682Z",
     "start_time": "2024-08-11T21:29:46.551997Z"
    }
   },
   "cell_type": "code",
   "source": [
    "import DistExampB as db\n",
    "\n",
    "import cvxpy as cp\n",
    "\n",
    "from matplotlib import pyplot as plot\n",
    "from numpy import sinc\n",
    "from scipy.optimize import fsolve\n",
    "from sympy import Symbol, lambdify\n",
    "\n",
    "from LocUtil import Grid1, LogGrid1, MinMax, MinIndex, SetSeed, UnZip\n",
    "from Map import LogRatio"
   ],
   "id": "93a6a335787654b",
   "outputs": [],
   "execution_count": 312
  },
  {
   "metadata": {
    "ExecuteTime": {
     "end_time": "2024-08-11T21:29:46.742990Z",
     "start_time": "2024-08-11T21:29:46.731393Z"
    }
   },
   "cell_type": "code",
   "source": [
    "nSamp = 100\n",
    "\n",
    "givenSeed = None\n",
    "seedDig = 3\n",
    "\n",
    "nPlot = 101\n",
    "figSize = (9, 6.5)\n",
    "\n",
    "dist = db.ExampB()"
   ],
   "id": "ec47189e1bc3030b",
   "outputs": [],
   "execution_count": 313
  },
  {
   "metadata": {
    "ExecuteTime": {
     "end_time": "2024-08-11T21:29:46.789386Z",
     "start_time": "2024-08-11T21:29:46.772964Z"
    }
   },
   "cell_type": "code",
   "source": [
    "seed = SetSeed(givenSeed, seedDig)\n",
    "if givenSeed is None:\n",
    "\tprint(f'seed = {seed}')\n",
    "\n",
    "samp = sorted(tuple(dist.Sample() for _ in range(nSamp)))\n",
    "quant = tuple((k + 0.5) / nSamp for k in range(nSamp))"
   ],
   "id": "8a408cb157a05aa0",
   "outputs": [
    {
     "name": "stdout",
     "output_type": "stream",
     "text": [
      "seed = 300\n"
     ]
    }
   ],
   "execution_count": 314
  },
  {
   "metadata": {
    "ExecuteTime": {
     "end_time": "2024-08-11T21:29:47.130672Z",
     "start_time": "2024-08-11T21:29:46.821349Z"
    }
   },
   "cell_type": "code",
   "source": [
    "plot.plot(samp,quant, '.', c='red')\n",
    "\n",
    "xGrid = Grid1(0,2,nPlot)\n",
    "cdfX = tuple(dist.Cdf(x) for x in xGrid)\n",
    "plot.plot(xGrid, cdfX, c=\"blue\", lw=2, zorder=-1)"
   ],
   "id": "a69d8b4b3701fe68",
   "outputs": [
    {
     "data": {
      "text/plain": [
       "[<matplotlib.lines.Line2D at 0x267b392ae40>]"
      ]
     },
     "execution_count": 315,
     "metadata": {},
     "output_type": "execute_result"
    },
    {
     "data": {
      "text/plain": [
       "<Figure size 640x480 with 1 Axes>"
      ],
      "image/png": "[encoded data removed]"
     },
     "metadata": {},
     "output_type": "display_data"
    }
   ],
   "execution_count": 315
  },
  {
   "metadata": {},
   "cell_type": "markdown",
   "source": "## Change of Variable",
   "id": "8e22e8d98b3269bd"
  },
  {
   "metadata": {
    "ExecuteTime": {
     "end_time": "2024-08-11T21:29:47.145014Z",
     "start_time": "2024-08-11T21:29:47.134672Z"
    }
   },
   "cell_type": "code",
   "source": [
    "xSym = Symbol('x')\n",
    "zSym = Symbol('z')\n",
    "\n",
    "map_ = LogRatio(xSym, zSym, (0, 2))"
   ],
   "id": "3be5ceb05d4ab8bb",
   "outputs": [],
   "execution_count": 316
  },
  {
   "metadata": {
    "ExecuteTime": {
     "end_time": "2024-08-11T21:29:47.162456Z",
     "start_time": "2024-08-11T21:29:47.147008Z"
    }
   },
   "cell_type": "code",
   "source": "map_.forSym",
   "id": "d6c36d6eab45d1f8",
   "outputs": [
    {
     "data": {
      "text/plain": [
       "log(x/(2 - x))"
      ],
      "text/latex": "$\\displaystyle \\log{\\left(\\frac{x}{2 - x} \\right)}$"
     },
     "execution_count": 317,
     "metadata": {},
     "output_type": "execute_result"
    }
   ],
   "execution_count": 317
  },
  {
   "metadata": {
    "ExecuteTime": {
     "end_time": "2024-08-11T21:29:47.179661Z",
     "start_time": "2024-08-11T21:29:47.166456Z"
    }
   },
   "cell_type": "code",
   "source": "map_.invSym",
   "id": "17479561677e0aac",
   "outputs": [
    {
     "data": {
      "text/plain": [
       "2*exp(z)/(exp(z) + 1)"
      ],
      "text/latex": "$\\displaystyle \\frac{2 e^{z}}{e^{z} + 1}$"
     },
     "execution_count": 318,
     "metadata": {},
     "output_type": "execute_result"
    }
   ],
   "execution_count": 318
  },
  {
   "metadata": {
    "ExecuteTime": {
     "end_time": "2024-08-11T21:29:47.196161Z",
     "start_time": "2024-08-11T21:29:47.182664Z"
    }
   },
   "cell_type": "code",
   "source": "sampZ = tuple(map_.Forward(x) for x in samp)",
   "id": "eb4ddf4337aab661",
   "outputs": [],
   "execution_count": 319
  },
  {
   "metadata": {
    "ExecuteTime": {
     "end_time": "2024-08-11T21:29:47.228349Z",
     "start_time": "2024-08-11T21:29:47.198162Z"
    }
   },
   "cell_type": "code",
   "source": [
    "zMin,zMax = MinMax(sampZ)\n",
    "zMin,zMax"
   ],
   "id": "d29bce4952db6bd7",
   "outputs": [
    {
     "data": {
      "text/plain": [
       "(-2.582800552980196, 3.6805487565671124)"
      ]
     },
     "execution_count": 320,
     "metadata": {},
     "output_type": "execute_result"
    }
   ],
   "execution_count": 320
  },
  {
   "metadata": {
    "ExecuteTime": {
     "end_time": "2024-08-11T21:29:47.289761Z",
     "start_time": "2024-08-11T21:29:47.230349Z"
    }
   },
   "cell_type": "code",
   "source": [
    "jacobSym = map_.invSym.diff(zSym).simplify().factor()\n",
    "jacobSym"
   ],
   "id": "a724a747c1a30f19",
   "outputs": [
    {
     "data": {
      "text/plain": [
       "2*exp(z)/(exp(z) + 1)**2"
      ],
      "text/latex": "$\\displaystyle \\frac{2 e^{z}}{\\left(e^{z} + 1\\right)^{2}}$"
     },
     "execution_count": 321,
     "metadata": {},
     "output_type": "execute_result"
    }
   ],
   "execution_count": 321
  },
  {
   "metadata": {
    "ExecuteTime": {
     "end_time": "2024-08-11T21:29:47.321458Z",
     "start_time": "2024-08-11T21:29:47.291762Z"
    }
   },
   "cell_type": "code",
   "source": "jacobZ = lambdify(zSym, jacobSym)",
   "id": "75a1614f7db51554",
   "outputs": [],
   "execution_count": 322
  },
  {
   "metadata": {},
   "cell_type": "markdown",
   "source": "## Maximize Log-Likelihood for Sinc Approx of P(z)",
   "id": "a8640693dcb22707"
  },
  {
   "metadata": {
    "ExecuteTime": {
     "end_time": "2024-08-11T21:29:47.355007Z",
     "start_time": "2024-08-11T21:29:47.324459Z"
    }
   },
   "cell_type": "code",
   "source": [
    "nSinc = 11\n",
    "sincZ = Grid1(zMin,zMax, nSinc)\n",
    "h = (zMax - zMin) / (nSinc - 1)"
   ],
   "id": "3fa970a077c22452",
   "outputs": [],
   "execution_count": 323
  },
  {
   "metadata": {
    "ExecuteTime": {
     "end_time": "2024-08-11T21:29:47.384871Z",
     "start_time": "2024-08-11T21:29:47.358006Z"
    }
   },
   "cell_type": "code",
   "source": "nSinc, h",
   "id": "fa836fc4e226fc9e",
   "outputs": [
    {
     "data": {
      "text/plain": [
       "(11, 0.6263349309547308)"
      ]
     },
     "execution_count": 324,
     "metadata": {},
     "output_type": "execute_result"
    }
   ],
   "execution_count": 324
  },
  {
   "metadata": {
    "ExecuteTime": {
     "end_time": "2024-08-11T21:29:47.417528Z",
     "start_time": "2024-08-11T21:29:47.392866Z"
    }
   },
   "cell_type": "code",
   "source": [
    "sincVal = cp.Variable(nSinc)\n",
    "sincVal"
   ],
   "id": "34e38e7f6465b586",
   "outputs": [
    {
     "data": {
      "text/plain": [
       "Variable((11,), var78974)"
      ]
     },
     "execution_count": 325,
     "metadata": {},
     "output_type": "execute_result"
    }
   ],
   "execution_count": 325
  },
  {
   "metadata": {
    "ExecuteTime": {
     "end_time": "2024-08-11T21:29:47.663872Z",
     "start_time": "2024-08-11T21:29:47.525416Z"
    }
   },
   "cell_type": "code",
   "source": [
    "logLike = lambda z: cp.log(sum(sv * sinc((z - sz) / h) for (sz,sv) in zip(sincZ,sincVal)))\n",
    "obj = cp.Maximize(sum(logLike(z) * jacobZ(z) for z in sampZ))"
   ],
   "id": "d6bc0ad124807312",
   "outputs": [],
   "execution_count": 326
  },
  {
   "metadata": {
    "ExecuteTime": {
     "end_time": "2024-08-11T21:29:47.673949Z",
     "start_time": "2024-08-11T21:29:47.665873Z"
    }
   },
   "cell_type": "code",
   "source": [
    "constEach = list(0 <= sv for sv in sincVal)\n",
    "constTotal = h * sum(sv for (sz,sv) in zip(sincZ, sincVal)) == 1\n",
    "# constTotal = h * sum(sv for (sz,sv) in zip(sincZ, sincVal)) == 1\n",
    "const = constEach + [constTotal]"
   ],
   "id": "6cf70ad4b13e6789",
   "outputs": [],
   "execution_count": 327
  },
  {
   "metadata": {
    "ExecuteTime": {
     "end_time": "2024-08-11T21:29:47.705553Z",
     "start_time": "2024-08-11T21:29:47.674950Z"
    }
   },
   "cell_type": "code",
   "source": [
    "prob = cp.Problem(obj,const)\n",
    "prob.solve()"
   ],
   "id": "4d0c7d9efae59225",
   "outputs": [],
   "execution_count": 328
  },
  {
   "metadata": {
    "ExecuteTime": {
     "end_time": "2024-08-11T21:29:48.831285Z",
     "start_time": "2024-08-11T21:29:48.826406Z"
    }
   },
   "cell_type": "code",
   "source": "sincV = list(sincVal.value)",
   "id": "f4d4f7118aae958d",
   "outputs": [],
   "execution_count": 330
  },
  {
   "metadata": {
    "ExecuteTime": {
     "end_time": "2024-08-11T21:29:48.849082Z",
     "start_time": "2024-08-11T21:29:48.834279Z"
    }
   },
   "cell_type": "code",
   "source": "sum(sincV) * h",
   "id": "11accc554ac7b6c5",
   "outputs": [
    {
     "data": {
      "text/plain": [
       "0.9999999956773561"
      ]
     },
     "execution_count": 331,
     "metadata": {},
     "output_type": "execute_result"
    }
   ],
   "execution_count": 331
  },
  {
   "metadata": {},
   "cell_type": "markdown",
   "source": "Check that the integral of the PDF in z is in fact 1",
   "id": "9dcc359521d67795"
  },
  {
   "metadata": {
    "ExecuteTime": {
     "end_time": "2024-08-11T21:29:48.867041Z",
     "start_time": "2024-08-11T21:29:48.852075Z"
    }
   },
   "cell_type": "code",
   "source": [
    "xSplit = fsolve(lambdify(xSym, dist.pdfSym.diff(xSym)), 1.2)[0]\n",
    "xSplit"
   ],
   "id": "33ade9870492f014",
   "outputs": [
    {
     "data": {
      "text/plain": [
       "1.3333333333333515"
      ]
     },
     "execution_count": 332,
     "metadata": {},
     "output_type": "execute_result"
    }
   ],
   "execution_count": 332
  },
  {
   "metadata": {
    "ExecuteTime": {
     "end_time": "2024-08-11T21:29:48.879228Z",
     "start_time": "2024-08-11T21:29:48.869037Z"
    }
   },
   "cell_type": "code",
   "source": [
    "zSplit = map_.Forward(xSplit)\n",
    "zSplit"
   ],
   "id": "bc11897e4079c25c",
   "outputs": [
    {
     "data": {
      "text/plain": [
       "0.6931471805599861"
      ]
     },
     "execution_count": 333,
     "metadata": {},
     "output_type": "execute_result"
    }
   ],
   "execution_count": 333
  },
  {
   "metadata": {
    "ExecuteTime": {
     "end_time": "2024-08-11T21:29:48.901892Z",
     "start_time": "2024-08-11T21:29:48.881220Z"
    }
   },
   "cell_type": "code",
   "source": [
    "nLeft = len(tuple(z for z in sampZ if z < zSplit))\n",
    "probLeft = dist.Cdf(xSplit)"
   ],
   "id": "6b7257a6c914b54b",
   "outputs": [],
   "execution_count": 334
  },
  {
   "metadata": {
    "ExecuteTime": {
     "end_time": "2024-08-11T21:29:49.654785Z",
     "start_time": "2024-08-11T21:29:48.903894Z"
    }
   },
   "cell_type": "code",
   "source": [
    "plot.plot(sincZ, sincVal.value, 'o', c='green')\n",
    "\n",
    "zGrid = Grid1(zMin - 2*h, zMax + 2*h, nPlot)\n",
    "pdf = tuple(dist.Pdf(map_.Inverse(z)) * jacobSym.subs(zSym,z) for z in zGrid)\n",
    "plot.plot(zGrid,pdf, c='blue', linewidth=3)\n",
    "\n",
    "interp = InterpZ1(sincZ,sincV, zGrid)\n",
    "plot.plot(zGrid,interp, c='green', linewidth=3)\n",
    "\n",
    "sampPdf = tuple(dist.Pdf(x) * jacobSym.subs(zSym, map_.Forward(x)) for x in samp)\n",
    "plot.plot(sampZ,sampPdf, '.', c='cyan')\n",
    "\n",
    "sampEstPdf = InterpZ1(sincZ,sincV, sampZ)\n",
    "plot.plot(sampZ,sampEstPdf, '.', c='brown')\n",
    "\n",
    "plot.xlabel('z')\n",
    "plot.ylabel('PDF')"
   ],
   "id": "c1cbdcdc72b37108",
   "outputs": [
    {
     "data": {
      "text/plain": [
       "Text(0, 0.5, 'PDF')"
      ]
     },
     "execution_count": 335,
     "metadata": {},
     "output_type": "execute_result"
    },
    {
     "data": {
      "text/plain": [
       "<Figure size 640x480 with 1 Axes>"
      ],
      "image/png": "[encoded data removed]"
     },
     "metadata": {},
     "output_type": "display_data"
    }
   ],
   "execution_count": 335
  },
  {
   "metadata": {
    "ExecuteTime": {
     "end_time": "2024-08-11T21:29:49.665063Z",
     "start_time": "2024-08-11T21:29:49.656786Z"
    }
   },
   "cell_type": "code",
   "source": "(nLeft / nSamp, probLeft)",
   "id": "d4b6b2c58c80ee9b",
   "outputs": [
    {
     "data": {
      "text/plain": [
       "(0.87, 0.8308040150894854)"
      ]
     },
     "execution_count": 336,
     "metadata": {},
     "output_type": "execute_result"
    }
   ],
   "execution_count": 336
  },
  {
   "metadata": {
    "ExecuteTime": {
     "end_time": "2024-08-11T21:29:49.673942Z",
     "start_time": "2024-08-11T21:29:49.668064Z"
    }
   },
   "cell_type": "code",
   "source": "",
   "id": "cb6f267a58f7045",
   "outputs": [],
   "execution_count": 336
  }
 ],
 "metadata": {
  "kernelspec": {
   "display_name": "Python 3",
   "language": "python",
   "name": "python3"
  },
  "language_info": {
   "codemirror_mode": {
    "name": "ipython",
    "version": 2
   },
   "file_extension": ".py",
   "mimetype": "text/x-python",
   "name": "python",
   "nbconvert_exporter": "python",
   "pygments_lexer": "ipython2",
   "version": "2.7.6"
  }
 },
 "nbformat": 4,
 "nbformat_minor": 5
}
