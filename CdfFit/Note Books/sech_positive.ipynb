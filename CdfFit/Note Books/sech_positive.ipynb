{
 "cells": [
  {
   "metadata": {},
   "cell_type": "markdown",
   "source": "# Sech - Positive Weights",
   "id": "9901eb2746776aee"
  },
  {
   "metadata": {
    "ExecuteTime": {
     "end_time": "2024-08-30T23:37:33.704683Z",
     "start_time": "2024-08-30T23:37:07.799397Z"
    }
   },
   "cell_type": "code",
   "source": [
    "import cvxpy as cp\n",
    "\n",
    "from math import exp, log, sqrt\n",
    "from matplotlib import pyplot as plot\n",
    "from scipy.optimize import fsolve\n",
    "from scipy.stats import linregress\n",
    "from sympy import Symbol, cosh, lambdify, pi\n",
    "\n",
    "import DistExampB as db\n",
    "\n",
    "from Map import LogRatio\n",
    "from LocUtil import Grid1, LogGrid1, MinMax, IndexOf, Sub, UnZip"
   ],
   "id": "782dff9df42480ec",
   "outputs": [],
   "execution_count": 2
  },
  {
   "metadata": {},
   "cell_type": "markdown",
   "source": "## Set Up",
   "id": "3b33babd5330703c"
  },
  {
   "metadata": {},
   "cell_type": "markdown",
   "source": "#### constants",
   "id": "ec8ff8a071f45bc8"
  },
  {
   "metadata": {
    "ExecuteTime": {
     "end_time": "2024-08-30T23:37:33.715308Z",
     "start_time": "2024-08-30T23:37:33.706684Z"
    }
   },
   "cell_type": "code",
   "source": "nPlot = 201",
   "id": "74736af3ba325cc7",
   "outputs": [],
   "execution_count": 3
  },
  {
   "metadata": {},
   "cell_type": "markdown",
   "source": "#### problem",
   "id": "b8079a015d5bfe0f"
  },
  {
   "metadata": {
    "ExecuteTime": {
     "end_time": "2024-08-30T23:37:34.002886Z",
     "start_time": "2024-08-30T23:37:33.717309Z"
    }
   },
   "cell_type": "code",
   "source": "dist = db.ExampB()",
   "id": "c78242f4ef327bf5",
   "outputs": [],
   "execution_count": 4
  },
  {
   "metadata": {},
   "cell_type": "markdown",
   "source": "#### maping",
   "id": "6ef22c1970c544a"
  },
  {
   "metadata": {
    "ExecuteTime": {
     "end_time": "2024-08-30T23:37:34.114618Z",
     "start_time": "2024-08-30T23:37:34.005886Z"
    }
   },
   "cell_type": "code",
   "source": [
    "xSym = Symbol('x')\n",
    "zSym = Symbol('z')\n",
    "map_ = LogRatio(xSym, zSym, xRange=(0, 2))\n",
    "map_.forSym"
   ],
   "id": "919d7075d793674b",
   "outputs": [
    {
     "data": {
      "text/plain": [
       "log(x/(2 - x))"
      ],
      "text/latex": "$\\displaystyle \\log{\\left(\\frac{x}{2 - x} \\right)}$"
     },
     "execution_count": 5,
     "metadata": {},
     "output_type": "execute_result"
    }
   ],
   "execution_count": 5
  },
  {
   "metadata": {
    "ExecuteTime": {
     "end_time": "2024-08-30T23:37:34.121444Z",
     "start_time": "2024-08-30T23:37:34.116619Z"
    }
   },
   "cell_type": "code",
   "source": [
    "X2Z = map_.Forward\n",
    "Z2X = map_.Inverse"
   ],
   "id": "d3a5f5e72093ab27",
   "outputs": [],
   "execution_count": 6
  },
  {
   "metadata": {},
   "cell_type": "markdown",
   "source": "#### bases",
   "id": "fb7959ad9c371af0"
  },
  {
   "metadata": {
    "ExecuteTime": {
     "end_time": "2024-08-30T23:37:34.136592Z",
     "start_time": "2024-08-30T23:37:34.123448Z"
    }
   },
   "cell_type": "code",
   "source": [
    "hSym = Symbol('h', positive=True)\n",
    "zkSym = Symbol('zk', real=True)"
   ],
   "id": "da3374e055866573",
   "outputs": [],
   "execution_count": 7
  },
  {
   "metadata": {
    "ExecuteTime": {
     "end_time": "2024-08-30T23:37:34.161728Z",
     "start_time": "2024-08-30T23:37:34.138594Z"
    }
   },
   "cell_type": "code",
   "source": [
    "baseZ = 1/pi * 1 / cosh((zSym - zkSym) / hSym)\n",
    "baseZ"
   ],
   "id": "df774c3db2e47c",
   "outputs": [
    {
     "data": {
      "text/plain": [
       "1/(pi*cosh((z - zk)/h))"
      ],
      "text/latex": "$\\displaystyle \\frac{1}{\\pi \\cosh{\\left(\\frac{z - zk}{h} \\right)}}$"
     },
     "execution_count": 8,
     "metadata": {},
     "output_type": "execute_result"
    }
   ],
   "execution_count": 8
  },
  {
   "metadata": {
    "ExecuteTime": {
     "end_time": "2024-08-30T23:37:34.173384Z",
     "start_time": "2024-08-30T23:37:34.163730Z"
    }
   },
   "cell_type": "code",
   "source": "BaseZ = lambdify((zSym,zkSym,hSym), baseZ)",
   "id": "8129c54486dd13de",
   "outputs": [],
   "execution_count": 9
  },
  {
   "metadata": {},
   "cell_type": "markdown",
   "source": "## Constrained Fit to PDF",
   "id": "2ee505a63fd087a8"
  },
  {
   "metadata": {
    "ExecuteTime": {
     "end_time": "2024-08-30T23:37:34.257874Z",
     "start_time": "2024-08-30T23:37:34.180380Z"
    }
   },
   "cell_type": "code",
   "source": "PdfZ = lambda z: dist.Pdf(map_.Inverse(z))",
   "id": "b042d3edd9eef476",
   "outputs": [],
   "execution_count": 10
  },
  {
   "metadata": {
    "ExecuteTime": {
     "end_time": "2024-08-30T23:37:34.287504Z",
     "start_time": "2024-08-30T23:37:34.261872Z"
    }
   },
   "cell_type": "code",
   "source": "truncStep = 0.01",
   "id": "e71f495c457fb9f5",
   "outputs": [],
   "execution_count": 11
  },
  {
   "metadata": {
    "ExecuteTime": {
     "end_time": "2024-08-30T23:37:34.346771Z",
     "start_time": "2024-08-30T23:37:34.289504Z"
    }
   },
   "cell_type": "code",
   "source": [
    "zMin = fsolve(lambda z: PdfZ(z) - truncStep, -3)[0]\n",
    "zMax = fsolve(lambda z: PdfZ(z) - truncStep, 6)[0]\n",
    "zMin,zMax"
   ],
   "id": "347dd77f57eb5544",
   "outputs": [
    {
     "data": {
      "text/plain": [
       "(-3.1026021373001056, 6.393525850353921)"
      ]
     },
     "execution_count": 12,
     "metadata": {},
     "output_type": "execute_result"
    }
   ],
   "execution_count": 12
  },
  {
   "metadata": {
    "ExecuteTime": {
     "end_time": "2024-08-30T23:37:34.364114Z",
     "start_time": "2024-08-30T23:37:34.349771Z"
    }
   },
   "cell_type": "code",
   "source": [
    "def Fit(zRange, nSech):\n",
    "\t# parse arguments\n",
    "\tassert(1 < nSech)\n",
    "\tzMin,zMax = zRange\n",
    "\t\n",
    "\tsechZ = Grid1(*zRange, nSech)\n",
    "\th = (zMax - zMin) / (nSech - 1)\n",
    "\t\n",
    "\t# find optimal fit\n",
    "\tsechVar = cp.Variable(nSech)\n",
    "\t\n",
    "\tpdfTrue = tuple(dist.Pdf(map_.Inverse(z)) for z in sechZ)\n",
    "\tPdfEst = lambda z: sum(sv * BaseZ(z,sz,h) for (sv,sz) in zip(sechVar,sechZ))\n",
    "\tobjective = cp.Minimize(sum((PdfEst(z) - pT) ** 2 for (z,pT) in zip(sechZ,pdfTrue)))\n",
    "\n",
    "\tconst = list(0 <= v for v in sechVar)\n",
    "\t\n",
    "\t# solve the problem\n",
    "\tprob = cp.Problem(objective, const)\n",
    "\tcost = prob.solve()\n",
    "\t\n",
    "\tweight = tuple(sechVar.value)\n",
    "\t\n",
    "\treturn ((sechZ,weight),  cost)"
   ],
   "id": "e9363a5042b33b40",
   "outputs": [],
   "execution_count": 13
  },
  {
   "metadata": {
    "ExecuteTime": {
     "end_time": "2024-08-30T23:37:34.407714Z",
     "start_time": "2024-08-30T23:37:34.367116Z"
    }
   },
   "cell_type": "code",
   "source": "nSech = 21",
   "id": "453e2c92670049b7",
   "outputs": [],
   "execution_count": 14
  },
  {
   "metadata": {
    "ExecuteTime": {
     "end_time": "2024-08-30T23:37:34.947357Z",
     "start_time": "2024-08-30T23:37:34.410714Z"
    }
   },
   "cell_type": "code",
   "source": [
    "sechApprox,cost = Fit((zMin,zMax), nSech)\n",
    "cost"
   ],
   "id": "a90cba3fdc186ccd",
   "outputs": [
    {
     "data": {
      "text/plain": [
       "0.09553168574537717"
      ]
     },
     "execution_count": 15,
     "metadata": {},
     "output_type": "execute_result"
    }
   ],
   "execution_count": 15
  },
  {
   "metadata": {
    "ExecuteTime": {
     "end_time": "2024-08-30T23:37:35.336762Z",
     "start_time": "2024-08-30T23:37:34.952355Z"
    }
   },
   "cell_type": "code",
   "source": [
    "plot.plot(*sechApprox, '.', c='red')\n",
    "\n",
    "zGrid = Grid1(zMin,zMax, nPlot)\n",
    "pdfGrid = tuple(dist.Pdf(map_.Inverse(z)) for z in zGrid)\n",
    "\n",
    "plot.plot(zGrid, pdfGrid, c='blue')"
   ],
   "id": "a5aca20039c21dc8",
   "outputs": [
    {
     "data": {
      "text/plain": [
       "[<matplotlib.lines.Line2D at 0x25cff03d3d0>]"
      ]
     },
     "execution_count": 16,
     "metadata": {},
     "output_type": "execute_result"
    },
    {
     "data": {
      "text/plain": [
       "<Figure size 640x480 with 1 Axes>"
      ],
      "image/png": "[encoded data removed]"
     },
     "metadata": {},
     "output_type": "display_data"
    }
   ],
   "execution_count": 16
  },
  {
   "metadata": {
    "ExecuteTime": {
     "end_time": "2024-08-30T23:37:35.345910Z",
     "start_time": "2024-08-30T23:37:35.338762Z"
    }
   },
   "cell_type": "code",
   "source": [
    "extZRange = tuple(z*s for (z,s) in zip((zMin,zMax), (2,2)))\n",
    "extZRange"
   ],
   "id": "ac749755c96c9086",
   "outputs": [
    {
     "data": {
      "text/plain": [
       "(-6.205204274600211, 12.787051700707842)"
      ]
     },
     "execution_count": 17,
     "metadata": {},
     "output_type": "execute_result"
    }
   ],
   "execution_count": 17
  },
  {
   "metadata": {
    "ExecuteTime": {
     "end_time": "2024-08-30T23:37:35.380848Z",
     "start_time": "2024-08-30T23:37:35.346912Z"
    }
   },
   "cell_type": "code",
   "source": [
    "def Interp0(sechZ,sechV,h, z):\n",
    "\tresult = sum(sv * BaseZ(z,sz,h) for (sz,sv) in zip(sechZ, sechV))\n",
    "\n",
    "\treturn result"
   ],
   "id": "accd76642fe709f0",
   "outputs": [],
   "execution_count": 18
  },
  {
   "metadata": {
    "ExecuteTime": {
     "end_time": "2024-08-30T23:37:35.410176Z",
     "start_time": "2024-08-30T23:37:35.383847Z"
    }
   },
   "cell_type": "code",
   "source": [
    "def Interp1(sechApprox, zGrid):\n",
    "\tsechZ,sechV = sechApprox\n",
    "\t\n",
    "\tnSech = len(sechZ)\n",
    "\tzMin,zMax = (sechZ[0], sechZ[nSech - 1])\n",
    "\th = (zMax - zMin) / (nSech - 1)\n",
    "\t\n",
    "\tresult = tuple(Interp0(sechZ,sechV,h, z) for z in zGrid)\n",
    "\treturn result"
   ],
   "id": "30e471807c9ab996",
   "outputs": [],
   "execution_count": 19
  },
  {
   "metadata": {
    "ExecuteTime": {
     "end_time": "2024-08-30T23:37:36.429677Z",
     "start_time": "2024-08-30T23:37:35.413176Z"
    }
   },
   "cell_type": "code",
   "source": [
    "fig,ax = plot.subplots(figsize=(11, 6.5))\n",
    "\n",
    "zGrid = Grid1(*extZRange, 501)\n",
    "pdf = tuple(PdfZ(z) for z in zGrid)\n",
    "plot.semilogy(zGrid,pdf, c='blue')\n",
    "\n",
    "est = Interp1(sechApprox, zGrid)\n",
    "plot.semilogy(zGrid,est, c='green')\n",
    "\n",
    "sechZ,weight = sechApprox\n",
    "sechV = tuple(PdfZ(z) for z in sechZ)\n",
    "plot.semilogy(sechZ,sechV, 'o', c='green')\n",
    "\t\n",
    "ax.set_ylim(1e-4,2)"
   ],
   "id": "8d6b48f6e91f11e0",
   "outputs": [
    {
     "data": {
      "text/plain": [
       "(0.0001, 2)"
      ]
     },
     "execution_count": 20,
     "metadata": {},
     "output_type": "execute_result"
    },
    {
     "data": {
      "text/plain": [
       "<Figure size 1100x650 with 1 Axes>"
      ],
      "image/png": "[encoded data removed]"
     },
     "metadata": {},
     "output_type": "display_data"
    }
   ],
   "execution_count": 20
  },
  {
   "metadata": {
    "ExecuteTime": {
     "end_time": "2024-08-30T23:37:36.665737Z",
     "start_time": "2024-08-30T23:37:36.431677Z"
    }
   },
   "cell_type": "code",
   "source": [
    "zGrid = Grid1(*extZRange, nPlot)\n",
    "est = Interp1(sechApprox, zGrid)\n",
    "pdf = tuple(dist.Pdf(map_.Inverse(z)) for z in zGrid)\n",
    "diff = tuple(p - e for (p,e) in zip(pdf,est))\n",
    "\n",
    "plot.plot(zGrid, diff, c='red')\n",
    "\n",
    "# plot.plot(zGrid, pdf, c='blue')\n",
    "# plot.plot(zGrid, est, c='green')"
   ],
   "id": "45547efc104fec84",
   "outputs": [
    {
     "data": {
      "text/plain": [
       "[<matplotlib.lines.Line2D at 0x25cff15da90>]"
      ]
     },
     "execution_count": 21,
     "metadata": {},
     "output_type": "execute_result"
    },
    {
     "data": {
      "text/plain": [
       "<Figure size 640x480 with 1 Axes>"
      ],
      "image/png": "[encoded data removed]"
     },
     "metadata": {},
     "output_type": "display_data"
    }
   ],
   "execution_count": 21
  },
  {
   "metadata": {
    "ExecuteTime": {
     "end_time": "2024-08-30T23:37:36.675921Z",
     "start_time": "2024-08-30T23:37:36.667738Z"
    }
   },
   "cell_type": "code",
   "source": [
    "def ErrorZ(sechApprox, F):\n",
    "\tsechZ,weight = sechApprox\n",
    "\t\n",
    "\tnSech = len(sechZ)\n",
    "\tzMin,zMax = sechZ[0],sechZ[nSech - 1]\n",
    "\th = (zMax - zMin) / (nSech - 1)\n",
    "\t\t\n",
    "\tDiff = lambda z: Interp0(sechZ,weight,h, z) - F(z)\n",
    "\t\n",
    "\textZRange = tuple(z * s for (z,s) in zip((zMin,zMax), (2,2)))\n",
    "\tnSinc = 4 * nSech\n",
    "\t\n",
    "\tsincZ = Grid1(*extZRange, nSinc)\n",
    "\tdiff = tuple(Diff(z) for z in sincZ)\n",
    "\t\n",
    "\tresult = sqrt(h * sum(d*d for d in diff))\n",
    "\treturn result"
   ],
   "id": "f7eff866b225dc30",
   "outputs": [],
   "execution_count": 22
  },
  {
   "metadata": {
    "ExecuteTime": {
     "end_time": "2024-08-30T23:37:36.692658Z",
     "start_time": "2024-08-30T23:37:36.678922Z"
    }
   },
   "cell_type": "code",
   "source": "PdfZ = lambda z: dist.Pdf(map_.Inverse(z))",
   "id": "39420cc3b8d2dccd",
   "outputs": [],
   "execution_count": 23
  },
  {
   "metadata": {
    "ExecuteTime": {
     "end_time": "2024-08-30T23:37:36.717395Z",
     "start_time": "2024-08-30T23:37:36.696657Z"
    }
   },
   "cell_type": "code",
   "source": "ErrorZ(sechApprox, PdfZ)",
   "id": "88adcaa64f8aa858",
   "outputs": [
    {
     "data": {
      "text/plain": [
       "0.30313234140529133"
      ]
     },
     "execution_count": 24,
     "metadata": {},
     "output_type": "execute_result"
    }
   ],
   "execution_count": 24
  },
  {
   "metadata": {
    "ExecuteTime": {
     "end_time": "2024-08-30T23:37:36.740941Z",
     "start_time": "2024-08-30T23:37:36.720395Z"
    }
   },
   "cell_type": "code",
   "source": [
    "def ErrN(F, nSech, zRange):\n",
    "\tsechEst,condNum = Fit(zRange,nSech)\n",
    "\n",
    "\terrEst = ErrorZ(sechEst, F)\n",
    "\t\n",
    "\treturn (errEst, condNum)"
   ],
   "id": "34769a4d738da508",
   "outputs": [],
   "execution_count": 25
  },
  {
   "metadata": {
    "ExecuteTime": {
     "end_time": "2024-08-30T23:37:36.769778Z",
     "start_time": "2024-08-30T23:37:36.744940Z"
    }
   },
   "cell_type": "code",
   "source": [
    "def LogGridInt(min_,max_, nResult):\n",
    "\tlnMax = log(max_)\n",
    "\t\n",
    "\tresult = [min_]\n",
    "\tval = min_\n",
    "\t\n",
    "\tfor k in range(nResult - 1):\n",
    "\t\tnextGrid = round(val * exp((lnMax - log(val)) / (nResult - k - 1)))\n",
    "\t\tval = max(val + 1, nextGrid)\n",
    "\t\t\n",
    "\t\tresult.append(val)\n",
    "\t  \n",
    "\treturn result"
   ],
   "id": "24f4f1c416d0b946",
   "outputs": [],
   "execution_count": 26
  },
  {
   "metadata": {
    "ExecuteTime": {
     "end_time": "2024-08-30T23:37:36.805560Z",
     "start_time": "2024-08-30T23:37:36.776775Z"
    }
   },
   "cell_type": "code",
   "source": [
    "nN = 50\n",
    "nLim = (3,150)\n",
    "nRange = LogGridInt(*nLim, nN)"
   ],
   "id": "71e0b689334b6c4",
   "outputs": [],
   "execution_count": 27
  },
  {
   "metadata": {
    "ExecuteTime": {
     "end_time": "2024-08-30T23:38:58.848727Z",
     "start_time": "2024-08-30T23:37:36.811557Z"
    }
   },
   "cell_type": "code",
   "source": "errN = tuple((n,ErrN(PdfZ,n,(zMin,zMax))) for n in nRange)",
   "id": "7d6866d9944501a0",
   "outputs": [
    {
     "name": "stderr",
     "output_type": "stream",
     "text": [
      "F:\\Users\\Kenne.DESKTOP-BT6VROU\\AppData\\Local\\Programs\\Python\\Python312\\Lib\\site-packages\\cvxpy\\problems\\problem.py:158: UserWarning: Objective contains too many subexpressions. Consider vectorizing your CVXPY code to speed up compilation.\n",
      "  warnings.warn(\"Objective contains too many subexpressions. \"\n"
     ]
    }
   ],
   "execution_count": 28
  },
  {
   "metadata": {
    "ExecuteTime": {
     "end_time": "2024-08-30T23:38:58.858588Z",
     "start_time": "2024-08-30T23:38:58.854725Z"
    }
   },
   "cell_type": "code",
   "source": [
    "nL,info = UnZip(errN)\n",
    "err,cond = UnZip(info)"
   ],
   "id": "c94c22a239848fbc",
   "outputs": [],
   "execution_count": 29
  },
  {
   "metadata": {
    "ExecuteTime": {
     "end_time": "2024-08-30T23:38:58.873305Z",
     "start_time": "2024-08-30T23:38:58.860589Z"
    }
   },
   "cell_type": "code",
   "source": "fitRange = (5,25)",
   "id": "6c388860a5a3295a",
   "outputs": [],
   "execution_count": 30
  },
  {
   "metadata": {
    "ExecuteTime": {
     "end_time": "2024-08-30T23:38:58.887491Z",
     "start_time": "2024-08-30T23:38:58.875307Z"
    }
   },
   "cell_type": "code",
   "source": [
    "fitIndex = IndexOf(nL, lambda n: (fitRange[0] <= n) and (n <= fitRange[1]))\n",
    "fitIndex"
   ],
   "id": "f96b8a96dd65a425",
   "outputs": [
    {
     "data": {
      "text/plain": [
       "[2, 3, 4, 5, 6, 7, 8, 9, 10, 11, 12, 13, 14, 15, 16, 17, 18, 19, 20, 21]"
      ]
     },
     "execution_count": 31,
     "metadata": {},
     "output_type": "execute_result"
    }
   ],
   "execution_count": 31
  },
  {
   "metadata": {
    "ExecuteTime": {
     "end_time": "2024-08-30T23:38:58.977805Z",
     "start_time": "2024-08-30T23:38:58.889494Z"
    }
   },
   "cell_type": "code",
   "source": [
    "fitIndex = IndexOf(nL, lambda n: (5 <= n) and (n <= 21))\n",
    "nSub = Sub(nL, fitIndex)\n",
    "lnErr = tuple(log(e) for e in Sub(err, fitIndex))\n",
    "\n",
    "slope,inter,_,_,_ = linregress(nSub,lnErr)\n",
    "Fit = lambda n: exp(inter) * exp(slope * n)\n",
    "InvFit = lambda err: (log(err) - inter) / slope\n",
    "\n",
    "slope,exp(inter)"
   ],
   "id": "55eeb8dc991d87ab",
   "outputs": [
    {
     "data": {
      "text/plain": [
       "(-0.10805873977751625, 3.0291936273929343)"
      ]
     },
     "execution_count": 32,
     "metadata": {},
     "output_type": "execute_result"
    }
   ],
   "execution_count": 32
  },
  {
   "metadata": {
    "ExecuteTime": {
     "end_time": "2024-08-30T23:38:59.359360Z",
     "start_time": "2024-08-30T23:38:58.979807Z"
    }
   },
   "cell_type": "code",
   "source": [
    "fig,ax = plot.subplots()\n",
    "\n",
    "plot.semilogy(nL,err, '.', c='red')\n",
    "\n",
    "nLim = MinMax(nRange)\n",
    "plot.semilogy(nLim, tuple(truncStep for _ in range(2)), '--',c='blue', zorder=-1)\n",
    "\n",
    "nGrid = (fitRange[0], InvFit(truncStep))\n",
    "fitGrid = tuple(map(Fit, nGrid))\n",
    "\n",
    "plot.semilogy(nGrid,fitGrid, '--', c='green', zorder=-2)\n",
    "\n",
    "plot.xlabel('n')\n",
    "plot.ylabel('RMS Error')"
   ],
   "id": "ab5f82c75126ed7c",
   "outputs": [
    {
     "data": {
      "text/plain": [
       "Text(0, 0.5, 'RMS Error')"
      ]
     },
     "execution_count": 33,
     "metadata": {},
     "output_type": "execute_result"
    },
    {
     "data": {
      "text/plain": [
       "<Figure size 640x480 with 1 Axes>"
      ],
      "image/png": "[encoded data removed]"
     },
     "metadata": {},
     "output_type": "display_data"
    }
   ],
   "execution_count": 33
  },
  {
   "metadata": {},
   "cell_type": "markdown",
   "source": "#### try polynomial fit",
   "id": "f22271b6e87f52f6"
  },
  {
   "metadata": {
    "ExecuteTime": {
     "end_time": "2024-08-30T23:38:59.366001Z",
     "start_time": "2024-08-30T23:38:59.360361Z"
    }
   },
   "cell_type": "code",
   "source": "fitLim = (15,80)",
   "id": "cab0ddd3c4090b95",
   "outputs": [],
   "execution_count": 34
  },
  {
   "metadata": {
    "ExecuteTime": {
     "end_time": "2024-08-30T23:38:59.380045Z",
     "start_time": "2024-08-30T23:38:59.368002Z"
    }
   },
   "cell_type": "code",
   "source": [
    "fitIndex = IndexOf(nL, lambda n: (fitLim[0] <= n) and (n <= fitLim[1]))\n",
    "\n",
    "nFit = Sub(nL, fitIndex)\n",
    "errFit = Sub(err, fitIndex)\n",
    "\n",
    "lnNFit = tuple(log(n) for n in nFit)\n",
    "lnErrFit = tuple(log(e) for e in errFit)"
   ],
   "id": "da50f7ba1df1e86d",
   "outputs": [],
   "execution_count": 35
  },
  {
   "metadata": {
    "ExecuteTime": {
     "end_time": "2024-08-30T23:38:59.395664Z",
     "start_time": "2024-08-30T23:38:59.382046Z"
    }
   },
   "cell_type": "code",
   "source": [
    "slope,inter,_,_,_ = linregress(lnNFit, lnErrFit)\n",
    "Fit = lambda n: exp(inter) * n ** slope\n",
    "\n",
    "slope,exp(inter)"
   ],
   "id": "227f5241954360ed",
   "outputs": [
    {
     "data": {
      "text/plain": [
       "(-2.196390204998793, 247.02612270269717)"
      ]
     },
     "execution_count": 36,
     "metadata": {},
     "output_type": "execute_result"
    }
   ],
   "execution_count": 36
  },
  {
   "metadata": {
    "ExecuteTime": {
     "end_time": "2024-08-30T23:42:41.075446Z",
     "start_time": "2024-08-30T23:42:39.696511Z"
    }
   },
   "cell_type": "code",
   "source": [
    "plot.loglog(nL,err, '.', c='red')\n",
    "\n",
    "nGrid = fitLim\n",
    "fitGrid = tuple(map(Fit, nGrid))\n",
    "\n",
    "text = f'{round(exp(inter))} * n^{slope:.1f}'\n",
    "plot.semilogy(nGrid,fitGrid, c='green', linewidth=3, zorder=-2, label=text)\n",
    "\n",
    "plot.legend()\n",
    "plot.xlabel('n')\n",
    "plot.ylabel('RMS Error')"
   ],
   "id": "bbdac7dd92e6bf06",
   "outputs": [
    {
     "data": {
      "text/plain": [
       "Text(0, 0.5, 'RMS Error')"
      ]
     },
     "execution_count": 38,
     "metadata": {},
     "output_type": "execute_result"
    },
    {
     "data": {
      "text/plain": [
       "<Figure size 640x480 with 1 Axes>"
      ],
      "image/png": "[encoded data removed]"
     },
     "metadata": {},
     "output_type": "display_data"
    }
   ],
   "execution_count": 38
  },
  {
   "metadata": {
    "ExecuteTime": {
     "end_time": "2024-08-30T23:38:59.962773Z",
     "start_time": "2024-08-30T23:38:59.957749Z"
    }
   },
   "cell_type": "code",
   "source": "",
   "id": "37bcec0f424692c5",
   "outputs": [],
   "execution_count": 37
  }
 ],
 "metadata": {
  "kernelspec": {
   "display_name": "Python 3",
   "language": "python",
   "name": "python3"
  },
  "language_info": {
   "codemirror_mode": {
    "name": "ipython",
    "version": 2
   },
   "file_extension": ".py",
   "mimetype": "text/x-python",
   "name": "python",
   "nbconvert_exporter": "python",
   "pygments_lexer": "ipython2",
   "version": "2.7.6"
  }
 },
 "nbformat": 4,
 "nbformat_minor": 5
}
