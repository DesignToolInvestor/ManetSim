{
 "cells": [
  {
   "metadata": {},
   "cell_type": "markdown",
   "source": [
    "# MLE Unbiased Example\n",
    "\n",
    "This demonstrates that maximum likelihood is not biased (for this example)."
   ],
   "id": "c2da65d78a46646c"
  },
  {
   "metadata": {
    "ExecuteTime": {
     "end_time": "2024-08-10T00:59:27.177505Z",
     "start_time": "2024-08-10T00:59:25.659905Z"
    }
   },
   "cell_type": "code",
   "source": "import sympy as sp",
   "id": "9c5db8b98a47e58d",
   "outputs": [],
   "execution_count": 1
  },
  {
   "metadata": {
    "ExecuteTime": {
     "end_time": "2024-08-10T00:59:27.228018Z",
     "start_time": "2024-08-10T00:59:27.191959Z"
    }
   },
   "cell_type": "code",
   "source": [
    "alphaTureSym = sp.Symbol('alpha_t', positive=True)\n",
    "alphaEstSym = sp.Symbol('alpha_e', positive=True)"
   ],
   "id": "791ec27f59f2fe55",
   "outputs": [],
   "execution_count": 3
  },
  {
   "metadata": {
    "ExecuteTime": {
     "end_time": "2024-08-10T00:59:27.341572Z",
     "start_time": "2024-08-10T00:59:27.237013Z"
    }
   },
   "cell_type": "code",
   "source": [
    "leftProp = alphaTureSym/2\n",
    "rightProp = (2 - alphaTureSym)/2\n",
    "(leftProp, rightProp)"
   ],
   "id": "a4223cc2d6f4343a",
   "outputs": [
    {
     "data": {
      "text/plain": [
       "(alpha_t/2, 1 - alpha_t/2)"
      ]
     },
     "execution_count": 4,
     "metadata": {},
     "output_type": "execute_result"
    }
   ],
   "execution_count": 4
  },
  {
   "metadata": {
    "ExecuteTime": {
     "end_time": "2024-08-10T00:59:27.354244Z",
     "start_time": "2024-08-10T00:59:27.345572Z"
    }
   },
   "cell_type": "code",
   "source": [
    "leftLike = alphaEstSym ** leftProp\n",
    "rightLike = (2 - alphaEstSym) ** rightProp\n",
    "(leftLike, rightLike)"
   ],
   "id": "7224511415ee36ef",
   "outputs": [
    {
     "data": {
      "text/plain": [
       "(alpha_e**(alpha_t/2), (2 - alpha_e)**(1 - alpha_t/2))"
      ]
     },
     "execution_count": 5,
     "metadata": {},
     "output_type": "execute_result"
    }
   ],
   "execution_count": 5
  },
  {
   "metadata": {
    "ExecuteTime": {
     "end_time": "2024-08-10T00:59:27.459494Z",
     "start_time": "2024-08-10T00:59:27.356246Z"
    }
   },
   "cell_type": "code",
   "source": [
    "temp = sp.log(leftLike) + sp.log(rightLike)\n",
    "temp.expand()"
   ],
   "id": "870a92b01190dde5",
   "outputs": [
    {
     "data": {
      "text/plain": [
       "alpha_t*log(alpha_e)/2 + log((2 - alpha_e)**(1 - alpha_t/2))"
      ],
      "text/latex": "$\\displaystyle \\frac{\\alpha_{t} \\log{\\left(\\alpha_{e} \\right)}}{2} + \\log{\\left(\\left(2 - \\alpha_{e}\\right)^{1 - \\frac{\\alpha_{t}}{2}} \\right)}$"
     },
     "execution_count": 6,
     "metadata": {},
     "output_type": "execute_result"
    }
   ],
   "execution_count": 6
  },
  {
   "metadata": {
    "ExecuteTime": {
     "end_time": "2024-08-10T00:59:27.480272Z",
     "start_time": "2024-08-10T00:59:27.461496Z"
    }
   },
   "cell_type": "code",
   "source": [
    "logLike = alphaTureSym/2 * sp.log(alphaEstSym) + (1 - alphaTureSym/2) * sp.log(2 - alphaEstSym)\n",
    "logLike"
   ],
   "id": "9566426c7588807e",
   "outputs": [
    {
     "data": {
      "text/plain": [
       "alpha_t*log(alpha_e)/2 + (1 - alpha_t/2)*log(2 - alpha_e)"
      ],
      "text/latex": "$\\displaystyle \\frac{\\alpha_{t} \\log{\\left(\\alpha_{e} \\right)}}{2} + \\left(1 - \\frac{\\alpha_{t}}{2}\\right) \\log{\\left(2 - \\alpha_{e} \\right)}$"
     },
     "execution_count": 7,
     "metadata": {},
     "output_type": "execute_result"
    }
   ],
   "execution_count": 7
  },
  {
   "metadata": {
    "ExecuteTime": {
     "end_time": "2024-08-10T00:59:27.900284Z",
     "start_time": "2024-08-10T00:59:27.484265Z"
    }
   },
   "cell_type": "code",
   "source": [
    "logLikeDiff = logLike.diff(alphaEstSym).simplify()\n",
    "logLikeDiff"
   ],
   "id": "b74c0f54cf34418f",
   "outputs": [
    {
     "data": {
      "text/plain": [
       "(alpha_e - alpha_t)/(alpha_e*(alpha_e - 2))"
      ],
      "text/latex": "$\\displaystyle \\frac{\\alpha_{e} - \\alpha_{t}}{\\alpha_{e} \\left(\\alpha_{e} - 2\\right)}$"
     },
     "execution_count": 8,
     "metadata": {},
     "output_type": "execute_result"
    }
   ],
   "execution_count": 8
  },
  {
   "metadata": {
    "ExecuteTime": {
     "end_time": "2024-08-10T00:59:27.929217Z",
     "start_time": "2024-08-10T00:59:27.902287Z"
    }
   },
   "cell_type": "code",
   "source": "sp.solve(logLikeDiff, alphaEstSym)",
   "id": "8c47c33f87894dc8",
   "outputs": [
    {
     "data": {
      "text/plain": [
       "[alpha_t]"
      ]
     },
     "execution_count": 9,
     "metadata": {},
     "output_type": "execute_result"
    }
   ],
   "execution_count": 9
  }
 ],
 "metadata": {
  "kernelspec": {
   "display_name": "Python 3",
   "language": "python",
   "name": "python3"
  },
  "language_info": {
   "codemirror_mode": {
    "name": "ipython",
    "version": 2
   },
   "file_extension": ".py",
   "mimetype": "text/x-python",
   "name": "python",
   "nbconvert_exporter": "python",
   "pygments_lexer": "ipython2",
   "version": "2.7.6"
  }
 },
 "nbformat": 4,
 "nbformat_minor": 5
}
