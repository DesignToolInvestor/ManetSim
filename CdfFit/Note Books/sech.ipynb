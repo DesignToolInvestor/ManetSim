{
 "cells": [
  {
   "metadata": {},
   "cell_type": "markdown",
   "source": "# Sech",
   "id": "9901eb2746776aee"
  },
  {
   "metadata": {
    "ExecuteTime": {
     "end_time": "2024-08-28T11:56:29.726153Z",
     "start_time": "2024-08-28T11:56:29.720918Z"
    }
   },
   "cell_type": "code",
   "source": [
    "import math as m\n",
    "import cmath as cm\n",
    "import sympy as sp\n",
    "\n",
    "import DistExampB as db\n",
    "\n",
    "from math import sqrt\n",
    "from matplotlib import pyplot as plot\n",
    "from scipy.linalg import lstsq\n",
    "from scipy.optimize import fsolve\n",
    "\n",
    "from Map import LogRatio\n",
    "from LocUtil import Grid1, UnZip"
   ],
   "id": "782dff9df42480ec",
   "outputs": [],
   "execution_count": 38
  },
  {
   "metadata": {},
   "cell_type": "markdown",
   "source": "## Set Up",
   "id": "3b33babd5330703c"
  },
  {
   "metadata": {},
   "cell_type": "markdown",
   "source": "#### constants",
   "id": "ec8ff8a071f45bc8"
  },
  {
   "metadata": {
    "ExecuteTime": {
     "end_time": "2024-08-28T11:56:31.079056Z",
     "start_time": "2024-08-28T11:56:31.073916Z"
    }
   },
   "cell_type": "code",
   "source": "nPlot = 501",
   "id": "74736af3ba325cc7",
   "outputs": [],
   "execution_count": 39
  },
  {
   "metadata": {},
   "cell_type": "markdown",
   "source": "#### problem",
   "id": "b8079a015d5bfe0f"
  },
  {
   "metadata": {
    "ExecuteTime": {
     "end_time": "2024-08-28T11:56:31.536215Z",
     "start_time": "2024-08-28T11:56:31.528924Z"
    }
   },
   "cell_type": "code",
   "source": "dist = db.ExampB()",
   "id": "c78242f4ef327bf5",
   "outputs": [],
   "execution_count": 40
  },
  {
   "metadata": {},
   "cell_type": "markdown",
   "source": "#### maping",
   "id": "6ef22c1970c544a"
  },
  {
   "metadata": {
    "ExecuteTime": {
     "end_time": "2024-08-28T11:56:32.085192Z",
     "start_time": "2024-08-28T11:56:32.065314Z"
    }
   },
   "cell_type": "code",
   "source": [
    "xSym = sp.Symbol('x')\n",
    "zSym = sp.Symbol('z')\n",
    "map_ = LogRatio(xSym, zSym, xRange=(0, 2))\n",
    "map_.forSym"
   ],
   "id": "919d7075d793674b",
   "outputs": [
    {
     "data": {
      "text/plain": [
       "log(x/(2 - x))"
      ],
      "text/latex": "$\\displaystyle \\log{\\left(\\frac{x}{2 - x} \\right)}$"
     },
     "execution_count": 41,
     "metadata": {},
     "output_type": "execute_result"
    }
   ],
   "execution_count": 41
  },
  {
   "metadata": {
    "ExecuteTime": {
     "end_time": "2024-08-28T11:56:32.368406Z",
     "start_time": "2024-08-28T11:56:32.364231Z"
    }
   },
   "cell_type": "code",
   "source": [
    "X2Z = map_.Forward\n",
    "Z2X = map_.Inverse"
   ],
   "id": "d3a5f5e72093ab27",
   "outputs": [],
   "execution_count": 42
  },
  {
   "metadata": {},
   "cell_type": "markdown",
   "source": "#### bases",
   "id": "fb7959ad9c371af0"
  },
  {
   "metadata": {
    "ExecuteTime": {
     "end_time": "2024-08-28T11:56:32.813611Z",
     "start_time": "2024-08-28T11:56:32.809629Z"
    }
   },
   "cell_type": "code",
   "source": [
    "hSym = sp.Symbol('h', positive=True)\n",
    "zkSym = sp.Symbol('zk', real=True)"
   ],
   "id": "da3374e055866573",
   "outputs": [],
   "execution_count": 43
  },
  {
   "metadata": {
    "ExecuteTime": {
     "end_time": "2024-08-28T11:56:33.055257Z",
     "start_time": "2024-08-28T11:56:33.048184Z"
    }
   },
   "cell_type": "code",
   "source": [
    "baseZ = 1/sp.pi * 1 / sp.cosh((zSym - zkSym) / hSym)\n",
    "baseZ"
   ],
   "id": "df774c3db2e47c",
   "outputs": [
    {
     "data": {
      "text/plain": [
       "1/(pi*cosh((z - zk)/h))"
      ],
      "text/latex": "$\\displaystyle \\frac{1}{\\pi \\cosh{\\left(\\frac{z - zk}{h} \\right)}}$"
     },
     "execution_count": 44,
     "metadata": {},
     "output_type": "execute_result"
    }
   ],
   "execution_count": 44
  },
  {
   "metadata": {
    "ExecuteTime": {
     "end_time": "2024-08-28T11:56:34.318661Z",
     "start_time": "2024-08-28T11:56:33.354672Z"
    }
   },
   "cell_type": "code",
   "source": "sp.integrate(baseZ, (zSym,-sp.oo,sp.oo))",
   "id": "9c3bc38466c0370e",
   "outputs": [
    {
     "data": {
      "text/plain": [
       "Integral(1/cosh(z/h - zk/h), (z, -oo, oo))/pi"
      ],
      "text/latex": "$\\displaystyle \\frac{\\int\\limits_{-\\infty}^{\\infty} \\frac{1}{\\cosh{\\left(\\frac{z}{h} - \\frac{zk}{h} \\right)}}\\, dz}{\\pi}$"
     },
     "execution_count": 45,
     "metadata": {},
     "output_type": "execute_result"
    }
   ],
   "execution_count": 45
  },
  {
   "metadata": {
    "ExecuteTime": {
     "end_time": "2024-08-28T11:56:34.327462Z",
     "start_time": "2024-08-28T11:56:34.321668Z"
    }
   },
   "cell_type": "code",
   "source": "BaseZ = sp.lambdify((zSym,zkSym,hSym), baseZ)",
   "id": "8129c54486dd13de",
   "outputs": [],
   "execution_count": 46
  },
  {
   "metadata": {
    "ExecuteTime": {
     "end_time": "2024-08-28T11:56:34.551274Z",
     "start_time": "2024-08-28T11:56:34.329468Z"
    }
   },
   "cell_type": "code",
   "source": [
    "zGrid = Grid1(-7,7, nPlot)\n",
    "baseGrid = tuple(BaseZ(z,1,1) for z in zGrid)\n",
    "\n",
    "plot.plot(zGrid,baseGrid)\n",
    "\n",
    "plot.xlabel('h')"
   ],
   "id": "9a485ab08fcd95ef",
   "outputs": [
    {
     "data": {
      "text/plain": [
       "Text(0.5, 0, 'h')"
      ]
     },
     "execution_count": 47,
     "metadata": {},
     "output_type": "execute_result"
    },
    {
     "data": {
      "text/plain": [
       "<Figure size 640x480 with 1 Axes>"
      ],
      "image/png": "[encoded data removed]"
     },
     "metadata": {},
     "output_type": "display_data"
    }
   ],
   "execution_count": 47
  },
  {
   "metadata": {},
   "cell_type": "markdown",
   "source": "## Fit to PDF",
   "id": "2ee505a63fd087a8"
  },
  {
   "metadata": {
    "ExecuteTime": {
     "end_time": "2024-08-28T11:56:34.790604Z",
     "start_time": "2024-08-28T11:56:34.785914Z"
    }
   },
   "cell_type": "code",
   "source": "PdfZ = lambda z: dist.Pdf(map_.Inverse(z))",
   "id": "b042d3edd9eef476",
   "outputs": [],
   "execution_count": 48
  },
  {
   "metadata": {
    "ExecuteTime": {
     "end_time": "2024-08-28T11:56:35.420805Z",
     "start_time": "2024-08-28T11:56:35.402337Z"
    }
   },
   "cell_type": "code",
   "source": [
    "zMin = fsolve(lambda z: PdfZ(z) - 0.01, -3)[0]\n",
    "zMax = fsolve(lambda z: PdfZ(z) - 0.01, 6)[0]\n",
    "zMin,zMax"
   ],
   "id": "347dd77f57eb5544",
   "outputs": [
    {
     "data": {
      "text/plain": [
       "(-3.1026021373001056, 6.393525850353921)"
      ]
     },
     "execution_count": 49,
     "metadata": {},
     "output_type": "execute_result"
    }
   ],
   "execution_count": 49
  },
  {
   "metadata": {
    "ExecuteTime": {
     "end_time": "2024-08-28T11:56:36.315069Z",
     "start_time": "2024-08-28T11:56:35.871591Z"
    }
   },
   "cell_type": "code",
   "source": [
    "fig,ax = plot.subplots()\n",
    "\n",
    "zGrid = Grid1(zMin,zMax, nPlot)\n",
    "pdf = tuple(PdfZ(z) for z in zGrid)\n",
    "\n",
    "plot.semilogy(zGrid,pdf, c='blue')\n",
    "\n",
    "ax.set_ylim(1e-3,2)"
   ],
   "id": "2372d0ae31129638",
   "outputs": [
    {
     "data": {
      "text/plain": [
       "(0.001, 2)"
      ]
     },
     "execution_count": 50,
     "metadata": {},
     "output_type": "execute_result"
    },
    {
     "data": {
      "text/plain": [
       "<Figure size 640x480 with 1 Axes>"
      ],
      "image/png": "[encoded data removed]"
     },
     "metadata": {},
     "output_type": "display_data"
    }
   ],
   "execution_count": 50
  },
  {
   "metadata": {
    "ExecuteTime": {
     "end_time": "2024-08-28T11:56:36.586610Z",
     "start_time": "2024-08-28T11:56:36.580492Z"
    }
   },
   "cell_type": "code",
   "source": [
    "def Fit(zRange, nBase):\n",
    "\tassert(1 < nBase)\n",
    "\tzMin,zMax = zRange\n",
    "\t\n",
    "\tsechZ = Grid1(*zRange, nBase)\n",
    "\th = (zMax - zMin) / (nBase - 1)\n",
    "\t\n",
    "\tmat = []\n",
    "\tfor matchZ in sechZ:\n",
    "\t\tmat.append([BaseZ(matchZ,baseZ,h) for baseZ in sechZ])\n",
    "\trhs = [PdfZ(z) for z in sechZ]\n",
    "\t\n",
    "\tfit = lstsq(mat, rhs)\n",
    "\tweight,res,rank,singVal = fit\n",
    "\n",
    "\tcondNum = singVal[0] / singVal[nBase - 1]\n",
    "\t\n",
    "\treturn ((sechZ,weight),  condNum)"
   ],
   "id": "e9363a5042b33b40",
   "outputs": [],
   "execution_count": 51
  },
  {
   "metadata": {
    "ExecuteTime": {
     "end_time": "2024-08-28T11:56:46.980081Z",
     "start_time": "2024-08-28T11:56:46.967432Z"
    }
   },
   "cell_type": "code",
   "source": [
    "sechApprox,condNum = Fit((zMin,zMax), nSech)\n",
    "condNum"
   ],
   "id": "a90cba3fdc186ccd",
   "outputs": [
    {
     "data": {
      "text/plain": [
       "34.447909297746556"
      ]
     },
     "execution_count": 55,
     "metadata": {},
     "output_type": "execute_result"
    }
   ],
   "execution_count": 55
  },
  {
   "metadata": {
    "ExecuteTime": {
     "end_time": "2024-08-28T11:56:48.059446Z",
     "start_time": "2024-08-28T11:56:47.871321Z"
    }
   },
   "cell_type": "code",
   "source": "plot.plot(*sechApprox, '.')",
   "id": "a5aca20039c21dc8",
   "outputs": [
    {
     "data": {
      "text/plain": [
       "[<matplotlib.lines.Line2D at 0x14756d4e180>]"
      ]
     },
     "execution_count": 56,
     "metadata": {},
     "output_type": "execute_result"
    },
    {
     "data": {
      "text/plain": [
       "<Figure size 640x480 with 1 Axes>"
      ],
      "image/png": "[encoded data removed]"
     },
     "metadata": {},
     "output_type": "display_data"
    }
   ],
   "execution_count": 56
  },
  {
   "metadata": {
    "ExecuteTime": {
     "end_time": "2024-08-28T11:56:48.822684Z",
     "start_time": "2024-08-28T11:56:48.816364Z"
    }
   },
   "cell_type": "code",
   "source": [
    "extZRange = tuple(z*s for (z,s) in zip((zMin,zMax), (2,2)))\n",
    "extZRange"
   ],
   "id": "ac749755c96c9086",
   "outputs": [
    {
     "data": {
      "text/plain": [
       "(-6.205204274600211, 12.787051700707842)"
      ]
     },
     "execution_count": 57,
     "metadata": {},
     "output_type": "execute_result"
    }
   ],
   "execution_count": 57
  },
  {
   "metadata": {
    "ExecuteTime": {
     "end_time": "2024-08-28T11:56:49.427675Z",
     "start_time": "2024-08-28T11:56:49.422886Z"
    }
   },
   "cell_type": "code",
   "source": [
    "def Interp0(sechZ,sechV,h, z):\n",
    "\tresult = sum(sv * BaseZ(z,sz,h) for (sz,sv) in zip(sechZ, sechV))\n",
    "\n",
    "\treturn result"
   ],
   "id": "accd76642fe709f0",
   "outputs": [],
   "execution_count": 58
  },
  {
   "metadata": {
    "ExecuteTime": {
     "end_time": "2024-08-28T11:56:50.984905Z",
     "start_time": "2024-08-28T11:56:50.978467Z"
    }
   },
   "cell_type": "code",
   "source": [
    "def Interp1(sechApprox, zGrid):\n",
    "\tsechZ,sechV = sechApprox\n",
    "\t\n",
    "\tnSech = len(sechZ)\n",
    "\tzMin,zMax = (sechZ[0], sechZ[nSech - 1])\n",
    "\th = (zMax - zMin) / (nSech - 1)\n",
    "\t\n",
    "\tresult = tuple(Interp0(sechZ,sechV,h, z) for z in zGrid)\n",
    "\treturn result"
   ],
   "id": "30e471807c9ab996",
   "outputs": [],
   "execution_count": 59
  },
  {
   "metadata": {
    "ExecuteTime": {
     "end_time": "2024-08-28T11:59:22.300631Z",
     "start_time": "2024-08-28T11:59:21.680939Z"
    }
   },
   "cell_type": "code",
   "source": [
    "fig,ax = plot.subplots(figsize=(11, 6.5))\n",
    "\n",
    "zGrid = Grid1(*extZRange, 501)\n",
    "pdf = tuple(PdfZ(z) for z in zGrid)\n",
    "plot.semilogy(zGrid,pdf, c='blue')\n",
    "\n",
    "est = Interp1(sechApprox, zGrid)\n",
    "plot.semilogy(zGrid,est, c='green')\n",
    "\n",
    "sechZ,weight = sechApprox\n",
    "sechV = tuple(PdfZ(z) for z in sechZ)\n",
    "plot.semilogy(sechZ,sechV, 'o', c='green')\n",
    "\n",
    "for (zBase,w) in zip(sechZ,weight):\n",
    "\tplot.semilogy(zBase,w, 'o', c='red')\n",
    "\t\n",
    "ax.set_ylim(1e-4,2)"
   ],
   "id": "8d6b48f6e91f11e0",
   "outputs": [
    {
     "data": {
      "text/plain": [
       "(0.0001, 2)"
      ]
     },
     "execution_count": 61,
     "metadata": {},
     "output_type": "execute_result"
    },
    {
     "data": {
      "text/plain": [
       "<Figure size 1100x650 with 1 Axes>"
      ],
      "image/png": "[encoded data removed]"
     },
     "metadata": {},
     "output_type": "display_data"
    }
   ],
   "execution_count": 61
  },
  {
   "metadata": {
    "ExecuteTime": {
     "end_time": "2024-08-28T00:26:17.693319Z",
     "start_time": "2024-08-28T00:26:17.689866Z"
    }
   },
   "cell_type": "code",
   "source": [
    "# zGrid = Grid1(*extZRange, nPlot)\n",
    "# diff = tuple(Interp0(weight,))\n",
    "\n"
   ],
   "id": "45547efc104fec84",
   "outputs": [],
   "execution_count": 251
  },
  {
   "metadata": {
    "ExecuteTime": {
     "end_time": "2024-08-28T12:03:32.969891Z",
     "start_time": "2024-08-28T12:03:32.963992Z"
    }
   },
   "cell_type": "code",
   "source": [
    "def ErrorZ(sechApprox, F):\n",
    "\tsechZ,weight = sechApprox\n",
    "\t\n",
    "\tnSech = len(sechZ)\n",
    "\tzMin,zMax = sechZ[0],sechZ[nSech - 1]\n",
    "\th = (zMax - zMin) / (nSech - 1)\n",
    "\t\t\n",
    "\tDiff = lambda z: Interp0(sechZ,weight,h, z) - F(z)\n",
    "\t\n",
    "\textZRange = tuple(z * s for (z,s) in zip((zMin,zMax), (2,2)))\n",
    "\tnSinc = 4 * nSech\n",
    "\t\n",
    "\tsincZ = Grid1(*extZRange, nSinc)\n",
    "\tdiff = tuple(Diff(z) for z in sincZ)\n",
    "\t\n",
    "\tresult = sqrt(h * sum(d*d for d in diff))\n",
    "\treturn result"
   ],
   "id": "f7eff866b225dc30",
   "outputs": [],
   "execution_count": 68
  },
  {
   "metadata": {
    "ExecuteTime": {
     "end_time": "2024-08-28T12:03:33.453709Z",
     "start_time": "2024-08-28T12:03:33.449782Z"
    }
   },
   "cell_type": "code",
   "source": "PdfZ = lambda z: dist.Pdf(map_.Inverse(z))",
   "id": "39420cc3b8d2dccd",
   "outputs": [],
   "execution_count": 69
  },
  {
   "metadata": {
    "ExecuteTime": {
     "end_time": "2024-08-28T12:03:33.792452Z",
     "start_time": "2024-08-28T12:03:33.759883Z"
    }
   },
   "cell_type": "code",
   "source": "ErrorZ(sechApprox, PdfZ)",
   "id": "88adcaa64f8aa858",
   "outputs": [
    {
     "data": {
      "text/plain": [
       "0.0069013039609905884"
      ]
     },
     "execution_count": 70,
     "metadata": {},
     "output_type": "execute_result"
    }
   ],
   "execution_count": 70
  },
  {
   "metadata": {
    "ExecuteTime": {
     "end_time": "2024-08-28T12:04:32.702735Z",
     "start_time": "2024-08-28T12:04:32.698393Z"
    }
   },
   "cell_type": "code",
   "source": [
    "def ErrN(F, nSech, zRange):\n",
    "\tsechEst,condNum = Fit(zRange,nSech)\n",
    "\n",
    "\terrEst = ErrorZ(sechEst, F)\n",
    "\t\n",
    "\treturn (errEst, condNum)"
   ],
   "id": "34769a4d738da508",
   "outputs": [],
   "execution_count": 74
  },
  {
   "metadata": {
    "ExecuteTime": {
     "end_time": "2024-08-28T12:04:33.596344Z",
     "start_time": "2024-08-28T12:04:33.523872Z"
    }
   },
   "cell_type": "code",
   "source": "ErrN(PdfZ, 70, (zMin,zMax))",
   "id": "716c13cdd9277465",
   "outputs": [
    {
     "data": {
      "text/plain": [
       "(0.007968158657456082, 34.60228664120426)"
      ]
     },
     "execution_count": 75,
     "metadata": {},
     "output_type": "execute_result"
    }
   ],
   "execution_count": 75
  },
  {
   "metadata": {
    "ExecuteTime": {
     "end_time": "2024-08-28T12:06:16.719610Z",
     "start_time": "2024-08-28T12:06:14.482366Z"
    }
   },
   "cell_type": "code",
   "source": "errN = tuple((n,ErrN(PdfZ,n,(zMin,zMax))) for n in range(3,70))",
   "id": "7d6866d9944501a0",
   "outputs": [],
   "execution_count": 82
  },
  {
   "metadata": {
    "ExecuteTime": {
     "end_time": "2024-08-28T12:06:17.240825Z",
     "start_time": "2024-08-28T12:06:16.721615Z"
    }
   },
   "cell_type": "code",
   "source": [
    "plot.semilogy(*UnZip(errN), '.', c='green')\n",
    "\n",
    "plot.semilogy((3,70), (0.01,0.01), '--',c='red')"
   ],
   "id": "ab5f82c75126ed7c",
   "outputs": [
    {
     "data": {
      "text/plain": [
       "[<matplotlib.lines.Line2D at 0x147564d4bc0>]"
      ]
     },
     "execution_count": 83,
     "metadata": {},
     "output_type": "execute_result"
    },
    {
     "data": {
      "text/plain": [
       "<Figure size 640x480 with 1 Axes>"
      ],
      "image/png": "[encoded data removed]"
     },
     "metadata": {},
     "output_type": "display_data"
    }
   ],
   "execution_count": 83
  },
  {
   "metadata": {},
   "cell_type": "code",
   "outputs": [],
   "execution_count": null,
   "source": "",
   "id": "a736848cc9abdd51"
  }
 ],
 "metadata": {
  "kernelspec": {
   "display_name": "Python 3",
   "language": "python",
   "name": "python3"
  },
  "language_info": {
   "codemirror_mode": {
    "name": "ipython",
    "version": 2
   },
   "file_extension": ".py",
   "mimetype": "text/x-python",
   "name": "python",
   "nbconvert_exporter": "python",
   "pygments_lexer": "ipython2",
   "version": "2.7.6"
  }
 },
 "nbformat": 4,
 "nbformat_minor": 5
}
