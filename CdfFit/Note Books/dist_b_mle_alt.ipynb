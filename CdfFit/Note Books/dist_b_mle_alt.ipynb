{
 "cells": [
  {
   "metadata": {},
   "cell_type": "markdown",
   "source": "# Distribution B - Maximum Likelihood",
   "id": "a7c0373e6d259027"
  },
  {
   "metadata": {
    "ExecuteTime": {
     "end_time": "2024-08-11T21:13:26.650124Z",
     "start_time": "2024-08-11T21:13:26.643586Z"
    }
   },
   "cell_type": "code",
   "source": [
    "import DistBTrunc as dbt\n",
    "import DistExampB as db\n",
    "\n",
    "import cvxpy as cp\n",
    "\n",
    "from math import ceil, floor, log, sqrt\n",
    "from matplotlib import pyplot as plot\n",
    "from numpy import sinc\n",
    "from scipy.interpolate import interp1d\n",
    "from scipy.optimize import fsolve\n",
    "from sympy import Symbol, lambdify\n",
    "\n",
    "from LocMath import Bisect\n",
    "from LocUtil import Grid1, LogGrid1, MinMax, MinIndex, SetSeed, UnZip\n",
    "from Map import LogRatio\n",
    "from Sinc import InterpZ"
   ],
   "id": "93a6a335787654b",
   "outputs": [],
   "execution_count": 71
  },
  {
   "metadata": {
    "ExecuteTime": {
     "end_time": "2024-08-11T21:13:26.825560Z",
     "start_time": "2024-08-11T21:13:26.815749Z"
    }
   },
   "cell_type": "code",
   "source": [
    "nSamp = 100\n",
    "\n",
    "givenSeed = None\n",
    "seedDig = 3\n",
    "\n",
    "nPlot = 101\n",
    "figSize = (9, 6.5)\n",
    "\n",
    "dist = db.ExampB()"
   ],
   "id": "ec47189e1bc3030b",
   "outputs": [],
   "execution_count": 72
  },
  {
   "metadata": {
    "ExecuteTime": {
     "end_time": "2024-08-11T21:13:26.912150Z",
     "start_time": "2024-08-11T21:13:26.895051Z"
    }
   },
   "cell_type": "code",
   "source": [
    "seed = SetSeed(givenSeed, seedDig)\n",
    "if givenSeed is None:\n",
    "\tprint(f'seed = {seed}')\n",
    "\n",
    "samp = sorted(tuple(dist.Sample() for _ in range(nSamp)))\n",
    "quant = tuple((k + 0.5) / nSamp for k in range(nSamp))"
   ],
   "id": "8a408cb157a05aa0",
   "outputs": [
    {
     "name": "stdout",
     "output_type": "stream",
     "text": [
      "seed = 721\n"
     ]
    }
   ],
   "execution_count": 73
  },
  {
   "metadata": {
    "ExecuteTime": {
     "end_time": "2024-08-11T21:13:27.231530Z",
     "start_time": "2024-08-11T21:13:26.975989Z"
    }
   },
   "cell_type": "code",
   "source": [
    "plot.plot(samp,quant, '.', c='red')\n",
    "\n",
    "xGrid = Grid1(0,2,nPlot)\n",
    "cdfX = tuple(dist.Cdf(x) for x in xGrid)\n",
    "plot.plot(xGrid, cdfX, c=\"blue\", lw=2, zorder=-1)"
   ],
   "id": "a69d8b4b3701fe68",
   "outputs": [
    {
     "data": {
      "text/plain": [
       "[<matplotlib.lines.Line2D at 0x27699383020>]"
      ]
     },
     "execution_count": 74,
     "metadata": {},
     "output_type": "execute_result"
    },
    {
     "data": {
      "text/plain": [
       "<Figure size 640x480 with 1 Axes>"
      ],
      "image/png": "[encoded data removed]"
     },
     "metadata": {},
     "output_type": "display_data"
    }
   ],
   "execution_count": 74
  },
  {
   "metadata": {},
   "cell_type": "markdown",
   "source": "## Change of Variable",
   "id": "8e22e8d98b3269bd"
  },
  {
   "metadata": {
    "ExecuteTime": {
     "end_time": "2024-08-11T21:13:27.243510Z",
     "start_time": "2024-08-11T21:13:27.236529Z"
    }
   },
   "cell_type": "code",
   "source": [
    "xSym = Symbol('x')\n",
    "zSym = Symbol('z')\n",
    "\n",
    "map_ = LogRatio(xSym, zSym, (0, 2))"
   ],
   "id": "3be5ceb05d4ab8bb",
   "outputs": [],
   "execution_count": 75
  },
  {
   "metadata": {
    "ExecuteTime": {
     "end_time": "2024-08-11T21:13:27.282324Z",
     "start_time": "2024-08-11T21:13:27.244506Z"
    }
   },
   "cell_type": "code",
   "source": "map_.forSym",
   "id": "d6c36d6eab45d1f8",
   "outputs": [
    {
     "data": {
      "text/plain": [
       "log(x/(2 - x))"
      ],
      "text/latex": "$\\displaystyle \\log{\\left(\\frac{x}{2 - x} \\right)}$"
     },
     "execution_count": 76,
     "metadata": {},
     "output_type": "execute_result"
    }
   ],
   "execution_count": 76
  },
  {
   "metadata": {
    "ExecuteTime": {
     "end_time": "2024-08-11T21:13:27.308504Z",
     "start_time": "2024-08-11T21:13:27.284326Z"
    }
   },
   "cell_type": "code",
   "source": "map_.invSym",
   "id": "17479561677e0aac",
   "outputs": [
    {
     "data": {
      "text/plain": [
       "2*exp(z)/(exp(z) + 1)"
      ],
      "text/latex": "$\\displaystyle \\frac{2 e^{z}}{e^{z} + 1}$"
     },
     "execution_count": 77,
     "metadata": {},
     "output_type": "execute_result"
    }
   ],
   "execution_count": 77
  },
  {
   "metadata": {
    "ExecuteTime": {
     "end_time": "2024-08-11T21:13:27.337191Z",
     "start_time": "2024-08-11T21:13:27.309506Z"
    }
   },
   "cell_type": "code",
   "source": "sampZ = tuple(map_.Forward(x) for x in samp)",
   "id": "eb4ddf4337aab661",
   "outputs": [],
   "execution_count": 78
  },
  {
   "metadata": {
    "ExecuteTime": {
     "end_time": "2024-08-11T21:13:27.368287Z",
     "start_time": "2024-08-11T21:13:27.339192Z"
    }
   },
   "cell_type": "code",
   "source": [
    "zMin,zMax = MinMax(sampZ)\n",
    "zMin,zMax"
   ],
   "id": "d29bce4952db6bd7",
   "outputs": [
    {
     "data": {
      "text/plain": [
       "(-2.815842484965831, 2.836016053874601)"
      ]
     },
     "execution_count": 79,
     "metadata": {},
     "output_type": "execute_result"
    }
   ],
   "execution_count": 79
  },
  {
   "metadata": {
    "ExecuteTime": {
     "end_time": "2024-08-11T21:13:27.445077Z",
     "start_time": "2024-08-11T21:13:27.369289Z"
    }
   },
   "cell_type": "code",
   "source": [
    "jacobSym = map_.invSym.diff(zSym).simplify().factor()\n",
    "jacobSym"
   ],
   "id": "a724a747c1a30f19",
   "outputs": [
    {
     "data": {
      "text/plain": [
       "2*exp(z)/(exp(z) + 1)**2"
      ],
      "text/latex": "$\\displaystyle \\frac{2 e^{z}}{\\left(e^{z} + 1\\right)^{2}}$"
     },
     "execution_count": 80,
     "metadata": {},
     "output_type": "execute_result"
    }
   ],
   "execution_count": 80
  },
  {
   "metadata": {
    "ExecuteTime": {
     "end_time": "2024-08-11T21:13:27.484465Z",
     "start_time": "2024-08-11T21:13:27.448068Z"
    }
   },
   "cell_type": "code",
   "source": [
    "jacobInvSym = map_.forSym.diff(xSym).simplify()\n",
    "jacobInvSym"
   ],
   "id": "a1f6f04749412f0f",
   "outputs": [
    {
     "data": {
      "text/plain": [
       "-2/(x*(x - 2))"
      ],
      "text/latex": "$\\displaystyle - \\frac{2}{x \\left(x - 2\\right)}$"
     },
     "execution_count": 81,
     "metadata": {},
     "output_type": "execute_result"
    }
   ],
   "execution_count": 81
  },
  {
   "metadata": {},
   "cell_type": "markdown",
   "source": "## Maximize Log-Likelihood for Sinc Approx of P(z)",
   "id": "a8640693dcb22707"
  },
  {
   "metadata": {
    "ExecuteTime": {
     "end_time": "2024-08-11T21:13:27.510455Z",
     "start_time": "2024-08-11T21:13:27.487467Z"
    }
   },
   "cell_type": "code",
   "source": [
    "nSinc = 11\n",
    "sincZ = Grid1(zMin,zMax, nSinc)\n",
    "h = (zMax - zMin) / (nSinc - 1)"
   ],
   "id": "3fa970a077c22452",
   "outputs": [],
   "execution_count": 82
  },
  {
   "metadata": {
    "ExecuteTime": {
     "end_time": "2024-08-11T21:13:27.536186Z",
     "start_time": "2024-08-11T21:13:27.524444Z"
    }
   },
   "cell_type": "code",
   "source": "nSinc, h",
   "id": "fa836fc4e226fc9e",
   "outputs": [
    {
     "data": {
      "text/plain": [
       "(11, 0.5651858538840433)"
      ]
     },
     "execution_count": 83,
     "metadata": {},
     "output_type": "execute_result"
    }
   ],
   "execution_count": 83
  },
  {
   "metadata": {
    "ExecuteTime": {
     "end_time": "2024-08-11T21:13:27.649317Z",
     "start_time": "2024-08-11T21:13:27.642535Z"
    }
   },
   "cell_type": "code",
   "source": [
    "sincVal = cp.Variable(nSinc)\n",
    "sincVal"
   ],
   "id": "34e38e7f6465b586",
   "outputs": [
    {
     "data": {
      "text/plain": [
       "Variable((11,), var396883)"
      ]
     },
     "execution_count": 84,
     "metadata": {},
     "output_type": "execute_result"
    }
   ],
   "execution_count": 84
  },
  {
   "metadata": {
    "ExecuteTime": {
     "end_time": "2024-08-11T21:13:27.924980Z",
     "start_time": "2024-08-11T21:13:27.787922Z"
    }
   },
   "cell_type": "code",
   "source": [
    "logLikeP = lambda z: cp.log(sum(sv * sinc((z - sz) / h) for (sz,sv) in zip(sincZ,sincVal)))\n",
    "obj = cp.Maximize(sum(logLikeP(z) for z in sampZ))"
   ],
   "id": "d6bc0ad124807312",
   "outputs": [],
   "execution_count": 85
  },
  {
   "metadata": {
    "ExecuteTime": {
     "end_time": "2024-08-11T21:13:27.982809Z",
     "start_time": "2024-08-11T21:13:27.927981Z"
    }
   },
   "cell_type": "code",
   "source": [
    "xSym = map_.xSym\n",
    "zSym = map_.zSym\n",
    "\n",
    "phiPrimeZSym = map_.DerivSym(1).subs(xSym, map_.invSym).simplify()\n",
    "phiPrimeZSym"
   ],
   "id": "96d3880829d97dc8",
   "outputs": [
    {
     "data": {
      "text/plain": [
       "2*cosh(z/2)**2"
      ],
      "text/latex": "$\\displaystyle 2 \\cosh^{2}{\\left(\\frac{z}{2} \\right)}$"
     },
     "execution_count": 86,
     "metadata": {},
     "output_type": "execute_result"
    }
   ],
   "execution_count": 86
  },
  {
   "metadata": {
    "ExecuteTime": {
     "end_time": "2024-08-11T21:13:27.990713Z",
     "start_time": "2024-08-11T21:13:27.985812Z"
    }
   },
   "cell_type": "code",
   "source": "phiPrimZ = lambdify(zSym, phiPrimeZSym)",
   "id": "2b65cf41fe01c548",
   "outputs": [],
   "execution_count": 87
  },
  {
   "metadata": {
    "ExecuteTime": {
     "end_time": "2024-08-11T21:13:28.007006Z",
     "start_time": "2024-08-11T21:13:27.994713Z"
    }
   },
   "cell_type": "code",
   "source": [
    "constEach = list(0 <= sv for sv in sincVal)\n",
    "constTotal = h * sum(sv for (sz,sv) in zip(sincZ, sincVal)) == 1\n",
    "# constTotal = h * sum(sv for (sz,sv) in zip(sincZ, sincVal)) == 1\n",
    "const = constEach + [constTotal]"
   ],
   "id": "6cf70ad4b13e6789",
   "outputs": [],
   "execution_count": 88
  },
  {
   "metadata": {
    "ExecuteTime": {
     "end_time": "2024-08-11T21:13:28.030880Z",
     "start_time": "2024-08-11T21:13:28.009008Z"
    }
   },
   "cell_type": "code",
   "source": "prob = cp.Problem(obj,const)",
   "id": "4d0c7d9efae59225",
   "outputs": [],
   "execution_count": 89
  },
  {
   "metadata": {
    "ExecuteTime": {
     "end_time": "2024-08-11T21:13:28.779246Z",
     "start_time": "2024-08-11T21:13:28.032882Z"
    }
   },
   "cell_type": "code",
   "source": "prob.solve()",
   "id": "e46c742f5b4804",
   "outputs": [
    {
     "data": {
      "text/plain": [
       "-133.61294479911538"
      ]
     },
     "execution_count": 90,
     "metadata": {},
     "output_type": "execute_result"
    }
   ],
   "execution_count": 90
  },
  {
   "metadata": {
    "ExecuteTime": {
     "end_time": "2024-08-11T21:13:28.786817Z",
     "start_time": "2024-08-11T21:13:28.781247Z"
    }
   },
   "cell_type": "code",
   "source": "sincV = list(sincVal.value)",
   "id": "f4d4f7118aae958d",
   "outputs": [],
   "execution_count": 91
  },
  {
   "metadata": {
    "ExecuteTime": {
     "end_time": "2024-08-11T21:13:28.838415Z",
     "start_time": "2024-08-11T21:13:28.788817Z"
    }
   },
   "cell_type": "code",
   "source": "sum(sincV) * h",
   "id": "11accc554ac7b6c5",
   "outputs": [
    {
     "data": {
      "text/plain": [
       "0.9999999904026808"
      ]
     },
     "execution_count": 92,
     "metadata": {},
     "output_type": "execute_result"
    }
   ],
   "execution_count": 92
  },
  {
   "metadata": {
    "ExecuteTime": {
     "end_time": "2024-08-11T21:13:29.349542Z",
     "start_time": "2024-08-11T21:13:28.842415Z"
    }
   },
   "cell_type": "code",
   "source": [
    "plot.plot(sincZ,sincV, 'o', c='green')\n",
    "\n",
    "zGrid = Grid1(zMin - 2*h, zMax + 2*h, nPlot)\n",
    "pdf = tuple(dist.Pdf(map_.Inverse(z)) * jacobSym.subs(zSym,z) for z in zGrid)\n",
    "plot.plot(zGrid,pdf, c='blue', linewidth=3)\n",
    "\n",
    "interp = InterpZ(sincZ,sincV, zGrid)\n",
    "plot.plot(zGrid,interp, c='green', linewidth=3)\n",
    "\n",
    "sampPdf = tuple(dist.Pdf(x) * jacobSym.subs(zSym, map_.Forward(x)) for x in samp)\n",
    "plot.plot(sampZ,sampPdf, '.', c='cyan')\n",
    "\n",
    "sampEstPdf = InterpZ(sincZ,sincV, sampZ)\n",
    "plot.plot(sampZ,sampEstPdf, '.', c='brown')\n",
    "\n",
    "plot.xlabel('z')\n",
    "plot.ylabel('PDF')"
   ],
   "id": "c1cbdcdc72b37108",
   "outputs": [
    {
     "data": {
      "text/plain": [
       "Text(0, 0.5, 'PDF')"
      ]
     },
     "execution_count": 93,
     "metadata": {},
     "output_type": "execute_result"
    },
    {
     "data": {
      "text/plain": [
       "<Figure size 640x480 with 1 Axes>"
      ],
      "image/png": "[encoded data removed]"
     },
     "metadata": {},
     "output_type": "display_data"
    }
   ],
   "execution_count": 93
  },
  {
   "metadata": {
    "ExecuteTime": {
     "end_time": "2024-08-11T21:13:29.356547Z",
     "start_time": "2024-08-11T21:13:29.351533Z"
    }
   },
   "cell_type": "code",
   "source": "sincX = tuple(map_.Inverse(z) for z in sincZ)",
   "id": "4ace56d4d94e36ab",
   "outputs": [],
   "execution_count": 94
  },
  {
   "metadata": {
    "ExecuteTime": {
     "end_time": "2024-08-11T21:13:29.363302Z",
     "start_time": "2024-08-11T21:13:29.359054Z"
    }
   },
   "cell_type": "code",
   "source": "",
   "id": "d4b6b2c58c80ee9b",
   "outputs": [],
   "execution_count": 94
  }
 ],
 "metadata": {
  "kernelspec": {
   "display_name": "Python 3",
   "language": "python",
   "name": "python3"
  },
  "language_info": {
   "codemirror_mode": {
    "name": "ipython",
    "version": 2
   },
   "file_extension": ".py",
   "mimetype": "text/x-python",
   "name": "python",
   "nbconvert_exporter": "python",
   "pygments_lexer": "ipython2",
   "version": "2.7.6"
  }
 },
 "nbformat": 4,
 "nbformat_minor": 5
}
