{
 "cells": [
  {
   "metadata": {},
   "cell_type": "markdown",
   "source": "# Common maps",
   "id": "3fba187ea8d2f85c"
  },
  {
   "metadata": {
    "ExecuteTime": {
     "end_time": "2024-05-15T15:12:19.007131Z",
     "start_time": "2024-05-15T15:12:18.388397Z"
    }
   },
   "cell_type": "code",
   "source": "from sympy import Function, Symbol, log, solve",
   "id": "786839299f72a007",
   "outputs": [],
   "execution_count": 1
  },
  {
   "metadata": {},
   "cell_type": "markdown",
   "source": "## Log Ration Map",
   "id": "389a4f6e96d513ef"
  },
  {
   "metadata": {
    "ExecuteTime": {
     "end_time": "2024-05-15T20:55:17.173925Z",
     "start_time": "2024-05-15T20:55:17.166632Z"
    }
   },
   "cell_type": "code",
   "source": [
    "x = Symbol('x')    # the problem domain\n",
    "z = Symbol('z')    # the mapped domain \n",
    "\n",
    "a = Symbol('a')    # the lower limit of the problem range\n",
    "b = Symbol('b')    # the upper limit of the problem range\n",
    "\n",
    "z0 = Symbol('z0')    # shift in z\n",
    "zScale = Symbol('zScale')    # scaling in z"
   ],
   "id": "810790409828108",
   "outputs": [],
   "execution_count": 34
  },
  {
   "metadata": {
    "ExecuteTime": {
     "end_time": "2024-05-15T21:53:37.691473Z",
     "start_time": "2024-05-15T21:53:37.686228Z"
    }
   },
   "cell_type": "code",
   "source": "phi = zScale * (log((x - a) / (b - x)) + z0)",
   "id": "6eaca810daa43bad",
   "outputs": [],
   "execution_count": 42
  },
  {
   "metadata": {
    "ExecuteTime": {
     "end_time": "2024-05-15T21:53:38.568817Z",
     "start_time": "2024-05-15T21:53:38.560259Z"
    }
   },
   "cell_type": "code",
   "source": [
    "eq = phi - z\n",
    "eq"
   ],
   "id": "406c77bb79390f94",
   "outputs": [
    {
     "data": {
      "text/plain": [
       "-z + zScale*(z0 + log((-a + x)/(b - x)))"
      ],
      "text/latex": "$\\displaystyle - z + zScale \\left(z_{0} + \\log{\\left(\\frac{- a + x}{b - x} \\right)}\\right)$"
     },
     "execution_count": 43,
     "metadata": {},
     "output_type": "execute_result"
    }
   ],
   "execution_count": 43
  },
  {
   "metadata": {
    "ExecuteTime": {
     "end_time": "2024-05-15T21:53:40.848400Z",
     "start_time": "2024-05-15T21:53:39.545939Z"
    }
   },
   "cell_type": "code",
   "source": [
    "temp = solve(eq, x)\n",
    "phiInv = temp[0]\n",
    "phiInv"
   ],
   "id": "c2b8b7f4fdbd4c10",
   "outputs": [
    {
     "data": {
      "text/plain": [
       "(a*exp(z0) + b*exp(z/zScale))/(exp(z0) + exp(z/zScale))"
      ],
      "text/latex": "$\\displaystyle \\frac{a e^{z_{0}} + b e^{\\frac{z}{zScale}}}{e^{z_{0}} + e^{\\frac{z}{zScale}}}$"
     },
     "execution_count": 44,
     "metadata": {},
     "output_type": "execute_result"
    }
   ],
   "execution_count": 44
  },
  {
   "metadata": {
    "ExecuteTime": {
     "end_time": "2024-05-15T21:53:49.245721Z",
     "start_time": "2024-05-15T21:53:49.192568Z"
    }
   },
   "cell_type": "code",
   "source": "phiInv.simplify()",
   "id": "1cbec22a170403c9",
   "outputs": [
    {
     "data": {
      "text/plain": [
       "(a*exp(z0) + b*exp(z/zScale))/(exp(z0) + exp(z/zScale))"
      ],
      "text/latex": "$\\displaystyle \\frac{a e^{z_{0}} + b e^{\\frac{z}{zScale}}}{e^{z_{0}} + e^{\\frac{z}{zScale}}}$"
     },
     "execution_count": 45,
     "metadata": {},
     "output_type": "execute_result"
    }
   ],
   "execution_count": 45
  },
  {
   "metadata": {
    "ExecuteTime": {
     "end_time": "2024-05-15T20:55:26.367450Z",
     "start_time": "2024-05-15T20:55:26.283141Z"
    }
   },
   "cell_type": "code",
   "source": "phi.diff(x).simplify()",
   "id": "d7f77342f1603c52",
   "outputs": [
    {
     "data": {
      "text/plain": [
       "zScale*(a - b)/((a - x)*(b - x))"
      ],
      "text/latex": "$\\displaystyle \\frac{zScale \\left(a - b\\right)}{\\left(a - x\\right) \\left(b - x\\right)}$"
     },
     "execution_count": 38,
     "metadata": {},
     "output_type": "execute_result"
    }
   ],
   "execution_count": 38
  },
  {
   "metadata": {
    "ExecuteTime": {
     "end_time": "2024-05-15T21:00:36.128116Z",
     "start_time": "2024-05-15T21:00:36.120310Z"
    }
   },
   "cell_type": "code",
   "source": "(z+z0*zScale)/zScale",
   "id": "1e3ba40b2db4f45a",
   "outputs": [
    {
     "data": {
      "text/plain": [
       "(z + z0*zScale)/zScale"
      ],
      "text/latex": "$\\displaystyle \\frac{z + z_{0} zScale}{zScale}$"
     },
     "execution_count": 40,
     "metadata": {},
     "output_type": "execute_result"
    }
   ],
   "execution_count": 40
  },
  {
   "metadata": {
    "ExecuteTime": {
     "end_time": "2024-05-15T21:00:53.186164Z",
     "start_time": "2024-05-15T21:00:53.179940Z"
    }
   },
   "cell_type": "code",
   "source": "_.expand()",
   "id": "27653c37d073324c",
   "outputs": [
    {
     "data": {
      "text/plain": [
       "z/zScale + z0"
      ],
      "text/latex": "$\\displaystyle \\frac{z}{zScale} + z_{0}$"
     },
     "execution_count": 41,
     "metadata": {},
     "output_type": "execute_result"
    }
   ],
   "execution_count": 41
  }
 ],
 "metadata": {
  "kernelspec": {
   "display_name": "Python 3",
   "language": "python",
   "name": "python3"
  },
  "language_info": {
   "codemirror_mode": {
    "name": "ipython",
    "version": 2
   },
   "file_extension": ".py",
   "mimetype": "text/x-python",
   "name": "python",
   "nbconvert_exporter": "python",
   "pygments_lexer": "ipython2",
   "version": "2.7.6"
  }
 },
 "nbformat": 4,
 "nbformat_minor": 5
}
