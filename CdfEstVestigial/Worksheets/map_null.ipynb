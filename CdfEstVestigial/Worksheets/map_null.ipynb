{
 "cells": [
  {
   "cell_type": "code",
   "id": "initial_id",
   "metadata": {
    "collapsed": true,
    "jupyter": {
     "is_executing": true
    }
   },
   "source": [
    "from sympy import (Function, Symbol, simplify, cos, coth, diff, evalf, exp, log, oo, series, \n",
    "\t\t\t\t   sinh, solve, sqrt, tanh)\n",
    "\n",
    "from matplotlib import pyplot as plot\n",
    "\n",
    "from LocUtil import Grid1"
   ],
   "outputs": [],
   "execution_count": null
  },
  {
   "metadata": {
    "ExecuteTime": {
     "end_time": "2024-05-17T21:53:42.408159Z",
     "start_time": "2024-05-17T21:53:42.403916Z"
    }
   },
   "cell_type": "code",
   "source": "nPlot = 100",
   "id": "4fc3a2accb4778c5",
   "outputs": [],
   "execution_count": 11
  },
  {
   "metadata": {
    "ExecuteTime": {
     "end_time": "2024-05-17T23:23:01.380498Z",
     "start_time": "2024-05-17T23:23:01.376006Z"
    }
   },
   "cell_type": "code",
   "source": [
    "x = Symbol('x')\n",
    "z = Symbol('z')"
   ],
   "id": "c75c3209d6730530",
   "outputs": [],
   "execution_count": 83
  },
  {
   "metadata": {},
   "cell_type": "markdown",
   "source": "## Log Ratio",
   "id": "8d4eca013f8d2159"
  },
  {
   "metadata": {
    "ExecuteTime": {
     "end_time": "2024-05-17T23:22:12.873534Z",
     "start_time": "2024-05-17T23:22:12.868896Z"
    }
   },
   "cell_type": "code",
   "source": [
    "a = Symbol('a')\n",
    "b = Symbol('b')\n",
    "\n",
    "z0 = Symbol('z0')\n",
    "s = Symbol('s')"
   ],
   "id": "5c7d1fdaf78d3ea8",
   "outputs": [],
   "execution_count": 80
  },
  {
   "metadata": {
    "ExecuteTime": {
     "end_time": "2024-05-17T23:49:31.389567Z",
     "start_time": "2024-05-17T23:49:31.381772Z"
    }
   },
   "cell_type": "code",
   "source": [
    "map = (s * log((x - a) / (b - x)) + z0)\n",
    "map"
   ],
   "id": "452154cd64bf2f17",
   "outputs": [
    {
     "data": {
      "text/plain": [
       "s*log((-a + x)/(b - x)) + z0"
      ],
      "text/latex": "$\\displaystyle s \\log{\\left(\\frac{- a + x}{b - x} \\right)} + z_{0}$"
     },
     "execution_count": 101,
     "metadata": {},
     "output_type": "execute_result"
    }
   ],
   "execution_count": 101
  },
  {
   "metadata": {
    "ExecuteTime": {
     "end_time": "2024-05-17T23:49:48.625329Z",
     "start_time": "2024-05-17T23:49:47.829288Z"
    }
   },
   "cell_type": "code",
   "source": [
    "sys = map - z\n",
    "solve(sys, x)[0]"
   ],
   "id": "dcaa03fdd2410ab",
   "outputs": [
    {
     "data": {
      "text/plain": [
       "(a + b*exp((z - z0)/s))/(exp((z - z0)/s) + 1)"
      ],
      "text/latex": "$\\displaystyle \\frac{a + b e^{\\frac{z - z_{0}}{s}}}{e^{\\frac{z - z_{0}}{s}} + 1}$"
     },
     "execution_count": 103,
     "metadata": {},
     "output_type": "execute_result"
    }
   ],
   "execution_count": 103
  },
  {
   "metadata": {
    "ExecuteTime": {
     "end_time": "2024-05-17T23:49:57.558047Z",
     "start_time": "2024-05-17T23:49:57.550138Z"
    }
   },
   "cell_type": "code",
   "source": [
    "inv = (a + b*exp((z - z0)/s)) / (exp((z - z0)/s) + 1)\n",
    "inv"
   ],
   "id": "839b2c8fe6cc152a",
   "outputs": [
    {
     "data": {
      "text/plain": [
       "(a + b*exp((z - z0)/s))/(exp((z - z0)/s) + 1)"
      ],
      "text/latex": "$\\displaystyle \\frac{a + b e^{\\frac{z - z_{0}}{s}}}{e^{\\frac{z - z_{0}}{s}} + 1}$"
     },
     "execution_count": 104,
     "metadata": {},
     "output_type": "execute_result"
    }
   ],
   "execution_count": 104
  },
  {
   "metadata": {
    "ExecuteTime": {
     "end_time": "2024-05-17T23:50:04.373152Z",
     "start_time": "2024-05-17T23:50:04.304872Z"
    }
   },
   "cell_type": "code",
   "source": [
    "null = (1/map.diff(x)).simplify()\n",
    "null"
   ],
   "id": "dd4c5b6b66c9bae0",
   "outputs": [
    {
     "data": {
      "text/plain": [
       "(a - x)*(b - x)/(s*(a - b))"
      ],
      "text/latex": "$\\displaystyle \\frac{\\left(a - x\\right) \\left(b - x\\right)}{s \\left(a - b\\right)}$"
     },
     "execution_count": 105,
     "metadata": {},
     "output_type": "execute_result"
    }
   ],
   "execution_count": 105
  },
  {
   "metadata": {
    "ExecuteTime": {
     "end_time": "2024-05-17T23:53:56.595990Z",
     "start_time": "2024-05-17T23:53:56.323795Z"
    }
   },
   "cell_type": "code",
   "source": [
    "xL = [(k + 0.5) / nPlot for k in range(nPlot)]\n",
    "nullL = [null.subs({x:xV, a:0, b:1, s:1}).evalf() for xV in xL]\n",
    "plot.plot(xL,nullL)"
   ],
   "id": "d45aced52bb7617d",
   "outputs": [
    {
     "data": {
      "text/plain": [
       "[<matplotlib.lines.Line2D at 0x2ecad225790>]"
      ]
     },
     "execution_count": 109,
     "metadata": {},
     "output_type": "execute_result"
    },
    {
     "data": {
      "text/plain": [
       "<Figure size 640x480 with 1 Axes>"
      ],
      "image/png": "[encoded data removed]"
     },
     "metadata": {},
     "output_type": "display_data"
    }
   ],
   "execution_count": 109
  },
  {
   "metadata": {
    "ExecuteTime": {
     "end_time": "2024-05-17T23:42:35.873361Z",
     "start_time": "2024-05-17T23:42:35.867212Z"
    }
   },
   "cell_type": "code",
   "source": [
    "nullLeft = (x - a) / sqrt(s * (b-a))\n",
    "nullRight = (b - x) / sqrt(s * (b-a))"
   ],
   "id": "a3dc373a7d8a89cf",
   "outputs": [],
   "execution_count": 95
  },
  {
   "metadata": {
    "ExecuteTime": {
     "end_time": "2024-05-17T23:44:24.169681Z",
     "start_time": "2024-05-17T23:44:24.126229Z"
    }
   },
   "cell_type": "code",
   "source": "(nullLeft * nullRight).simplify()",
   "id": "33d70196f74b118d",
   "outputs": [
    {
     "data": {
      "text/plain": [
       "(a - x)*(b - x)/(s*(a - b))"
      ],
      "text/latex": "$\\displaystyle \\frac{\\left(a - x\\right) \\left(b - x\\right)}{s \\left(a - b\\right)}$"
     },
     "execution_count": 97,
     "metadata": {},
     "output_type": "execute_result"
    }
   ],
   "execution_count": 97
  },
  {
   "metadata": {
    "ExecuteTime": {
     "end_time": "2024-05-18T00:02:57.076151Z",
     "start_time": "2024-05-18T00:02:56.865733Z"
    }
   },
   "cell_type": "code",
   "source": "nullLeft.subs({x:inv}).simplify()",
   "id": "6a58ce528cc37cbf",
   "outputs": [
    {
     "data": {
      "text/plain": [
       "(-a + b)*exp(z/s)/(sqrt(s*(-a + b))*(exp(z/s) + exp(z0/s)))"
      ],
      "text/latex": "$\\displaystyle \\frac{\\left(- a + b\\right) e^{\\frac{z}{s}}}{\\sqrt{s \\left(- a + b\\right)} \\left(e^{\\frac{z}{s}} + e^{\\frac{z_{0}}{s}}\\right)}$"
     },
     "execution_count": 110,
     "metadata": {},
     "output_type": "execute_result"
    }
   ],
   "execution_count": 110
  },
  {
   "metadata": {
    "ExecuteTime": {
     "end_time": "2024-05-18T01:47:21.967053Z",
     "start_time": "2024-05-18T01:47:21.859151Z"
    }
   },
   "cell_type": "code",
   "source": "nullRight.subs({x:inv}).simplify()",
   "id": "f1c7c8a58635008c",
   "outputs": [
    {
     "data": {
      "text/plain": [
       "(-a + b)*exp(z0/s)/(sqrt(s*(-a + b))*(exp(z/s) + exp(z0/s)))"
      ],
      "text/latex": "$\\displaystyle \\frac{\\left(- a + b\\right) e^{\\frac{z_{0}}{s}}}{\\sqrt{s \\left(- a + b\\right)} \\left(e^{\\frac{z}{s}} + e^{\\frac{z_{0}}{s}}\\right)}$"
     },
     "execution_count": 111,
     "metadata": {},
     "output_type": "execute_result"
    }
   ],
   "execution_count": 111
  },
  {
   "metadata": {},
   "cell_type": "markdown",
   "source": "## Log-Shinh",
   "id": "22eedc0de963848b"
  },
  {
   "metadata": {
    "ExecuteTime": {
     "end_time": "2024-05-17T21:54:29.234997Z",
     "start_time": "2024-05-17T21:54:29.222305Z"
    }
   },
   "cell_type": "code",
   "source": [
    "map = log(sinh(x))\n",
    "map"
   ],
   "id": "178b2c5fcf5495f0",
   "outputs": [
    {
     "data": {
      "text/plain": [
       "log(sinh(x))"
      ],
      "text/latex": "$\\displaystyle \\log{\\left(\\sinh{\\left(x \\right)} \\right)}$"
     },
     "execution_count": 17,
     "metadata": {},
     "output_type": "execute_result"
    }
   ],
   "execution_count": 17
  },
  {
   "metadata": {
    "ExecuteTime": {
     "end_time": "2024-05-17T21:54:30.891826Z",
     "start_time": "2024-05-17T21:54:30.813924Z"
    }
   },
   "cell_type": "code",
   "source": [
    "null = (1/map.diff(x)).simplify()\n",
    "null"
   ],
   "id": "b830c6be938a59c3",
   "outputs": [
    {
     "data": {
      "text/plain": [
       "tanh(x)"
      ],
      "text/latex": "$\\displaystyle \\tanh{\\left(x \\right)}$"
     },
     "execution_count": 18,
     "metadata": {},
     "output_type": "execute_result"
    }
   ],
   "execution_count": 18
  },
  {
   "metadata": {
    "ExecuteTime": {
     "end_time": "2024-05-17T22:15:54.898904Z",
     "start_time": "2024-05-17T22:15:54.721028Z"
    }
   },
   "cell_type": "code",
   "source": [
    "xL = Grid1(0,10,nPlot)\n",
    "nullL = [null.subs(x,xV).evalf() for xV in xL]\n",
    "\n",
    "plot.plot(xL,nullL)"
   ],
   "id": "82f96a039165de46",
   "outputs": [
    {
     "data": {
      "text/plain": [
       "[<matplotlib.lines.Line2D at 0x2ecaae2c7d0>]"
      ]
     },
     "execution_count": 42,
     "metadata": {},
     "output_type": "execute_result"
    },
    {
     "data": {
      "text/plain": [
       "<Figure size 640x480 with 1 Axes>"
      ],
      "image/png": "[encoded data removed]"
     },
     "metadata": {},
     "output_type": "display_data"
    }
   ],
   "execution_count": 42
  },
  {
   "metadata": {
    "ExecuteTime": {
     "end_time": "2024-05-17T22:01:52.444709Z",
     "start_time": "2024-05-17T22:01:52.435226Z"
    }
   },
   "cell_type": "code",
   "source": "null.rewrite(exp)",
   "id": "4efa6069726a0769",
   "outputs": [
    {
     "data": {
      "text/plain": [
       "(exp(x) - exp(-x))/(exp(x) + exp(-x))"
      ],
      "text/latex": "$\\displaystyle \\frac{e^{x} - e^{- x}}{e^{x} + e^{- x}}$"
     },
     "execution_count": 27,
     "metadata": {},
     "output_type": "execute_result"
    }
   ],
   "execution_count": 27
  },
  {
   "metadata": {
    "ExecuteTime": {
     "end_time": "2024-05-17T22:03:03.317004Z",
     "start_time": "2024-05-17T22:03:03.310927Z"
    }
   },
   "cell_type": "code",
   "source": "null.subs(x,0)",
   "id": "a066678491ff8ace",
   "outputs": [
    {
     "data": {
      "text/plain": [
       "0"
      ],
      "text/latex": "$\\displaystyle 0$"
     },
     "execution_count": 28,
     "metadata": {},
     "output_type": "execute_result"
    }
   ],
   "execution_count": 28
  },
  {
   "metadata": {
    "ExecuteTime": {
     "end_time": "2024-05-17T21:56:25.148602Z",
     "start_time": "2024-05-17T21:56:25.106725Z"
    }
   },
   "cell_type": "code",
   "source": "null.series(x,0,n=8)",
   "id": "aab17e7b0ccdf80",
   "outputs": [
    {
     "data": {
      "text/plain": [
       "x - x**3/3 + 2*x**5/15 - 17*x**7/315 + O(x**8)"
      ],
      "text/latex": "$\\displaystyle x - \\frac{x^{3}}{3} + \\frac{2 x^{5}}{15} - \\frac{17 x^{7}}{315} + O\\left(x^{8}\\right)$"
     },
     "execution_count": 21,
     "metadata": {},
     "output_type": "execute_result"
    }
   ],
   "execution_count": 21
  },
  {
   "metadata": {
    "ExecuteTime": {
     "end_time": "2024-05-17T22:06:27.395188Z",
     "start_time": "2024-05-17T22:06:26.345443Z"
    }
   },
   "cell_type": "code",
   "source": "null.series(x,oo,n=8)",
   "id": "2208a70b1122eb6",
   "outputs": [
    {
     "ename": "PoleError",
     "evalue": "\nAsymptotic expansion of tanh around [oo] is not implemented.",
     "output_type": "error",
     "traceback": [
      "\u001B[1;31m---------------------------------------------------------------------------\u001B[0m",
      "\u001B[1;31mPoleError\u001B[0m                                 Traceback (most recent call last)",
      "File \u001B[1;32m~\\AppData\\Local\\Programs\\Python\\Python312\\Lib\\site-packages\\sympy\\core\\expr.py:3005\u001B[0m, in \u001B[0;36mExpr.series\u001B[1;34m(self, x, x0, n, dir, logx, cdir)\u001B[0m\n\u001B[0;32m   3004\u001B[0m \u001B[38;5;28;01mtry\u001B[39;00m:\n\u001B[1;32m-> 3005\u001B[0m     s \u001B[38;5;241m=\u001B[39m \u001B[38;5;28;43mself\u001B[39;49m\u001B[38;5;241;43m.\u001B[39;49m\u001B[43msubs\u001B[49m\u001B[43m(\u001B[49m\u001B[43mx\u001B[49m\u001B[43m,\u001B[49m\u001B[43m \u001B[49m\u001B[43mcdir\u001B[49m\u001B[38;5;241;43m/\u001B[39;49m\u001B[43mx\u001B[49m\u001B[43m)\u001B[49m\u001B[38;5;241;43m.\u001B[39;49m\u001B[43mseries\u001B[49m\u001B[43m(\u001B[49m\u001B[43mx\u001B[49m\u001B[43m,\u001B[49m\u001B[43m \u001B[49m\u001B[43mn\u001B[49m\u001B[38;5;241;43m=\u001B[39;49m\u001B[43mn\u001B[49m\u001B[43m,\u001B[49m\u001B[43m \u001B[49m\u001B[38;5;28;43mdir\u001B[39;49m\u001B[38;5;241;43m=\u001B[39;49m\u001B[38;5;124;43m'\u001B[39;49m\u001B[38;5;124;43m+\u001B[39;49m\u001B[38;5;124;43m'\u001B[39;49m\u001B[43m,\u001B[49m\u001B[43m \u001B[49m\u001B[43mcdir\u001B[49m\u001B[38;5;241;43m=\u001B[39;49m\u001B[38;5;241;43m1\u001B[39;49m\u001B[43m)\u001B[49m\n\u001B[0;32m   3006\u001B[0m     \u001B[38;5;28;01mif\u001B[39;00m n \u001B[38;5;129;01mis\u001B[39;00m \u001B[38;5;28;01mNone\u001B[39;00m:\n",
      "File \u001B[1;32m~\\AppData\\Local\\Programs\\Python\\Python312\\Lib\\site-packages\\sympy\\core\\expr.py:3026\u001B[0m, in \u001B[0;36mExpr.series\u001B[1;34m(self, x, x0, n, dir, logx, cdir)\u001B[0m\n\u001B[0;32m   3025\u001B[0m xpos \u001B[38;5;241m=\u001B[39m Dummy(\u001B[38;5;124m'\u001B[39m\u001B[38;5;124mx\u001B[39m\u001B[38;5;124m'\u001B[39m, positive\u001B[38;5;241m=\u001B[39m\u001B[38;5;28;01mTrue\u001B[39;00m)\n\u001B[1;32m-> 3026\u001B[0m rv \u001B[38;5;241m=\u001B[39m \u001B[38;5;28;43mself\u001B[39;49m\u001B[38;5;241;43m.\u001B[39;49m\u001B[43msubs\u001B[49m\u001B[43m(\u001B[49m\u001B[43mx\u001B[49m\u001B[43m,\u001B[49m\u001B[43m \u001B[49m\u001B[43mxpos\u001B[49m\u001B[43m)\u001B[49m\u001B[38;5;241;43m.\u001B[39;49m\u001B[43mseries\u001B[49m\u001B[43m(\u001B[49m\u001B[43mxpos\u001B[49m\u001B[43m,\u001B[49m\u001B[43m \u001B[49m\u001B[43mx0\u001B[49m\u001B[43m,\u001B[49m\u001B[43m \u001B[49m\u001B[43mn\u001B[49m\u001B[43m,\u001B[49m\u001B[43m \u001B[49m\u001B[38;5;28;43mdir\u001B[39;49m\u001B[43m,\u001B[49m\u001B[43m \u001B[49m\u001B[43mlogx\u001B[49m\u001B[38;5;241;43m=\u001B[39;49m\u001B[43mlogx\u001B[49m\u001B[43m,\u001B[49m\u001B[43m \u001B[49m\u001B[43mcdir\u001B[49m\u001B[38;5;241;43m=\u001B[39;49m\u001B[43mcdir\u001B[49m\u001B[43m)\u001B[49m\n\u001B[0;32m   3027\u001B[0m \u001B[38;5;28;01mif\u001B[39;00m n \u001B[38;5;129;01mis\u001B[39;00m \u001B[38;5;28;01mNone\u001B[39;00m:\n",
      "File \u001B[1;32m~\\AppData\\Local\\Programs\\Python\\Python312\\Lib\\site-packages\\sympy\\core\\expr.py:3034\u001B[0m, in \u001B[0;36mExpr.series\u001B[1;34m(self, x, x0, n, dir, logx, cdir)\u001B[0m\n\u001B[0;32m   3033\u001B[0m \u001B[38;5;28;01mif\u001B[39;00m n \u001B[38;5;129;01mis\u001B[39;00m \u001B[38;5;129;01mnot\u001B[39;00m \u001B[38;5;28;01mNone\u001B[39;00m:  \u001B[38;5;66;03m# nseries handling\u001B[39;00m\n\u001B[1;32m-> 3034\u001B[0m     s1 \u001B[38;5;241m=\u001B[39m \u001B[38;5;28;43mself\u001B[39;49m\u001B[38;5;241;43m.\u001B[39;49m\u001B[43m_eval_nseries\u001B[49m\u001B[43m(\u001B[49m\u001B[43mx\u001B[49m\u001B[43m,\u001B[49m\u001B[43m \u001B[49m\u001B[43mn\u001B[49m\u001B[38;5;241;43m=\u001B[39;49m\u001B[43mn\u001B[49m\u001B[43m,\u001B[49m\u001B[43m \u001B[49m\u001B[43mlogx\u001B[49m\u001B[38;5;241;43m=\u001B[39;49m\u001B[43mlogx\u001B[49m\u001B[43m,\u001B[49m\u001B[43m \u001B[49m\u001B[43mcdir\u001B[49m\u001B[38;5;241;43m=\u001B[39;49m\u001B[43mcdir\u001B[49m\u001B[43m)\u001B[49m\n\u001B[0;32m   3035\u001B[0m     o \u001B[38;5;241m=\u001B[39m s1\u001B[38;5;241m.\u001B[39mgetO() \u001B[38;5;129;01mor\u001B[39;00m S\u001B[38;5;241m.\u001B[39mZero\n",
      "File \u001B[1;32m~\\AppData\\Local\\Programs\\Python\\Python312\\Lib\\site-packages\\sympy\\core\\function.py:690\u001B[0m, in \u001B[0;36mFunction._eval_nseries\u001B[1;34m(self, x, n, logx, cdir)\u001B[0m\n\u001B[0;32m    689\u001B[0m \u001B[38;5;28;01mif\u001B[39;00m \u001B[38;5;28many\u001B[39m(t\u001B[38;5;241m.\u001B[39mhas(oo, \u001B[38;5;241m-\u001B[39moo, zoo, nan) \u001B[38;5;28;01mfor\u001B[39;00m t \u001B[38;5;129;01min\u001B[39;00m a0):\n\u001B[1;32m--> 690\u001B[0m     \u001B[38;5;28;01mreturn\u001B[39;00m \u001B[38;5;28;43mself\u001B[39;49m\u001B[38;5;241;43m.\u001B[39;49m\u001B[43m_eval_aseries\u001B[49m\u001B[43m(\u001B[49m\u001B[43mn\u001B[49m\u001B[43m,\u001B[49m\u001B[43m \u001B[49m\u001B[43margs0\u001B[49m\u001B[43m,\u001B[49m\u001B[43m \u001B[49m\u001B[43mx\u001B[49m\u001B[43m,\u001B[49m\u001B[43m \u001B[49m\u001B[43mlogx\u001B[49m\u001B[43m)\u001B[49m\n\u001B[0;32m    691\u001B[0m \u001B[38;5;66;03m# Careful: the argument goes to oo, but only logarithmically so. We\u001B[39;00m\n\u001B[0;32m    692\u001B[0m \u001B[38;5;66;03m# are supposed to do a power series expansion \"around the\u001B[39;00m\n\u001B[0;32m    693\u001B[0m \u001B[38;5;66;03m# logarithmic term\". e.g.\u001B[39;00m\n\u001B[0;32m    694\u001B[0m \u001B[38;5;66;03m#      f(1+x+log(x))\u001B[39;00m\n\u001B[0;32m    695\u001B[0m \u001B[38;5;66;03m#     -> f(1+logx) + x*f'(1+logx) + O(x**2)\u001B[39;00m\n\u001B[0;32m    696\u001B[0m \u001B[38;5;66;03m# where 'logx' is given in the argument\u001B[39;00m\n",
      "File \u001B[1;32m~\\AppData\\Local\\Programs\\Python\\Python312\\Lib\\site-packages\\sympy\\core\\function.py:653\u001B[0m, in \u001B[0;36mFunction._eval_aseries\u001B[1;34m(self, n, args0, x, logx)\u001B[0m\n\u001B[0;32m    647\u001B[0m \u001B[38;5;250m\u001B[39m\u001B[38;5;124;03m\"\"\"\u001B[39;00m\n\u001B[0;32m    648\u001B[0m \u001B[38;5;124;03mCompute an asymptotic expansion around args0, in terms of self.args.\u001B[39;00m\n\u001B[0;32m    649\u001B[0m \u001B[38;5;124;03mThis function is only used internally by _eval_nseries and should not\u001B[39;00m\n\u001B[0;32m    650\u001B[0m \u001B[38;5;124;03mbe called directly; derived classes can overwrite this to implement\u001B[39;00m\n\u001B[0;32m    651\u001B[0m \u001B[38;5;124;03masymptotic expansions.\u001B[39;00m\n\u001B[0;32m    652\u001B[0m \u001B[38;5;124;03m\"\"\"\u001B[39;00m\n\u001B[1;32m--> 653\u001B[0m \u001B[38;5;28;01mraise\u001B[39;00m PoleError(filldedent(\u001B[38;5;124m'''\u001B[39m\n\u001B[0;32m    654\u001B[0m \u001B[38;5;124m    Asymptotic expansion of \u001B[39m\u001B[38;5;132;01m%s\u001B[39;00m\u001B[38;5;124m around \u001B[39m\u001B[38;5;132;01m%s\u001B[39;00m\u001B[38;5;124m is\u001B[39m\n\u001B[0;32m    655\u001B[0m \u001B[38;5;124m    not implemented.\u001B[39m\u001B[38;5;124m'''\u001B[39m \u001B[38;5;241m%\u001B[39m (\u001B[38;5;28mtype\u001B[39m(\u001B[38;5;28mself\u001B[39m), args0)))\n",
      "\u001B[1;31mPoleError\u001B[0m: \nAsymptotic expansion of tanh around [oo] is not implemented.",
      "\nDuring handling of the above exception, another exception occurred:\n",
      "\u001B[1;31mPoleError\u001B[0m                                 Traceback (most recent call last)",
      "Cell \u001B[1;32mIn[35], line 1\u001B[0m\n\u001B[1;32m----> 1\u001B[0m \u001B[43mnull\u001B[49m\u001B[38;5;241;43m.\u001B[39;49m\u001B[43mseries\u001B[49m\u001B[43m(\u001B[49m\u001B[43mx\u001B[49m\u001B[43m,\u001B[49m\u001B[43moo\u001B[49m\u001B[43m,\u001B[49m\u001B[43mn\u001B[49m\u001B[38;5;241;43m=\u001B[39;49m\u001B[38;5;241;43m8\u001B[39;49m\u001B[43m)\u001B[49m\n",
      "File \u001B[1;32m~\\AppData\\Local\\Programs\\Python\\Python312\\Lib\\site-packages\\sympy\\core\\expr.py:3010\u001B[0m, in \u001B[0;36mExpr.series\u001B[1;34m(self, x, x0, n, dir, logx, cdir)\u001B[0m\n\u001B[0;32m   3008\u001B[0m         \u001B[38;5;28;01mreturn\u001B[39;00m s\u001B[38;5;241m.\u001B[39msubs(x, cdir\u001B[38;5;241m/\u001B[39mx)\n\u001B[0;32m   3009\u001B[0m     \u001B[38;5;28;01mexcept\u001B[39;00m PoleError:\n\u001B[1;32m-> 3010\u001B[0m         s \u001B[38;5;241m=\u001B[39m \u001B[38;5;28;43mself\u001B[39;49m\u001B[38;5;241;43m.\u001B[39;49m\u001B[43msubs\u001B[49m\u001B[43m(\u001B[49m\u001B[43mx\u001B[49m\u001B[43m,\u001B[49m\u001B[43m \u001B[49m\u001B[43mcdir\u001B[49m\u001B[38;5;241;43m*\u001B[39;49m\u001B[43mx\u001B[49m\u001B[43m)\u001B[49m\u001B[38;5;241;43m.\u001B[39;49m\u001B[43maseries\u001B[49m\u001B[43m(\u001B[49m\u001B[43mx\u001B[49m\u001B[43m,\u001B[49m\u001B[43m \u001B[49m\u001B[43mn\u001B[49m\u001B[38;5;241;43m=\u001B[39;49m\u001B[43mn\u001B[49m\u001B[43m)\u001B[49m\n\u001B[0;32m   3011\u001B[0m         \u001B[38;5;28;01mreturn\u001B[39;00m s\u001B[38;5;241m.\u001B[39msubs(x, cdir\u001B[38;5;241m*\u001B[39mx)\n\u001B[0;32m   3013\u001B[0m \u001B[38;5;66;03m# use rep to shift origin to x0 and change sign (if dir is negative)\u001B[39;00m\n\u001B[0;32m   3014\u001B[0m \u001B[38;5;66;03m# and undo the process with rep2\u001B[39;00m\n",
      "File \u001B[1;32m~\\AppData\\Local\\Programs\\Python\\Python312\\Lib\\site-packages\\sympy\\core\\expr.py:3209\u001B[0m, in \u001B[0;36mExpr.aseries\u001B[1;34m(self, x, n, bound, hir)\u001B[0m\n\u001B[0;32m   3207\u001B[0m \u001B[38;5;28;01mif\u001B[39;00m x\u001B[38;5;241m.\u001B[39mis_positive \u001B[38;5;129;01mis\u001B[39;00m x\u001B[38;5;241m.\u001B[39mis_negative \u001B[38;5;129;01mis\u001B[39;00m \u001B[38;5;28;01mNone\u001B[39;00m:\n\u001B[0;32m   3208\u001B[0m     xpos \u001B[38;5;241m=\u001B[39m Dummy(\u001B[38;5;124m'\u001B[39m\u001B[38;5;124mx\u001B[39m\u001B[38;5;124m'\u001B[39m, positive\u001B[38;5;241m=\u001B[39m\u001B[38;5;28;01mTrue\u001B[39;00m)\n\u001B[1;32m-> 3209\u001B[0m     \u001B[38;5;28;01mreturn\u001B[39;00m \u001B[38;5;28;43mself\u001B[39;49m\u001B[38;5;241;43m.\u001B[39;49m\u001B[43msubs\u001B[49m\u001B[43m(\u001B[49m\u001B[43mx\u001B[49m\u001B[43m,\u001B[49m\u001B[43m \u001B[49m\u001B[43mxpos\u001B[49m\u001B[43m)\u001B[49m\u001B[38;5;241;43m.\u001B[39;49m\u001B[43maseries\u001B[49m\u001B[43m(\u001B[49m\u001B[43mxpos\u001B[49m\u001B[43m,\u001B[49m\u001B[43m \u001B[49m\u001B[43mn\u001B[49m\u001B[43m,\u001B[49m\u001B[43m \u001B[49m\u001B[43mbound\u001B[49m\u001B[43m,\u001B[49m\u001B[43m \u001B[49m\u001B[43mhir\u001B[49m\u001B[43m)\u001B[49m\u001B[38;5;241m.\u001B[39msubs(xpos, x)\n\u001B[0;32m   3211\u001B[0m \u001B[38;5;28;01mfrom\u001B[39;00m \u001B[38;5;21;01m.\u001B[39;00m\u001B[38;5;21;01mfunction\u001B[39;00m \u001B[38;5;28;01mimport\u001B[39;00m PoleError\n\u001B[0;32m   3212\u001B[0m \u001B[38;5;28;01mfrom\u001B[39;00m \u001B[38;5;21;01msympy\u001B[39;00m\u001B[38;5;21;01m.\u001B[39;00m\u001B[38;5;21;01mseries\u001B[39;00m\u001B[38;5;21;01m.\u001B[39;00m\u001B[38;5;21;01mgruntz\u001B[39;00m \u001B[38;5;28;01mimport\u001B[39;00m mrv, rewrite\n",
      "File \u001B[1;32m~\\AppData\\Local\\Programs\\Python\\Python312\\Lib\\site-packages\\sympy\\core\\expr.py:3227\u001B[0m, in \u001B[0;36mExpr.aseries\u001B[1;34m(self, x, n, bound, hir)\u001B[0m\n\u001B[0;32m   3224\u001B[0m \u001B[38;5;28;01mfrom\u001B[39;00m \u001B[38;5;21;01msympy\u001B[39;00m\u001B[38;5;21;01m.\u001B[39;00m\u001B[38;5;21;01mseries\u001B[39;00m\u001B[38;5;21;01m.\u001B[39;00m\u001B[38;5;21;01morder\u001B[39;00m \u001B[38;5;28;01mimport\u001B[39;00m Order\n\u001B[0;32m   3226\u001B[0m \u001B[38;5;28;01mif\u001B[39;00m x \u001B[38;5;129;01min\u001B[39;00m om:\n\u001B[1;32m-> 3227\u001B[0m     s \u001B[38;5;241m=\u001B[39m \u001B[38;5;28;43mself\u001B[39;49m\u001B[38;5;241;43m.\u001B[39;49m\u001B[43msubs\u001B[49m\u001B[43m(\u001B[49m\u001B[43mx\u001B[49m\u001B[43m,\u001B[49m\u001B[43m \u001B[49m\u001B[43mexp\u001B[49m\u001B[43m(\u001B[49m\u001B[43mx\u001B[49m\u001B[43m)\u001B[49m\u001B[43m)\u001B[49m\u001B[38;5;241;43m.\u001B[39;49m\u001B[43maseries\u001B[49m\u001B[43m(\u001B[49m\u001B[43mx\u001B[49m\u001B[43m,\u001B[49m\u001B[43m \u001B[49m\u001B[43mn\u001B[49m\u001B[43m,\u001B[49m\u001B[43m \u001B[49m\u001B[43mbound\u001B[49m\u001B[43m,\u001B[49m\u001B[43m \u001B[49m\u001B[43mhir\u001B[49m\u001B[43m)\u001B[49m\u001B[38;5;241m.\u001B[39msubs(x, log(x))\n\u001B[0;32m   3228\u001B[0m     \u001B[38;5;28;01mif\u001B[39;00m s\u001B[38;5;241m.\u001B[39mgetO():\n\u001B[0;32m   3229\u001B[0m         \u001B[38;5;28;01mreturn\u001B[39;00m s \u001B[38;5;241m+\u001B[39m Order(\u001B[38;5;241m1\u001B[39m\u001B[38;5;241m/\u001B[39mx\u001B[38;5;241m*\u001B[39m\u001B[38;5;241m*\u001B[39mn, (x, S\u001B[38;5;241m.\u001B[39mInfinity))\n",
      "File \u001B[1;32m~\\AppData\\Local\\Programs\\Python\\Python312\\Lib\\site-packages\\sympy\\core\\expr.py:3249\u001B[0m, in \u001B[0;36mExpr.aseries\u001B[1;34m(self, x, n, bound, hir)\u001B[0m\n\u001B[0;32m   3246\u001B[0m     func \u001B[38;5;241m=\u001B[39m exp(\u001B[38;5;28mself\u001B[39m\u001B[38;5;241m.\u001B[39margs[\u001B[38;5;241m0\u001B[39m] \u001B[38;5;241m-\u001B[39m res\u001B[38;5;241m.\u001B[39margs[\u001B[38;5;241m0\u001B[39m]) \u001B[38;5;241m/\u001B[39m k\n\u001B[0;32m   3247\u001B[0m     logw \u001B[38;5;241m=\u001B[39m log(\u001B[38;5;241m1\u001B[39m\u001B[38;5;241m/\u001B[39mres)\n\u001B[1;32m-> 3249\u001B[0m s \u001B[38;5;241m=\u001B[39m \u001B[43mfunc\u001B[49m\u001B[38;5;241;43m.\u001B[39;49m\u001B[43mseries\u001B[49m\u001B[43m(\u001B[49m\u001B[43mk\u001B[49m\u001B[43m,\u001B[49m\u001B[43m \u001B[49m\u001B[38;5;241;43m0\u001B[39;49m\u001B[43m,\u001B[49m\u001B[43m \u001B[49m\u001B[43mn\u001B[49m\u001B[43m)\u001B[49m\n\u001B[0;32m   3251\u001B[0m \u001B[38;5;66;03m# Hierarchical series\u001B[39;00m\n\u001B[0;32m   3252\u001B[0m \u001B[38;5;28;01mif\u001B[39;00m hir:\n",
      "File \u001B[1;32m~\\AppData\\Local\\Programs\\Python\\Python312\\Lib\\site-packages\\sympy\\core\\expr.py:3034\u001B[0m, in \u001B[0;36mExpr.series\u001B[1;34m(self, x, x0, n, dir, logx, cdir)\u001B[0m\n\u001B[0;32m   3032\u001B[0m \u001B[38;5;28;01mfrom\u001B[39;00m \u001B[38;5;21;01msympy\u001B[39;00m\u001B[38;5;21;01m.\u001B[39;00m\u001B[38;5;21;01mseries\u001B[39;00m\u001B[38;5;21;01m.\u001B[39;00m\u001B[38;5;21;01morder\u001B[39;00m \u001B[38;5;28;01mimport\u001B[39;00m Order\n\u001B[0;32m   3033\u001B[0m \u001B[38;5;28;01mif\u001B[39;00m n \u001B[38;5;129;01mis\u001B[39;00m \u001B[38;5;129;01mnot\u001B[39;00m \u001B[38;5;28;01mNone\u001B[39;00m:  \u001B[38;5;66;03m# nseries handling\u001B[39;00m\n\u001B[1;32m-> 3034\u001B[0m     s1 \u001B[38;5;241m=\u001B[39m \u001B[38;5;28;43mself\u001B[39;49m\u001B[38;5;241;43m.\u001B[39;49m\u001B[43m_eval_nseries\u001B[49m\u001B[43m(\u001B[49m\u001B[43mx\u001B[49m\u001B[43m,\u001B[49m\u001B[43m \u001B[49m\u001B[43mn\u001B[49m\u001B[38;5;241;43m=\u001B[39;49m\u001B[43mn\u001B[49m\u001B[43m,\u001B[49m\u001B[43m \u001B[49m\u001B[43mlogx\u001B[49m\u001B[38;5;241;43m=\u001B[39;49m\u001B[43mlogx\u001B[49m\u001B[43m,\u001B[49m\u001B[43m \u001B[49m\u001B[43mcdir\u001B[49m\u001B[38;5;241;43m=\u001B[39;49m\u001B[43mcdir\u001B[49m\u001B[43m)\u001B[49m\n\u001B[0;32m   3035\u001B[0m     o \u001B[38;5;241m=\u001B[39m s1\u001B[38;5;241m.\u001B[39mgetO() \u001B[38;5;129;01mor\u001B[39;00m S\u001B[38;5;241m.\u001B[39mZero\n\u001B[0;32m   3036\u001B[0m     \u001B[38;5;28;01mif\u001B[39;00m o:\n\u001B[0;32m   3037\u001B[0m         \u001B[38;5;66;03m# make sure the requested order is returned\u001B[39;00m\n",
      "File \u001B[1;32m~\\AppData\\Local\\Programs\\Python\\Python312\\Lib\\site-packages\\sympy\\core\\function.py:690\u001B[0m, in \u001B[0;36mFunction._eval_nseries\u001B[1;34m(self, x, n, logx, cdir)\u001B[0m\n\u001B[0;32m    688\u001B[0m a0 \u001B[38;5;241m=\u001B[39m [t\u001B[38;5;241m.\u001B[39mlimit(x, \u001B[38;5;241m0\u001B[39m) \u001B[38;5;28;01mfor\u001B[39;00m t \u001B[38;5;129;01min\u001B[39;00m a]\n\u001B[0;32m    689\u001B[0m \u001B[38;5;28;01mif\u001B[39;00m \u001B[38;5;28many\u001B[39m(t\u001B[38;5;241m.\u001B[39mhas(oo, \u001B[38;5;241m-\u001B[39moo, zoo, nan) \u001B[38;5;28;01mfor\u001B[39;00m t \u001B[38;5;129;01min\u001B[39;00m a0):\n\u001B[1;32m--> 690\u001B[0m     \u001B[38;5;28;01mreturn\u001B[39;00m \u001B[38;5;28;43mself\u001B[39;49m\u001B[38;5;241;43m.\u001B[39;49m\u001B[43m_eval_aseries\u001B[49m\u001B[43m(\u001B[49m\u001B[43mn\u001B[49m\u001B[43m,\u001B[49m\u001B[43m \u001B[49m\u001B[43margs0\u001B[49m\u001B[43m,\u001B[49m\u001B[43m \u001B[49m\u001B[43mx\u001B[49m\u001B[43m,\u001B[49m\u001B[43m \u001B[49m\u001B[43mlogx\u001B[49m\u001B[43m)\u001B[49m\n\u001B[0;32m    691\u001B[0m \u001B[38;5;66;03m# Careful: the argument goes to oo, but only logarithmically so. We\u001B[39;00m\n\u001B[0;32m    692\u001B[0m \u001B[38;5;66;03m# are supposed to do a power series expansion \"around the\u001B[39;00m\n\u001B[0;32m    693\u001B[0m \u001B[38;5;66;03m# logarithmic term\". e.g.\u001B[39;00m\n\u001B[0;32m    694\u001B[0m \u001B[38;5;66;03m#      f(1+x+log(x))\u001B[39;00m\n\u001B[0;32m    695\u001B[0m \u001B[38;5;66;03m#     -> f(1+logx) + x*f'(1+logx) + O(x**2)\u001B[39;00m\n\u001B[0;32m    696\u001B[0m \u001B[38;5;66;03m# where 'logx' is given in the argument\u001B[39;00m\n\u001B[0;32m    697\u001B[0m a \u001B[38;5;241m=\u001B[39m [t\u001B[38;5;241m.\u001B[39m_eval_nseries(x, n, logx) \u001B[38;5;28;01mfor\u001B[39;00m t \u001B[38;5;129;01min\u001B[39;00m args]\n",
      "File \u001B[1;32m~\\AppData\\Local\\Programs\\Python\\Python312\\Lib\\site-packages\\sympy\\core\\function.py:653\u001B[0m, in \u001B[0;36mFunction._eval_aseries\u001B[1;34m(self, n, args0, x, logx)\u001B[0m\n\u001B[0;32m    646\u001B[0m \u001B[38;5;28;01mdef\u001B[39;00m \u001B[38;5;21m_eval_aseries\u001B[39m(\u001B[38;5;28mself\u001B[39m, n, args0, x, logx):\n\u001B[0;32m    647\u001B[0m \u001B[38;5;250m    \u001B[39m\u001B[38;5;124;03m\"\"\"\u001B[39;00m\n\u001B[0;32m    648\u001B[0m \u001B[38;5;124;03m    Compute an asymptotic expansion around args0, in terms of self.args.\u001B[39;00m\n\u001B[0;32m    649\u001B[0m \u001B[38;5;124;03m    This function is only used internally by _eval_nseries and should not\u001B[39;00m\n\u001B[0;32m    650\u001B[0m \u001B[38;5;124;03m    be called directly; derived classes can overwrite this to implement\u001B[39;00m\n\u001B[0;32m    651\u001B[0m \u001B[38;5;124;03m    asymptotic expansions.\u001B[39;00m\n\u001B[0;32m    652\u001B[0m \u001B[38;5;124;03m    \"\"\"\u001B[39;00m\n\u001B[1;32m--> 653\u001B[0m     \u001B[38;5;28;01mraise\u001B[39;00m PoleError(filldedent(\u001B[38;5;124m'''\u001B[39m\n\u001B[0;32m    654\u001B[0m \u001B[38;5;124m        Asymptotic expansion of \u001B[39m\u001B[38;5;132;01m%s\u001B[39;00m\u001B[38;5;124m around \u001B[39m\u001B[38;5;132;01m%s\u001B[39;00m\u001B[38;5;124m is\u001B[39m\n\u001B[0;32m    655\u001B[0m \u001B[38;5;124m        not implemented.\u001B[39m\u001B[38;5;124m'''\u001B[39m \u001B[38;5;241m%\u001B[39m (\u001B[38;5;28mtype\u001B[39m(\u001B[38;5;28mself\u001B[39m), args0)))\n",
      "\u001B[1;31mPoleError\u001B[0m: \nAsymptotic expansion of tanh around [oo] is not implemented."
     ]
    }
   ],
   "execution_count": 35
  },
  {
   "metadata": {
    "ExecuteTime": {
     "end_time": "2024-05-17T22:13:30.372546Z",
     "start_time": "2024-05-17T22:13:30.288982Z"
    }
   },
   "cell_type": "code",
   "source": "exp(-x).series(x, oo)",
   "id": "ab22da5d9bcd7cfc",
   "outputs": [
    {
     "data": {
      "text/plain": [
       "O(x**(-6), (x, oo))"
      ],
      "text/latex": "$\\displaystyle O\\left(\\frac{1}{x^{6}}; x\\rightarrow \\infty\\right)$"
     },
     "execution_count": 40,
     "metadata": {},
     "output_type": "execute_result"
    }
   ],
   "execution_count": 40
  },
  {
   "metadata": {},
   "cell_type": "markdown",
   "source": "Turns out that sympy series only works with powers of x not powers of exp(x)",
   "id": "679dff70f726d4ae"
  },
  {
   "metadata": {
    "ExecuteTime": {
     "end_time": "2024-05-17T22:20:14.646434Z",
     "start_time": "2024-05-17T22:20:14.639559Z"
    }
   },
   "cell_type": "code",
   "source": "tanh(x).series(exp(x))",
   "id": "bcebf73271f0f6a8",
   "outputs": [
    {
     "data": {
      "text/plain": [
       "tanh(x)"
      ],
      "text/latex": "$\\displaystyle \\tanh{\\left(x \\right)}$"
     },
     "execution_count": 45,
     "metadata": {},
     "output_type": "execute_result"
    }
   ],
   "execution_count": 45
  },
  {
   "metadata": {
    "ExecuteTime": {
     "end_time": "2024-05-17T22:21:45.611137Z",
     "start_time": "2024-05-17T22:21:45.467159Z"
    }
   },
   "cell_type": "code",
   "source": [
    "w = Symbol('w')\n",
    "((w - 1/w) / (w + 1/w)).series(w,oo,10)"
   ],
   "id": "35b7923d1763fe8d",
   "outputs": [
    {
     "data": {
      "text/plain": [
       "2/w**8 - 2/w**6 + 2/w**4 - 2/w**2 + 1 + O(w**(-10), (w, oo))"
      ],
      "text/latex": "$\\displaystyle \\frac{2}{w^{8}} - \\frac{2}{w^{6}} + \\frac{2}{w^{4}} - \\frac{2}{w^{2}} + 1 + O\\left(\\frac{1}{w^{10}}; w\\rightarrow \\infty\\right)$"
     },
     "execution_count": 48,
     "metadata": {},
     "output_type": "execute_result"
    }
   ],
   "execution_count": 48
  },
  {
   "metadata": {
    "ExecuteTime": {
     "end_time": "2024-05-17T22:22:47.820436Z",
     "start_time": "2024-05-17T22:22:47.813383Z"
    }
   },
   "cell_type": "code",
   "source": "(1 - 2/w**2).subs(w,exp(x))",
   "id": "3c141c79635c9d1f",
   "outputs": [
    {
     "data": {
      "text/plain": [
       "1 - 2*exp(-2*x)"
      ],
      "text/latex": "$\\displaystyle 1 - 2 e^{- 2 x}$"
     },
     "execution_count": 50,
     "metadata": {},
     "output_type": "execute_result"
    }
   ],
   "execution_count": 50
  },
  {
   "metadata": {
    "ExecuteTime": {
     "end_time": "2024-05-17T22:23:49.597548Z",
     "start_time": "2024-05-17T22:23:49.591909Z"
    }
   },
   "cell_type": "code",
   "source": "null ** 2",
   "id": "d73c05539c6d9e88",
   "outputs": [
    {
     "data": {
      "text/plain": [
       "tanh(x)**2"
      ],
      "text/latex": "$\\displaystyle \\tanh^{2}{\\left(x \\right)}$"
     },
     "execution_count": 52,
     "metadata": {},
     "output_type": "execute_result"
    }
   ],
   "execution_count": 52
  },
  {
   "metadata": {
    "ExecuteTime": {
     "end_time": "2024-05-17T22:27:11.013078Z",
     "start_time": "2024-05-17T22:27:11.006806Z"
    }
   },
   "cell_type": "code",
   "source": [
    "nullLeft = x\n",
    "nullRight = exp(-x)\n",
    "nullProd = nullLeft * nullRight\n",
    "nullProd"
   ],
   "id": "25d090567928ba85",
   "outputs": [
    {
     "data": {
      "text/plain": [
       "x*exp(-x)"
      ],
      "text/latex": "$\\displaystyle x e^{- x}$"
     },
     "execution_count": 55,
     "metadata": {},
     "output_type": "execute_result"
    }
   ],
   "execution_count": 55
  },
  {
   "metadata": {
    "ExecuteTime": {
     "end_time": "2024-05-17T22:28:04.528468Z",
     "start_time": "2024-05-17T22:28:04.519572Z"
    }
   },
   "cell_type": "code",
   "source": "diff(nullProd,x).factor()",
   "id": "44246ac4ac5304e",
   "outputs": [
    {
     "data": {
      "text/plain": [
       "-(x - 1)*exp(-x)"
      ],
      "text/latex": "$\\displaystyle - \\left(x - 1\\right) e^{- x}$"
     },
     "execution_count": 57,
     "metadata": {},
     "output_type": "execute_result"
    }
   ],
   "execution_count": 57
  },
  {
   "metadata": {},
   "cell_type": "markdown",
   "source": [
    "## Criteria\n",
    "\n",
    "This is form Theorem 4.4.1 in Stanger"
   ],
   "id": "21c91c8d4bc3f90"
  },
  {
   "metadata": {
    "ExecuteTime": {
     "end_time": "2024-05-17T22:57:15.890642Z",
     "start_time": "2024-05-17T22:57:15.883397Z"
    }
   },
   "cell_type": "code",
   "source": [
    "g = Function('g')\n",
    "S = Function('S')\n",
    "phi = Function('phi')\n",
    "\n",
    "temp = g(x) * S(phi(x))\n",
    "temp"
   ],
   "id": "f1052b6a64c16f42",
   "outputs": [
    {
     "data": {
      "text/plain": [
       "S(phi(x))*g(x)"
      ],
      "text/latex": "$\\displaystyle S{\\left(\\phi{\\left(x \\right)} \\right)} g{\\left(x \\right)}$"
     },
     "execution_count": 60,
     "metadata": {},
     "output_type": "execute_result"
    }
   ],
   "execution_count": 60
  },
  {
   "metadata": {
    "ExecuteTime": {
     "end_time": "2024-05-17T22:57:24.593728Z",
     "start_time": "2024-05-17T22:57:24.577284Z"
    }
   },
   "cell_type": "code",
   "source": "diff(temp,x)",
   "id": "a1e98b80e567bfe",
   "outputs": [
    {
     "data": {
      "text/plain": [
       "S(phi(x))*Derivative(g(x), x) + g(x)*Derivative(S(phi(x)), phi(x))*Derivative(phi(x), x)"
      ],
      "text/latex": "$\\displaystyle S{\\left(\\phi{\\left(x \\right)} \\right)} \\frac{d}{d x} g{\\left(x \\right)} + g{\\left(x \\right)} \\frac{d}{d \\phi{\\left(x \\right)}} S{\\left(\\phi{\\left(x \\right)} \\right)} \\frac{d}{d x} \\phi{\\left(x \\right)}$"
     },
     "execution_count": 61,
     "metadata": {},
     "output_type": "execute_result"
    }
   ],
   "execution_count": 61
  },
  {
   "metadata": {
    "ExecuteTime": {
     "end_time": "2024-05-17T23:00:14.704753Z",
     "start_time": "2024-05-17T23:00:14.697026Z"
    }
   },
   "cell_type": "code",
   "source": "diff(S(phi(x)), x)",
   "id": "2736b03b7679fb2c",
   "outputs": [
    {
     "data": {
      "text/plain": [
       "Derivative(S(phi(x)), phi(x))*Derivative(phi(x), x)"
      ],
      "text/latex": "$\\displaystyle \\frac{d}{d \\phi{\\left(x \\right)}} S{\\left(\\phi{\\left(x \\right)} \\right)} \\frac{d}{d x} \\phi{\\left(x \\right)}$"
     },
     "execution_count": 63,
     "metadata": {},
     "output_type": "execute_result"
    }
   ],
   "execution_count": 63
  },
  {
   "metadata": {
    "ExecuteTime": {
     "end_time": "2024-05-17T23:02:32.358573Z",
     "start_time": "2024-05-17T23:02:32.352631Z"
    }
   },
   "cell_type": "code",
   "source": "diff(log(sinh(x)), x)",
   "id": "5db276d8a9688ce1",
   "outputs": [
    {
     "data": {
      "text/plain": [
       "cosh(x)/sinh(x)"
      ],
      "text/latex": "$\\displaystyle \\frac{\\cosh{\\left(x \\right)}}{\\sinh{\\left(x \\right)}}$"
     },
     "execution_count": 64,
     "metadata": {},
     "output_type": "execute_result"
    }
   ],
   "execution_count": 64
  },
  {
   "metadata": {
    "ExecuteTime": {
     "end_time": "2024-05-17T23:08:02.881211Z",
     "start_time": "2024-05-17T23:08:02.550429Z"
    }
   },
   "cell_type": "code",
   "source": [
    "xL = [(k + 0.5) / nPlot for k in range(nPlot)]\n",
    "phi1 = [coth(x).subs(x,xV).evalf() for xV in xL]\n",
    "plot.plot(xL,phi1)"
   ],
   "id": "71f3bb4f59e3984c",
   "outputs": [
    {
     "data": {
      "text/plain": [
       "[<matplotlib.lines.Line2D at 0x2eca8d0c230>]"
      ]
     },
     "execution_count": 79,
     "metadata": {},
     "output_type": "execute_result"
    },
    {
     "data": {
      "text/plain": [
       "<Figure size 640x480 with 1 Axes>"
      ],
      "image/png": "[encoded data removed]"
     },
     "metadata": {},
     "output_type": "display_data"
    }
   ],
   "execution_count": 79
  },
  {
   "metadata": {},
   "cell_type": "markdown",
   "source": [
    "NullLeft should be x, but NullRight should be 1.\n",
    "\n",
    "It is the reciprocal of the series of diff(phi(x),x) at the ends of the region, even when the \n",
    "region is semi-infinite."
   ],
   "id": "750276b20ae9a188"
  },
  {
   "metadata": {},
   "cell_type": "code",
   "outputs": [],
   "execution_count": null,
   "source": "",
   "id": "3dbe256462098c70"
  }
 ],
 "metadata": {
  "kernelspec": {
   "display_name": "Python 3",
   "language": "python",
   "name": "python3"
  },
  "language_info": {
   "codemirror_mode": {
    "name": "ipython",
    "version": 2
   },
   "file_extension": ".py",
   "mimetype": "text/x-python",
   "name": "python",
   "nbconvert_exporter": "python",
   "pygments_lexer": "ipython2",
   "version": "2.7.6"
  }
 },
 "nbformat": 4,
 "nbformat_minor": 5
}
